{
  "nbformat": 4,
  "nbformat_minor": 0,
  "metadata": {
    "colab": {
      "provenance": [],
      "gpuType": "T4"
    },
    "kernelspec": {
      "name": "python3",
      "display_name": "Python 3"
    },
    "language_info": {
      "name": "python"
    },
    "accelerator": "GPU"
  },
  "cells": [
    {
      "cell_type": "markdown",
      "source": [
        "**Build a CNN Based Classifier for Classifying the handwritten digits.**\n",
        "\n",
        "**Requirements:**\n",
        "*   Five Number of Convolutional 2D Layers starting with 1024 filters.\n",
        "*   Kernel size 3 x 3\n",
        "*   Two Average Pooling Layers, Each after two Convolutional 2D layers.\n",
        "*   Stride 1\n",
        "*   Padding ‘valid’\n",
        "*   Optimizer Adam\n",
        "*   Loss function catagorical_crossentropy\n"
      ],
      "metadata": {
        "id": "irMXJs86bT3m"
      }
    },
    {
      "cell_type": "code",
      "execution_count": 1,
      "metadata": {
        "id": "HDl2trq_bFjo"
      },
      "outputs": [],
      "source": [
        "import tensorflow as tf\n",
        "from tensorflow.keras.datasets import mnist\n",
        "from tensorflow.keras.models import Sequential\n",
        "from tensorflow.keras.layers import Conv2D, AveragePooling2D, Flatten, Dense"
      ]
    },
    {
      "cell_type": "code",
      "source": [
        "# Load MNIST dataset\n",
        "(x_train, y_train), (x_test, y_test) = mnist.load_data()"
      ],
      "metadata": {
        "colab": {
          "base_uri": "https://localhost:8080/",
          "height": 0
        },
        "id": "_O4NJ_XXcMd3",
        "outputId": "ba8007e4-a698-4a72-b866-9204dc59c818"
      },
      "execution_count": 2,
      "outputs": [
        {
          "output_type": "stream",
          "name": "stdout",
          "text": [
            "Downloading data from https://storage.googleapis.com/tensorflow/tf-keras-datasets/mnist.npz\n",
            "11490434/11490434 [==============================] - 0s 0us/step\n"
          ]
        }
      ]
    },
    {
      "cell_type": "code",
      "source": [
        "# Preprocess data\n",
        "x_train = x_train.reshape(x_train.shape[0], 28, 28, 1).astype('float32') / 255\n",
        "x_test = x_test.reshape(x_test.shape[0], 28, 28, 1).astype('float32') / 255\n"
      ],
      "metadata": {
        "id": "_WpvjtZCc00X"
      },
      "execution_count": 3,
      "outputs": []
    },
    {
      "cell_type": "code",
      "source": [
        "# One-hot encode labels\n",
        "y_train = tf.keras.utils.to_categorical(y_train, 10)\n",
        "y_test = tf.keras.utils.to_categorical(y_test, 10)"
      ],
      "metadata": {
        "id": "X60q9lAJdUx_"
      },
      "execution_count": 4,
      "outputs": []
    },
    {
      "cell_type": "code",
      "source": [
        "# Define the CNN model\n",
        "model = Sequential()\n",
        "\n",
        "# First convolutional layer\n",
        "model.add(Conv2D(filters=1024, kernel_size=(3, 3), activation='relu', padding='valid', input_shape=(28, 28, 1)))\n",
        "\n",
        "# Second convolutional layer\n",
        "model.add(Conv2D(filters=512, kernel_size=(3, 3), activation='relu', padding='valid'))\n",
        "\n",
        "# First Average pooling layer\n",
        "model.add(AveragePooling2D(pool_size=(2, 2), strides=(1, 1)))\n",
        "\n",
        "# Third convolutional layer\n",
        "model.add(Conv2D(filters=256, kernel_size=(3, 3), activation='relu', padding='valid'))\n",
        "\n",
        "# Fourth  convolutional layer\n",
        "model.add(Conv2D(filters=128, kernel_size=(3, 3), activation='relu', padding='valid'))\n",
        "\n",
        "# Average pooling layer\n",
        "model.add(AveragePooling2D(pool_size=(2, 2), strides=(1, 1)))\n",
        "\n",
        "# Fifth  convolutional layer\n",
        "model.add(Conv2D(filters=64, kernel_size=(3, 3), activation='relu', padding='valid'))\n",
        "\n",
        "# Flatten the output layer\n",
        "model.add(Flatten())\n",
        "\n",
        "# Dense layer for classification\n",
        "model.add(Dense(units=10, activation='softmax'))"
      ],
      "metadata": {
        "id": "UdJtuZSddXlu"
      },
      "execution_count": 5,
      "outputs": []
    },
    {
      "cell_type": "code",
      "source": [
        "# Compile the model\n",
        "model.compile(optimizer='adam', loss='categorical_crossentropy', metrics=['accuracy'])\n"
      ],
      "metadata": {
        "id": "gufs_VPVeuov"
      },
      "execution_count": 6,
      "outputs": []
    },
    {
      "cell_type": "code",
      "source": [
        "# Train the model\n",
        "history=model.fit(x_train, y_train, epochs=5, batch_size=32, validation_data=(x_test, y_test))\n"
      ],
      "metadata": {
        "colab": {
          "base_uri": "https://localhost:8080/",
          "height": 0
        },
        "id": "sxuJoBA4fFJl",
        "outputId": "c7b80d19-c7f1-4aba-c9fe-06ce589e1f55"
      },
      "execution_count": 21,
      "outputs": [
        {
          "output_type": "stream",
          "name": "stdout",
          "text": [
            "Epoch 1/5\n",
            "1875/1875 [==============================] - 130s 70ms/step - loss: 0.0084 - accuracy: 0.9974 - val_loss: 0.0452 - val_accuracy: 0.9889\n",
            "Epoch 2/5\n",
            "1875/1875 [==============================] - 125s 67ms/step - loss: 0.0078 - accuracy: 0.9974 - val_loss: 0.0425 - val_accuracy: 0.9908\n",
            "Epoch 3/5\n",
            "1875/1875 [==============================] - 126s 67ms/step - loss: 0.0069 - accuracy: 0.9979 - val_loss: 0.0394 - val_accuracy: 0.9901\n",
            "Epoch 4/5\n",
            "1875/1875 [==============================] - 126s 67ms/step - loss: 0.0067 - accuracy: 0.9978 - val_loss: 0.0454 - val_accuracy: 0.9890\n",
            "Epoch 5/5\n",
            "1875/1875 [==============================] - 125s 67ms/step - loss: 0.0066 - accuracy: 0.9980 - val_loss: 0.0492 - val_accuracy: 0.9901\n"
          ]
        }
      ]
    },
    {
      "cell_type": "code",
      "source": [
        "# Evaluate the model on test data\n",
        "test_loss, test_acc = model.evaluate(x_test, y_test)\n",
        "print('Test accuracy:', test_acc)"
      ],
      "metadata": {
        "colab": {
          "base_uri": "https://localhost:8080/",
          "height": 0
        },
        "id": "KouZf114fr6T",
        "outputId": "811b2127-dee4-42ab-8282-0a8cf5530f81"
      },
      "execution_count": 22,
      "outputs": [
        {
          "output_type": "stream",
          "name": "stdout",
          "text": [
            "313/313 [==============================] - 6s 20ms/step - loss: 0.0492 - accuracy: 0.9901\n",
            "Test accuracy: 0.9901000261306763\n"
          ]
        }
      ]
    },
    {
      "cell_type": "code",
      "source": [
        "# Save the model (optional)\n",
        "#model.save('mnist_cnn.h5')"
      ],
      "metadata": {
        "colab": {
          "base_uri": "https://localhost:8080/",
          "height": 0
        },
        "id": "GNeGIUx7k7zb",
        "outputId": "06cb23e5-237c-489d-8db8-b742eb7d549e"
      },
      "execution_count": 9,
      "outputs": [
        {
          "output_type": "stream",
          "name": "stderr",
          "text": [
            "/usr/local/lib/python3.10/dist-packages/keras/src/engine/training.py:3103: UserWarning: You are saving your model as an HDF5 file via `model.save()`. This file format is considered legacy. We recommend using instead the native Keras format, e.g. `model.save('my_model.keras')`.\n",
            "  saving_api.save_model(\n"
          ]
        }
      ]
    },
    {
      "cell_type": "code",
      "source": [
        "# Get predictions\n",
        "predictions = model.predict(x_test)"
      ],
      "metadata": {
        "colab": {
          "base_uri": "https://localhost:8080/",
          "height": 0
        },
        "id": "zakFmhqQlGnE",
        "outputId": "c492e50c-4092-495f-b911-faea44b43ede"
      },
      "execution_count": 23,
      "outputs": [
        {
          "output_type": "stream",
          "name": "stdout",
          "text": [
            "313/313 [==============================] - 6s 18ms/step\n"
          ]
        }
      ]
    },
    {
      "cell_type": "code",
      "source": [
        "from sklearn.metrics import confusion_matrix, classification_report\n",
        "import matplotlib.pyplot as plt"
      ],
      "metadata": {
        "id": "SUSeWckMlNl2"
      },
      "execution_count": 24,
      "outputs": []
    },
    {
      "cell_type": "code",
      "source": [
        "# Generate confusion matrix\n",
        "cm = confusion_matrix(y_test.argmax(axis=1), predictions.argmax(axis=1))\n",
        "print(\"Confusion Matrix:\")\n",
        "print(cm)"
      ],
      "metadata": {
        "colab": {
          "base_uri": "https://localhost:8080/",
          "height": 0
        },
        "id": "HBULhHk4lJDN",
        "outputId": "5f63b7d3-ebd7-4cc7-f103-2cd18ef4b59e"
      },
      "execution_count": 25,
      "outputs": [
        {
          "output_type": "stream",
          "name": "stdout",
          "text": [
            "Confusion Matrix:\n",
            "[[ 973    0    2    0    0    0    0    1    2    2]\n",
            " [   1 1128    0    1    0    1    2    2    0    0]\n",
            " [   0    4 1021    0    0    0    1    6    0    0]\n",
            " [   0    1    0 1006    0    2    0    0    0    1]\n",
            " [   0    0    2    0  966    0    4    2    3    5]\n",
            " [   0    0    1    4    0  884    1    1    1    0]\n",
            " [   1    5    0    0    2    4  945    0    1    0]\n",
            " [   0    1    1    0    2    1    0 1023    0    0]\n",
            " [   1    0    2    1    0    1    0    0  968    1]\n",
            " [   0    0    0    0    9    5    0    4    4  987]]\n"
          ]
        }
      ]
    },
    {
      "cell_type": "code",
      "source": [
        "# Generate classification report\n",
        "print(\"\\nClassification Report:\")\n",
        "print(classification_report(y_test.argmax(axis=1), predictions.argmax(axis=1)))"
      ],
      "metadata": {
        "colab": {
          "base_uri": "https://localhost:8080/",
          "height": 0
        },
        "id": "miV_wA6blgIM",
        "outputId": "d6dda466-e723-4cad-96bd-b4c55dcf63b1"
      },
      "execution_count": 26,
      "outputs": [
        {
          "output_type": "stream",
          "name": "stdout",
          "text": [
            "\n",
            "Classification Report:\n",
            "              precision    recall  f1-score   support\n",
            "\n",
            "           0       1.00      0.99      0.99       980\n",
            "           1       0.99      0.99      0.99      1135\n",
            "           2       0.99      0.99      0.99      1032\n",
            "           3       0.99      1.00      1.00      1010\n",
            "           4       0.99      0.98      0.99       982\n",
            "           5       0.98      0.99      0.99       892\n",
            "           6       0.99      0.99      0.99       958\n",
            "           7       0.98      1.00      0.99      1028\n",
            "           8       0.99      0.99      0.99       974\n",
            "           9       0.99      0.98      0.98      1009\n",
            "\n",
            "    accuracy                           0.99     10000\n",
            "   macro avg       0.99      0.99      0.99     10000\n",
            "weighted avg       0.99      0.99      0.99     10000\n",
            "\n"
          ]
        }
      ]
    },
    {
      "cell_type": "code",
      "source": [
        "acc = history.history['accuracy']\n",
        "val_acc = history.history['val_accuracy']\n",
        "loss = history.history['loss']\n",
        "val_loss = history.history['val_loss']\n",
        "\n",
        "epochs = range(len(acc))\n",
        "\n",
        "plt.plot(epochs, acc, 'b', label='Training acc')\n",
        "plt.plot(epochs, val_acc, 'r', label='Validation acc')\n",
        "plt.title('Training and validation accuracy')\n",
        "plt.legend()\n",
        "\n",
        "plt.figure()\n",
        "\n",
        "plt.plot(epochs, loss, 'b', label='Training loss')\n",
        "plt.plot(epochs, val_loss, 'r', label='Validation loss')\n",
        "plt.title('Training and validation loss')\n",
        "plt.legend()\n",
        "\n",
        "plt.show()"
      ],
      "metadata": {
        "colab": {
          "base_uri": "https://localhost:8080/",
          "height": 887
        },
        "id": "oVItdK07t0st",
        "outputId": "c901afca-de81-4773-a027-7d35a89517e2"
      },
      "execution_count": 28,
      "outputs": [
        {
          "output_type": "display_data",
          "data": {
            "text/plain": [
              "<Figure size 640x480 with 1 Axes>"
            ],
            "image/png": "[encoded data removed]"
          },
          "metadata": {}
        },
        {
          "output_type": "display_data",
          "data": {
            "text/plain": [
              "<Figure size 640x480 with 1 Axes>"
            ],
            "image/png": "[encoded data removed]"
          },
          "metadata": {}
        }
      ]
    }
  ]
}