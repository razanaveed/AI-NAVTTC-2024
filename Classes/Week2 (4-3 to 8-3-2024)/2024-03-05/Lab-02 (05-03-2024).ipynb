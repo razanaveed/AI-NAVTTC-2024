{
 "cells": [
  {
   "cell_type": "code",
   "execution_count": 5,
   "id": "24470076-4e97-4245-a22c-07fa16c5f3c0",
   "metadata": {},
   "outputs": [
    {
     "name": "stdin",
     "output_type": "stream",
     "text": [
      "enter number: 44\n"
     ]
    },
    {
     "name": "stdout",
     "output_type": "stream",
     "text": [
      "Input Number is  Even\n"
     ]
    }
   ],
   "source": [
    "# Task 1 - EVEN ODD CHECK\n",
    "number = int(input(\"enter number:\"))\n",
    "remainder = number % 2\n",
    "#if (remainder==0):\n",
    "#    print(\"Input Number is Even!\")\n",
    "#else:\n",
    "#    print(\"Input Number is Odd!\")\n",
    "\n",
    "#Second way\n",
    "print(\"Input Number is \", \"Even\"  if remainder==0  else \"Odd\"  )\n",
    "\n"
   ]
  },
  {
   "cell_type": "code",
   "execution_count": 22,
   "id": "cb94cda1-4ce1-4a9f-8591-c53a85b667dd",
   "metadata": {},
   "outputs": [
    {
     "name": "stdin",
     "output_type": "stream",
     "text": [
      "enter marks: 88.9\n"
     ]
    },
    {
     "name": "stdout",
     "output_type": "stream",
     "text": [
      "Grade is:  B\n"
     ]
    }
   ],
   "source": [
    "# Task 2 - GRADE CALCULATE\n",
    "marks = float(input(\"enter marks:\"))\n",
    "if marks>=90:\n",
    "    grade=\"A\"\n",
    "elif marks >=80:\n",
    "    grade=\"B\"\n",
    "elif marks>=70:\n",
    "    grade=\"C\"\n",
    "elif marks>=60:\n",
    "    grade=\"D\"\n",
    "else:\n",
    "    grade=\"F\"\n",
    "print(\"Grade is: \",grade)"
   ]
  },
  {
   "cell_type": "code",
   "execution_count": 25,
   "id": "9630b97d-a187-4561-ac89-85df7710e911",
   "metadata": {},
   "outputs": [
    {
     "name": "stdin",
     "output_type": "stream",
     "text": [
      "enter any number: 45\n"
     ]
    },
    {
     "name": "stdout",
     "output_type": "stream",
     "text": [
      "Number is positive\n"
     ]
    }
   ],
   "source": [
    "# Task 3 - Check input number is positive , negative or zero\n",
    "number = int(input(\"enter any number:\"))\n",
    "if (number>0):\n",
    "    print(\"Number is P#ositive\")\n",
    "elif (number<0):\n",
    "    print(\"Number is Negative\")\n",
    "else:\n",
    "    print(\"Number is Zero\")"
   ]
  },
  {
   "cell_type": "code",
   "execution_count": 28,
   "id": "4a383f75-4027-4089-a5ca-6c3433c9cdc3",
   "metadata": {},
   "outputs": [
    {
     "name": "stdin",
     "output_type": "stream",
     "text": [
      "enter any number: 2\n"
     ]
    },
    {
     "name": "stdout",
     "output_type": "stream",
     "text": [
      "Table Print Using For Loop\n",
      "2 x 1 = 2\n",
      "2 x 2 = 4\n",
      "2 x 3 = 6\n",
      "2 x 4 = 8\n",
      "2 x 5 = 10\n",
      "2 x 6 = 12\n",
      "2 x 7 = 14\n",
      "2 x 8 = 16\n",
      "2 x 9 = 18\n",
      "2 x 10 = 20\n",
      "Table Print Using While Loop\n",
      "2 x 1 = 2\n",
      "2 x 2 = 4\n",
      "2 x 3 = 6\n",
      "2 x 4 = 8\n",
      "2 x 5 = 10\n",
      "2 x 6 = 12\n",
      "2 x 7 = 14\n",
      "2 x 8 = 16\n",
      "2 x 9 = 18\n",
      "2 x 10 = 20\n"
     ]
    }
   ],
   "source": [
    "# Task 4 - Print the multiplication table of a given number up to 10 using loops.\n",
    "table = int(input(\"enter any number:\"))\n",
    "\n",
    "#using for loop\n",
    "print(\"Table Print Using For Loop:\")\n",
    "for i in range(1,10+1):\n",
    "\tprint(table,\"x\",i,\"=\",table*i)\n",
    "\n",
    "#using while loop\n",
    "print(\"Table Print Using While Loop:\")\n",
    "i=1\n",
    "while i<=10:\n",
    "    print(table,\"x\",i,\"=\",table*i)\n",
    "    i+=1"
   ]
  },
  {
   "cell_type": "code",
   "execution_count": 43,
   "id": "8e92f963-ddd9-4074-a036-9fcb26c8cba0",
   "metadata": {},
   "outputs": [
    {
     "name": "stdin",
     "output_type": "stream",
     "text": [
      "Enter Start Number: 3\n",
      "Enter End Number: 5\n"
     ]
    },
    {
     "name": "stdout",
     "output_type": "stream",
     "text": [
      "Table of No 3\n",
      "3 x 1 = 3\n",
      "3 x 2 = 6\n",
      "3 x 3 = 9\n",
      "3 x 4 = 12\n",
      "3 x 5 = 15\n",
      "3 x 6 = 18\n",
      "3 x 7 = 21\n",
      "3 x 8 = 24\n",
      "3 x 9 = 27\n",
      "3 x 10 = 30\n",
      "Table of No 4\n",
      "4 x 1 = 4\n",
      "4 x 2 = 8\n",
      "4 x 3 = 12\n",
      "4 x 4 = 16\n",
      "4 x 5 = 20\n",
      "4 x 6 = 24\n",
      "4 x 7 = 28\n",
      "4 x 8 = 32\n",
      "4 x 9 = 36\n",
      "4 x 10 = 40\n",
      "Table of No 5\n",
      "5 x 1 = 5\n",
      "5 x 2 = 10\n",
      "5 x 3 = 15\n",
      "5 x 4 = 20\n",
      "5 x 5 = 25\n",
      "5 x 6 = 30\n",
      "5 x 7 = 35\n",
      "5 x 8 = 40\n",
      "5 x 9 = 45\n",
      "5 x 10 = 50\n"
     ]
    }
   ],
   "source": [
    "# Task 4  - Nested loop for multiple tables\n",
    "start = int(input(\"Enter Start Number:\"))\n",
    "end = int(input(\"Enter End Number:\"))\n",
    "\n",
    "if start>end:\n",
    "    print(\"invalid range!\")\n",
    "\n",
    "#outer loop\n",
    "while start<=end:\n",
    "    print(\"Table of:\", start) \n",
    "\n",
    "    #inner /nested loop\n",
    "    i=1\n",
    "    while i<=10:\n",
    "        print(start,\"x\",i,\"=\",start*i)\n",
    "        i+=1\n",
    "    start+=1\n"
   ]
  },
  {
   "cell_type": "code",
   "execution_count": 92,
   "id": "357b5a24-fd2e-4342-b183-d2b36965ba42",
   "metadata": {},
   "outputs": [
    {
     "name": "stdin",
     "output_type": "stream",
     "text": [
      "enter any number: 4598\n"
     ]
    },
    {
     "name": "stdout",
     "output_type": "stream",
     "text": [
      "Count of digits are: 4\n"
     ]
    }
   ],
   "source": [
    "# Task 5 Write a program that takes a number from the user and counts the number of digits in the given integer.\n",
    "num = int(input(\"enter any number:\"))\n",
    "print(\"Count of digits are:\",len(str(num)))\n"
   ]
  },
  {
   "cell_type": "code",
   "execution_count": 65,
   "id": "61251934-87aa-4366-82d5-9f12f0401940",
   "metadata": {},
   "outputs": [
    {
     "name": "stdin",
     "output_type": "stream",
     "text": [
      "enter any number: 11\n"
     ]
    },
    {
     "name": "stdout",
     "output_type": "stream",
     "text": [
      "Number is Prime\n"
     ]
    }
   ],
   "source": [
    "# Task 6 - Write a program that takes a number from the user and checks whether the number is a prime number or not.\n",
    "num = int(input(\"enter any number:\")) # 5\n",
    "i=1\n",
    "zero_remainder_count=0\n",
    "while i<=num:\n",
    "    if (num % i ==0):\n",
    "        zero_remainder_count+=1    \n",
    "    i+=1\n",
    "\n",
    "if (zero_remainder_count<=2):\n",
    "    print(\"Number is Prime\")\n",
    "else:\n",
    "    print(\"Number is NOT Prime\")\n"
   ]
  },
  {
   "cell_type": "code",
   "execution_count": 66,
   "id": "901a1c02-fc82-4b18-b7a3-21aac4c71d85",
   "metadata": {},
   "outputs": [],
   "source": [
    "#Task 7 - Write a program that takes three numbers as input and prints the largest among them"
   ]
  },
  {
   "cell_type": "code",
   "execution_count": 69,
   "id": "7e31a4f8-daa3-4402-a22a-95538d0b23f0",
   "metadata": {},
   "outputs": [
    {
     "name": "stdin",
     "output_type": "stream",
     "text": [
      "enter first number: 1\n",
      "enter second number: 2\n",
      "enter third number: 3\n"
     ]
    },
    {
     "name": "stdout",
     "output_type": "stream",
     "text": [
      "third number is larger! 3\n"
     ]
    }
   ],
   "source": [
    "num1 = int(input(\"enter first number:\")) \n",
    "num2 = int(input(\"enter second number:\")) \n",
    "num3 = int(input(\"enter third number:\")) \n",
    "if (num1 > num2 and num1 > num3):\n",
    "    print(\"first number is larger!\",num1)\n",
    "elif (num2 > num1 and num2 > num3):\n",
    "    print(\"second number is larger!\",num2)\n",
    "else:\n",
    "    print(\"third number is larger!\",num3)\n"
   ]
  },
  {
   "cell_type": "code",
   "execution_count": 91,
   "id": "d2816c60-5d77-44f4-b183-34e987612e96",
   "metadata": {},
   "outputs": [
    {
     "name": "stdout",
     "output_type": "stream",
     "text": [
      "*\n",
      "**\n",
      "***\n",
      "****\n",
      "*****\n",
      "\n",
      "*****\n",
      "****\n",
      "***\n",
      "**\n",
      "*\n"
     ]
    }
   ],
   "source": [
    "# task 8 - Pattern\n",
    "for i in range(1,5+1):\n",
    "    j=1\n",
    "    for j in range(1,i+1):\n",
    "        print(\"*\",end=\"\")\n",
    "    print(\"\")\n",
    "print(\"\")\n",
    "for i in range(5,0,-1):\n",
    "    j=i\n",
    "    for j in range(i,0,-1):\n",
    "        print(\"*\",end=\"\")\n",
    "    print(\"\")"
   ]
  },
  {
   "cell_type": "code",
   "execution_count": null,
   "id": "bbd3dd83-2d56-4043-9d18-83095ee789e1",
   "metadata": {},
   "outputs": [],
   "source": []
  }
 ],
 "metadata": {
  "kernelspec": {
   "display_name": "Python 3 (ipykernel)",
   "language": "python",
   "name": "python3"
  },
  "language_info": {
   "codemirror_mode": {
    "name": "ipython",
    "version": 3
   },
   "file_extension": ".py",
   "mimetype": "text/x-python",
   "name": "python",
   "nbconvert_exporter": "python",
   "pygments_lexer": "ipython3",
   "version": "3.11.7"
  }
 },
 "nbformat": 4,
 "nbformat_minor": 5
}
