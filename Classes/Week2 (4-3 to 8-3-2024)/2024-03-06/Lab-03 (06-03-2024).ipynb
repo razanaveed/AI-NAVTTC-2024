{
 "cells": [
  {
   "cell_type": "code",
   "execution_count": 19,
   "id": "bbe1ef3d-f3b0-482e-81a1-b3f7025acf4f",
   "metadata": {},
   "outputs": [
    {
     "name": "stdout",
     "output_type": "stream",
     "text": [
      "Karachi is in Pakistan\n",
      "Lahore is in Pakistan\n",
      "Mumbai India is in Pakistan\n"
     ]
    }
   ],
   "source": [
    "# Task A\n",
    "def describe_city(city,country=\"Pakistan\"):\n",
    "    print(city,\"is in\",country)\n",
    "\n",
    "#call the function\n",
    "describe_city(\"Karachi\")\n",
    "describe_city(\"Lahore\")\n",
    "describe_city(\"Mumbai\",\"India\")\n",
    "\n"
   ]
  },
  {
   "cell_type": "code",
   "execution_count": 30,
   "id": "91cd0dd5-0edc-45bf-8001-582f44ae15d2",
   "metadata": {},
   "outputs": [
    {
     "name": "stdout",
     "output_type": "stream",
     "text": [
      "100\n"
     ]
    }
   ],
   "source": [
    "# Task B\n",
    "def absolute_num(num):\n",
    "    if (num<0):\n",
    "        return -num # * (-1)\n",
    "    else:\n",
    "        return num\n",
    "    #return abs(num)\n",
    "\n",
    "\n",
    "print(absolute_num(-100))"
   ]
  },
  {
   "cell_type": "code",
   "execution_count": 31,
   "id": "3cf0d46c-47db-42db-9c11-2bb447a36c65",
   "metadata": {},
   "outputs": [
    {
     "name": "stdin",
     "output_type": "stream",
     "text": [
      "enter num1: 4\n",
      "enter num2: 3\n",
      "enter num3: 2\n"
     ]
    },
    {
     "name": "stdout",
     "output_type": "stream",
     "text": [
      "Max Number is: 4\n"
     ]
    }
   ],
   "source": [
    "# Task 1 Write a Python function to find the maximum of three numbers\n",
    "def find_max(num1,num2,num3):\n",
    "    if (num1>num2 and num1>num3):\n",
    "        return num1\n",
    "    elif (num2>num1 and num2>num3):\n",
    "        return num2\n",
    "    else:\n",
    "        return num3\n",
    "\n",
    "#Call\n",
    "num1=int(input(\"enter num1:\"))\n",
    "num2=int(input(\"enter num2:\"))\n",
    "num3=int(input(\"enter num3:\"))\n",
    "\n",
    "max= find_max(num1,num2,num3)\n",
    "print(\"Max Number is:\",max)\n",
    "\n"
   ]
  },
  {
   "cell_type": "code",
   "execution_count": 68,
   "id": "93e0a9d3-df23-47a4-9843-0b0edcdd838f",
   "metadata": {},
   "outputs": [
    {
     "name": "stdout",
     "output_type": "stream",
     "text": [
      "DAHA\n"
     ]
    },
    {
     "name": "stdin",
     "output_type": "stream",
     "text": [
      "Enter any word to check for Palindrome => 1\n"
     ]
    },
    {
     "name": "stdout",
     "output_type": "stream",
     "text": [
      "Given word is Palindrome!\n"
     ]
    }
   ],
   "source": [
    "#Task 2. Write a Python program to reverse a string.\n",
    "def reverse(data):\n",
    "    str=\"\"\n",
    "    for i in data:\n",
    "        str =  i + str    \n",
    "    return str\n",
    "    # return str[::-1]\n",
    "\n",
    "data = \"AHAD\"\n",
    "print(reverse(data))\n",
    "\n",
    "#check for Palindrome\n",
    "check = input(\"Enter any word to check for Palindrome =>\")\n",
    "if (check==reverse(check)):\n",
    "    print(\"Given word is Palindrome!\")\n",
    "else:\n",
    "    print(\"Given word is NOT Palindrome!\")"
   ]
  },
  {
   "cell_type": "code",
   "execution_count": 65,
   "id": "2ad78278-9cf0-4109-a036-366c7a69a63b",
   "metadata": {},
   "outputs": [
    {
     "name": "stdin",
     "output_type": "stream",
     "text": [
      "enter any number= 1\n"
     ]
    },
    {
     "name": "stdout",
     "output_type": "stream",
     "text": [
      "NOT\n"
     ]
    }
   ],
   "source": [
    "# Task 3. Write a Python function to check whether a number falls within a given range.\n",
    "def check_range(num):\n",
    "    #myrange= range(100,999+1)\n",
    "    myrange=[11,12,13,14,15,16,17,18,19,20]\n",
    "    if (num in myrange):\n",
    "        return True\n",
    "    else:\n",
    "        return False\n",
    "\n",
    "num=int(input(\"enter any number=\"))\n",
    "if (check_range(num)):\n",
    "    print(\"Within range!\")\n",
    "else:\n",
    "    print(\"NOT in range!\")\n",
    "#print(\"with in\" if (check_range(num)) else \"NOT\")"
   ]
  },
  {
   "cell_type": "code",
   "execution_count": 70,
   "id": "3d93e5e4-61ea-452c-b6ec-68050f8c8595",
   "metadata": {},
   "outputs": [
    {
     "name": "stdout",
     "output_type": "stream",
     "text": [
      "given list is: [11, 12, 13, 14, 15, 16, 17, 18, 19, 20]\n",
      "given list is: ['apple', 'banana', 'mango']\n",
      "given list is: ['swift', 'python', 2, 2.5]\n"
     ]
    }
   ],
   "source": [
    "# Task 4. Python function that accepts a list as a parameter\n",
    "def print_list(list):\n",
    "    print(\"given list is:\",list)\n",
    "\n",
    "mylist1=[11,12,13,14,15,16,17,18,19,20]\n",
    "mylist2=['apple','banana','mango']\n",
    "mylist3=['swift','python',2,2.5]\n",
    "\n",
    "print_list(mylist1)\n",
    "print_list(mylist2)\n",
    "print_list(mylist3)"
   ]
  },
  {
   "cell_type": "code",
   "execution_count": 86,
   "id": "0ed18b26-ce94-4e4f-adc2-828d6be688e4",
   "metadata": {},
   "outputs": [
    {
     "name": "stdin",
     "output_type": "stream",
     "text": [
      "Enter Num1: 17\n",
      "Enter Num2: 24\n"
     ]
    },
    {
     "name": "stdout",
     "output_type": "stream",
     "text": [
      "Before Swap: 17 24\n",
      "After Swap: 24 17\n"
     ]
    }
   ],
   "source": [
    "# Task 5 . Write python program that creates a function SwapNumbers() that takes two parameters And outputs the number swapped\n",
    "def SwapNumbers(num1,num2):\n",
    "    temp=num1\n",
    "    num1=num2\n",
    "    num2=temp\n",
    "    return num1,num2\n",
    "    \n",
    "num1=int(input(\"Enter Num1:\"))\n",
    "num2=int(input(\"Enter Num2:\"))\n",
    "print(\"Before Swap:\",num1,num2)\n",
    "num1,num2=SwapNumbers(num1,num2)\n",
    "print(\"After Swap:\",num1,num2)\n"
   ]
  },
  {
   "cell_type": "code",
   "execution_count": null,
   "id": "ee92db80-e74c-4310-afae-1d361df1f306",
   "metadata": {},
   "outputs": [],
   "source": []
  }
 ],
 "metadata": {
  "kernelspec": {
   "display_name": "Python 3 (ipykernel)",
   "language": "python",
   "name": "python3"
  },
  "language_info": {
   "codemirror_mode": {
    "name": "ipython",
    "version": 3
   },
   "file_extension": ".py",
   "mimetype": "text/x-python",
   "name": "python",
   "nbconvert_exporter": "python",
   "pygments_lexer": "ipython3",
   "version": "3.11.7"
  }
 },
 "nbformat": 4,
 "nbformat_minor": 5
}
