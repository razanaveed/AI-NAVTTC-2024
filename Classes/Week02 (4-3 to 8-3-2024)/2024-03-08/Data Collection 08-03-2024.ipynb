{
 "cells": [
  {
   "cell_type": "markdown",
   "id": "b7eda509",
   "metadata": {},
   "source": [
    "# Python Lists"
   ]
  },
  {
   "cell_type": "markdown",
   "id": "229fb564",
   "metadata": {},
   "source": [
    "Lists are used to store multiple items in a single variable.\n",
    "\n",
    "Lists are one of 4 built-in data types in Python used to store collections of data, the other 3 are Tuple, Set, and Dictionary, all with different qualities and usage.\n",
    "\n",
    "Lists are created using square brackets:"
   ]
  },
  {
   "cell_type": "code",
   "execution_count": 50,
   "id": "3511f5c7",
   "metadata": {},
   "outputs": [
    {
     "name": "stdout",
     "output_type": "stream",
     "text": [
      "['apple', 'banana', 'cherry']\n"
     ]
    }
   ],
   "source": [
    "thislist = [\"apple\", \"banana\", \"cherry\"]\n",
    "print(thislist)"
   ]
  },
  {
   "cell_type": "markdown",
   "id": "56e64aea",
   "metadata": {},
   "source": [
    "List items are ordered, changeable, and allow duplicate values.\n",
    "\n",
    "List items are indexed, the first item has index [0], the second item has index [1] etc."
   ]
  },
  {
   "cell_type": "markdown",
   "id": "36e2d489",
   "metadata": {},
   "source": [
    "# Ordered"
   ]
  },
  {
   "cell_type": "markdown",
   "id": "282f8716",
   "metadata": {},
   "source": [
    "When we say that lists are ordered, it means that the items have a defined order, and that order will not change.\n",
    "\n",
    "If you add new items to a list, the new items will be placed at the end of the list."
   ]
  },
  {
   "cell_type": "markdown",
   "id": "44546110",
   "metadata": {},
   "source": [
    "# Changeable "
   ]
  },
  {
   "cell_type": "markdown",
   "id": "1caf2c12",
   "metadata": {},
   "source": [
    "The list is changeable, meaning that we can change, add, and remove items in a list after it has been created."
   ]
  },
  {
   "cell_type": "markdown",
   "id": "b7daa21f",
   "metadata": {},
   "source": [
    "# Length of List"
   ]
  },
  {
   "cell_type": "code",
   "execution_count": 51,
   "id": "d5d3a2fc",
   "metadata": {},
   "outputs": [
    {
     "name": "stdout",
     "output_type": "stream",
     "text": [
      "3\n"
     ]
    }
   ],
   "source": [
    "thislist = [\"apple\", \"banana\", \"cherry\"]\n",
    "print(len(thislist))"
   ]
  },
  {
   "cell_type": "markdown",
   "id": "c88af627",
   "metadata": {},
   "source": [
    "# Remove Specified Item"
   ]
  },
  {
   "cell_type": "code",
   "execution_count": 26,
   "id": "221d0b4d",
   "metadata": {},
   "outputs": [
    {
     "name": "stdout",
     "output_type": "stream",
     "text": [
      "['apple', 'cherry']\n"
     ]
    }
   ],
   "source": [
    "thislist = [\"apple\", \"banana\", \"cherry\"]\n",
    "thislist.remove(\"banana\")\n",
    "print(thislist)"
   ]
  },
  {
   "cell_type": "markdown",
   "id": "b2bb0135",
   "metadata": {},
   "source": [
    "# Remove Specified Index"
   ]
  },
  {
   "cell_type": "code",
   "execution_count": 58,
   "id": "147f830d",
   "metadata": {},
   "outputs": [
    {
     "name": "stdout",
     "output_type": "stream",
     "text": [
      "['banana', 'cherry']\n"
     ]
    }
   ],
   "source": [
    "thislist = [\"apple\", \"banana\", \"cherry\"]\n",
    "thislist.pop(0)\n",
    "print(thislist)"
   ]
  },
  {
   "cell_type": "markdown",
   "id": "c86f23f2",
   "metadata": {},
   "source": [
    "# Clear the List"
   ]
  },
  {
   "cell_type": "code",
   "execution_count": 28,
   "id": "37ff8621",
   "metadata": {},
   "outputs": [
    {
     "name": "stdout",
     "output_type": "stream",
     "text": [
      "[]\n"
     ]
    }
   ],
   "source": [
    "thislist = [\"apple\", \"banana\", \"cherry\"]\n",
    "thislist.clear()\n",
    "print(thislist)"
   ]
  },
  {
   "cell_type": "markdown",
   "id": "f4f06e20",
   "metadata": {},
   "source": [
    "# Loop Through a List"
   ]
  },
  {
   "cell_type": "code",
   "execution_count": 56,
   "id": "fd55b630",
   "metadata": {},
   "outputs": [
    {
     "name": "stdout",
     "output_type": "stream",
     "text": [
      "apple\n",
      "banana\n",
      "cherry\n"
     ]
    }
   ],
   "source": [
    "thislist = [\"apple\", \"banana\", \"cherry\"]\n",
    "for x in thislist:\n",
    "  print(x)"
   ]
  },
  {
   "cell_type": "markdown",
   "id": "d0a1948f",
   "metadata": {},
   "source": [
    "# Loop Through the Index Numbers"
   ]
  },
  {
   "cell_type": "code",
   "execution_count": 30,
   "id": "d767410c",
   "metadata": {},
   "outputs": [
    {
     "name": "stdout",
     "output_type": "stream",
     "text": [
      "apple\n",
      "banana\n",
      "cherry\n"
     ]
    }
   ],
   "source": [
    "thislist = [\"apple\", \"banana\", \"cherry\"]\n",
    "for i in range(len(thislist)):\n",
    "  print(thislist[i])"
   ]
  },
  {
   "cell_type": "markdown",
   "id": "7925062f",
   "metadata": {},
   "source": [
    "# Using a While Loop"
   ]
  },
  {
   "cell_type": "code",
   "execution_count": 31,
   "id": "00e266f6",
   "metadata": {},
   "outputs": [
    {
     "name": "stdout",
     "output_type": "stream",
     "text": [
      "apple\n",
      "banana\n",
      "cherry\n"
     ]
    }
   ],
   "source": [
    "thislist = [\"apple\", \"banana\", \"cherry\"]\n",
    "i = 0\n",
    "while i < len(thislist):\n",
    "  print(thislist[i])\n",
    "  i = i + 1"
   ]
  },
  {
   "cell_type": "markdown",
   "id": "c1dd6beb",
   "metadata": {},
   "source": [
    "# Looping Using List Comprehension"
   ]
  },
  {
   "cell_type": "code",
   "execution_count": 67,
   "id": "280ca507",
   "metadata": {},
   "outputs": [
    {
     "name": "stdout",
     "output_type": "stream",
     "text": [
      "apple\n",
      "banana\n",
      "cherry\n",
      "mango\n"
     ]
    },
    {
     "data": {
      "text/plain": [
       "[None, None, None, None]"
      ]
     },
     "execution_count": 67,
     "metadata": {},
     "output_type": "execute_result"
    }
   ],
   "source": [
    "thislist = [\"apple\", \"banana\", \"cherry\",\"mango\"]\n",
    "[print(x) for x in thislist]"
   ]
  },
  {
   "cell_type": "markdown",
   "id": "2fcebe33",
   "metadata": {},
   "source": [
    "# Sort List Alphanumerically"
   ]
  },
  {
   "cell_type": "code",
   "execution_count": 69,
   "id": "e2cd17f6",
   "metadata": {},
   "outputs": [
    {
     "name": "stdout",
     "output_type": "stream",
     "text": [
      "[1, 2, 2, 3, 8]\n"
     ]
    }
   ],
   "source": [
    "thislist = [2,3,1,8,2]\n",
    "thislist.sort()\n",
    "print(thislist)"
   ]
  },
  {
   "cell_type": "markdown",
   "id": "a7aa568e",
   "metadata": {},
   "source": [
    "# Sort Descending"
   ]
  },
  {
   "cell_type": "code",
   "execution_count": 71,
   "id": "0d24a8b3",
   "metadata": {},
   "outputs": [
    {
     "name": "stdout",
     "output_type": "stream",
     "text": [
      "['pineapple', 'orange', 'mango', 'kiwi', 'banana']\n"
     ]
    }
   ],
   "source": [
    "thislist = [\"orange\", \"mango\", \"kiwi\", \"pineapple\", \"banana\"]\n",
    "thislist.sort(reverse = True)\n",
    "print(thislist)"
   ]
  },
  {
   "cell_type": "markdown",
   "id": "bcb8d653",
   "metadata": {},
   "source": [
    "# Customize Sort Function"
   ]
  },
  {
   "cell_type": "code",
   "execution_count": 77,
   "id": "c696b3d9",
   "metadata": {},
   "outputs": [
    {
     "name": "stdout",
     "output_type": "stream",
     "text": [
      "[23, 50, 65, 82, 100]\n"
     ]
    }
   ],
   "source": [
    "def myfunc(n):\n",
    "  return (n - 50)\n",
    "# [50,0,15,32,-27]  []\n",
    "thislist = [100, 50, 65, 82, 23]\n",
    "thislist.sort(key = myfunc)\n",
    "print(thislist)"
   ]
  },
  {
   "cell_type": "markdown",
   "id": "19559d0d",
   "metadata": {},
   "source": [
    "# Case Insensitive Sort"
   ]
  },
  {
   "cell_type": "markdown",
   "id": "af1d38ed",
   "metadata": {},
   "source": [
    "By default the sort() method is case sensitive, resulting in all capital letters being sorted before lower case letters:"
   ]
  },
  {
   "cell_type": "code",
   "execution_count": 36,
   "id": "3b9530c6",
   "metadata": {},
   "outputs": [
    {
     "name": "stdout",
     "output_type": "stream",
     "text": [
      "['Kiwi', 'Orange', 'banana', 'cherry']\n"
     ]
    }
   ],
   "source": [
    "thislist = [\"banana\", \"Orange\", \"Kiwi\", \"cherry\"]\n",
    "thislist.sort()\n",
    "print(thislist)"
   ]
  },
  {
   "cell_type": "markdown",
   "id": "a72a0fb7",
   "metadata": {},
   "source": [
    "# Copy a List"
   ]
  },
  {
   "cell_type": "markdown",
   "id": "c11887ce",
   "metadata": {},
   "source": [
    "You cannot copy a list simply by typing list2 = list1, because: list2 will only be a reference to list1, and changes made in list1 will automatically also be made in list2.\n",
    "\n",
    "There are ways to make a copy, one way is to use the built-in List method copy()."
   ]
  },
  {
   "cell_type": "code",
   "execution_count": 83,
   "id": "318b54b5",
   "metadata": {},
   "outputs": [
    {
     "name": "stdout",
     "output_type": "stream",
     "text": [
      "['apple', 'banana', 'cherry', 'Mango']\n",
      "['apple', 'banana', 'cherry', 'Mango']\n"
     ]
    }
   ],
   "source": [
    "thislist = [\"apple\", \"banana\", \"cherry\"]\n",
    "\n",
    "thislist = [\"apple\", \"banana\", \"cherry\",\"Mango\"]\n",
    "mylist = thislist\n",
    "print(mylist)\n",
    "print (thislist)"
   ]
  },
  {
   "cell_type": "markdown",
   "id": "2412dc53",
   "metadata": {},
   "source": [
    "Another way to make a copy is to use the built-in method list()."
   ]
  },
  {
   "cell_type": "code",
   "execution_count": 86,
   "id": "3f8a51e9",
   "metadata": {},
   "outputs": [
    {
     "name": "stdout",
     "output_type": "stream",
     "text": [
      "['apple', 'banana', 'cherry']\n",
      "['apple', 'banana', 'cherry', 'Mango']\n"
     ]
    }
   ],
   "source": [
    "thislist = [\"apple\", \"banana\", \"cherry\"]\n",
    "mylist = list(thislist)\n",
    "thislist = [\"apple\", \"banana\", \"cherry\",\"Mango\"]\n",
    "print(mylist)\n",
    "print(thislist)"
   ]
  },
  {
   "cell_type": "markdown",
   "id": "0539fd99",
   "metadata": {},
   "source": [
    "# Join Two Lists"
   ]
  },
  {
   "cell_type": "markdown",
   "id": "00d7595b",
   "metadata": {},
   "source": [
    "There are several ways to join, or concatenate, two or more lists in Python.\n",
    "One of the easiest ways are by using the + operator."
   ]
  },
  {
   "cell_type": "code",
   "execution_count": 39,
   "id": "e4f1b2fa",
   "metadata": {},
   "outputs": [
    {
     "name": "stdout",
     "output_type": "stream",
     "text": [
      "['a', 'b', 'c', 1, 2, 3]\n"
     ]
    }
   ],
   "source": [
    "list1 = [\"a\", \"b\", \"c\"]\n",
    "list2 = [1, 2, 3]\n",
    "\n",
    "list3 = list1 + list2\n",
    "print(list3)"
   ]
  },
  {
   "cell_type": "code",
   "execution_count": 88,
   "id": "e195e85c",
   "metadata": {},
   "outputs": [
    {
     "name": "stdout",
     "output_type": "stream",
     "text": [
      "['a', 'b', 'c', 3, 2, 1]\n"
     ]
    }
   ],
   "source": [
    "list1 = [\"a\", \"b\" , \"c\"]\n",
    "list2 = [3, 2, 1]\n",
    "\n",
    "for x in list2:\n",
    "  list1.append(x)\n",
    "\n",
    "print(list1)"
   ]
  },
  {
   "cell_type": "markdown",
   "id": "e23efa52",
   "metadata": {},
   "source": [
    "# Python Sets"
   ]
  },
  {
   "cell_type": "code",
   "execution_count": 100,
   "id": "84ce4854",
   "metadata": {},
   "outputs": [
    {
     "data": {
      "text/plain": [
       "{'Pineapple', 'apple', 'banana', 'cherry', 'mango'}"
      ]
     },
     "execution_count": 100,
     "metadata": {},
     "output_type": "execute_result"
    }
   ],
   "source": [
    "myset = {\"apple\", \"banana\", \"cherry\",\"apple\", \"banana\", \"cherry\",\"mango\"}\n",
    "myset.add(\"Pineapple\")\n",
    "myset"
   ]
  },
  {
   "cell_type": "markdown",
   "id": "4fcb25b8",
   "metadata": {},
   "source": [
    "Sets are used to store multiple items in a single variable.\n",
    "\n",
    "Set is one of 4 built-in data types in Python used to store collections of data, the other 3 are List, Tuple, and Dictionary, all with different qualities and usage.\n",
    "\n",
    "A set is a collection which is unordered, unchangeable*, and unindexed."
   ]
  },
  {
   "cell_type": "markdown",
   "id": "88c7c062",
   "metadata": {},
   "source": [
    "Set items are unordered, unchangeable, and do not allow duplicate values.\n",
    "Unordered means that the items in a set do not have a defined order.\n",
    "Set items can appear in a different order every time you use them, and cannot be referred to by index or key.\n",
    "Set items are unchangeable, meaning that we cannot change the items after the set has been created.\n",
    "Once a set is created, you cannot change its items, but you can remove items and add new items."
   ]
  },
  {
   "cell_type": "code",
   "execution_count": 42,
   "id": "21fce4bf",
   "metadata": {},
   "outputs": [
    {
     "name": "stdout",
     "output_type": "stream",
     "text": [
      "{'apple', 'cherry', 'banana'}\n"
     ]
    }
   ],
   "source": [
    "thisset = {\"apple\", \"banana\", \"cherry\", \"apple\"}\n",
    "\n",
    "print(thisset)"
   ]
  },
  {
   "cell_type": "markdown",
   "id": "9bbe28f0",
   "metadata": {},
   "source": [
    "# The set() Constructor"
   ]
  },
  {
   "cell_type": "code",
   "execution_count": 103,
   "id": "9c10c50f",
   "metadata": {},
   "outputs": [
    {
     "name": "stdout",
     "output_type": "stream",
     "text": [
      "{'apple', 'cherry', 'banana'}\n"
     ]
    },
    {
     "data": {
      "text/plain": [
       "{'apple', 'banana', 'cherry'}"
      ]
     },
     "execution_count": 103,
     "metadata": {},
     "output_type": "execute_result"
    }
   ],
   "source": [
    "thisset = set((\"apple\", \"banana\", \"cherry\")) # note the double round-brackets\n",
    "print(thisset)\n",
    "\n",
    "set2={\"apple\", \"banana\", \"cherry\"}\n",
    "set2"
   ]
  },
  {
   "cell_type": "markdown",
   "id": "12cb2156",
   "metadata": {},
   "source": [
    "# Remove Item"
   ]
  },
  {
   "cell_type": "code",
   "execution_count": 107,
   "id": "5baa0e97",
   "metadata": {},
   "outputs": [
    {
     "name": "stdout",
     "output_type": "stream",
     "text": [
      "{'apple', 'cherry'}\n",
      "{'apple', 'banana'}\n"
     ]
    }
   ],
   "source": [
    "thisset = {\"apple\", \"banana\", \"cherry\"}\n",
    "\n",
    "thisset.remove(\"banana\")\n",
    "\n",
    "print(thisset)\n",
    "\n",
    "thisset1 = {\"apple\", \"banana\", \"cherry\"}\n",
    "\n",
    "thisset1.discard(\"cherry\")\n",
    "\n",
    "print(thisset1)"
   ]
  },
  {
   "cell_type": "markdown",
   "id": "1181fca1",
   "metadata": {},
   "source": [
    "# Join Two Sets"
   ]
  },
  {
   "cell_type": "code",
   "execution_count": 112,
   "id": "37b16f82",
   "metadata": {},
   "outputs": [
    {
     "name": "stdout",
     "output_type": "stream",
     "text": [
      "{1, 'a', 2, 3, 4, 'b', 'c'}\n"
     ]
    }
   ],
   "source": [
    "set1 = {\"a\", \"b\" , \"c\"}\n",
    "set2 = {4,1, 2, 3}\n",
    "\n",
    "set3 = set1.union(set2)\n",
    "print(set3)"
   ]
  },
  {
   "cell_type": "code",
   "execution_count": 114,
   "id": "48d87875",
   "metadata": {},
   "outputs": [
    {
     "name": "stdout",
     "output_type": "stream",
     "text": [
      "{1, 2, 3, 4, 'f', 5, 6, 7, 'c', 'd', 'a', 'b', 'e'}\n"
     ]
    },
    {
     "data": {
      "text/plain": [
       "{1, 2, 3, 4, 5, 6, 7, 'a', 'b', 'c', 'd', 'e', 'f'}"
      ]
     },
     "execution_count": 114,
     "metadata": {},
     "output_type": "execute_result"
    }
   ],
   "source": [
    "set1 = {\"a\", \"b\" , \"c\",\"d\",\"e\",\"f\"}\n",
    "set2 = {1, 2, 3,4,5,6,7}\n",
    "\n",
    "set1.update(set2)\n",
    "print(set1)\n",
    "set2.update(set1)\n",
    "set2"
   ]
  },
  {
   "cell_type": "markdown",
   "id": "f0c2af5b",
   "metadata": {},
   "source": [
    "# Keep ONLY the Duplicates"
   ]
  },
  {
   "cell_type": "markdown",
   "id": "c2cf3ff3",
   "metadata": {},
   "source": [
    "The intersection_update() method will keep only the items that are present in both sets.\n",
    "\n"
   ]
  },
  {
   "cell_type": "code",
   "execution_count": 47,
   "id": "6bcfc25d",
   "metadata": {},
   "outputs": [
    {
     "name": "stdout",
     "output_type": "stream",
     "text": [
      "{'apple'}\n"
     ]
    }
   ],
   "source": [
    "x = {\"apple\", \"banana\", \"cherry\"}\n",
    "y = {\"google\", \"microsoft\", \"apple\"}\n",
    "\n",
    "x.intersection_update(y)\n",
    "\n",
    "print(x)"
   ]
  },
  {
   "cell_type": "markdown",
   "id": "8e14cf4f",
   "metadata": {},
   "source": [
    "The intersection() method will return a new set, that only contains the items that are present in both sets."
   ]
  },
  {
   "cell_type": "code",
   "execution_count": 48,
   "id": "76797569",
   "metadata": {},
   "outputs": [
    {
     "name": "stdout",
     "output_type": "stream",
     "text": [
      "{'apple'}\n"
     ]
    }
   ],
   "source": [
    "x = {\"apple\", \"banana\", \"cherry\"}\n",
    "y = {\"google\", \"microsoft\", \"apple\"}\n",
    "\n",
    "z = x.intersection(y)\n",
    "\n",
    "print(z)"
   ]
  },
  {
   "cell_type": "markdown",
   "id": "be3fdc58",
   "metadata": {},
   "source": [
    "# Keep All, But NOT the Duplicates"
   ]
  },
  {
   "cell_type": "markdown",
   "id": "8abee868",
   "metadata": {},
   "source": [
    "The symmetric_difference_update() method will keep only the elements that are NOT present in both sets."
   ]
  },
  {
   "cell_type": "code",
   "execution_count": 49,
   "id": "7f4c89af",
   "metadata": {},
   "outputs": [
    {
     "name": "stdout",
     "output_type": "stream",
     "text": [
      "{'microsoft', 'cherry', 'banana', 'google'}\n"
     ]
    }
   ],
   "source": [
    "x = {\"apple\", \"banana\", \"cherry\"}\n",
    "y = {\"google\", \"microsoft\", \"apple\"}\n",
    "\n",
    "x.symmetric_difference_update(y)\n",
    "\n",
    "print(x)"
   ]
  },
  {
   "cell_type": "markdown",
   "id": "81f09e05",
   "metadata": {},
   "source": [
    "# Python Dictionaries"
   ]
  },
  {
   "cell_type": "code",
   "execution_count": 126,
   "id": "3bd016dd",
   "metadata": {},
   "outputs": [],
   "source": [
    "thisdict = {\n",
    "  \"brand\": \"Ford\",\n",
    "  \"model\": \"Mustang\",\n",
    "  \"year\": 1964\n",
    "}"
   ]
  },
  {
   "cell_type": "markdown",
   "id": "4ec5312c",
   "metadata": {},
   "source": [
    "Dictionaries are used to store data values in key:value pairs.\n",
    "\n",
    "A dictionary is a collection which is ordered*, changeable and do not allow duplicates."
   ]
  },
  {
   "cell_type": "markdown",
   "id": "263f6807",
   "metadata": {},
   "source": [
    "# Dictionary Items"
   ]
  },
  {
   "cell_type": "markdown",
   "id": "88f6097b",
   "metadata": {},
   "source": [
    "Dictionary items are ordered, changeable, and do not allow duplicates.\n",
    "\n",
    "Dictionary items are presented in key:value pairs, and can be referred to by using the key name."
   ]
  },
  {
   "cell_type": "code",
   "execution_count": 137,
   "id": "083b20ba",
   "metadata": {},
   "outputs": [
    {
     "name": "stdout",
     "output_type": "stream",
     "text": [
      "Ford\n"
     ]
    }
   ],
   "source": [
    "thisdict = {\n",
    "  \"brand\": \"Ford\",\n",
    "  \"model\": \"Mustang\",\n",
    "  \"year\": 1964\n",
    "}\n",
    "print(thisdict[\"brand\"])"
   ]
  },
  {
   "cell_type": "markdown",
   "id": "29fa977e",
   "metadata": {},
   "source": [
    "# Ordered or Unordered?"
   ]
  },
  {
   "cell_type": "markdown",
   "id": "98ab8e02",
   "metadata": {},
   "source": [
    "When we say that dictionaries are ordered, it means that the items have a defined order, and that order will not change.\n",
    "\n",
    "Unordered means that the items do not have a defined order, you cannot refer to an item by using an index."
   ]
  },
  {
   "cell_type": "markdown",
   "id": "56dd2e6d",
   "metadata": {},
   "source": [
    "# Duplicates Not Allowed"
   ]
  },
  {
   "cell_type": "code",
   "execution_count": 128,
   "id": "99fb2e42",
   "metadata": {},
   "outputs": [
    {
     "name": "stdout",
     "output_type": "stream",
     "text": [
      "{'brand': 'Ford', 'model': 'Mustang', 'year': 2020}\n"
     ]
    }
   ],
   "source": [
    "thisdict = {\n",
    "  \"brand\": \"Ford\",\n",
    "  \"model\": \"Mustang\",\n",
    "  \"year\": 1964,\n",
    "  \"year\": 2020\n",
    "}\n",
    "print(thisdict)"
   ]
  },
  {
   "cell_type": "code",
   "execution_count": 140,
   "id": "cc4a4588",
   "metadata": {},
   "outputs": [
    {
     "name": "stdout",
     "output_type": "stream",
     "text": [
      "blue\n"
     ]
    }
   ],
   "source": [
    "thisdict = {\n",
    "  \"brand\": \"Ford\",\n",
    "  \"electric\": False,\n",
    "  \"year\": 1964,\n",
    "  \"colors\": [\"red\", \"white\", \"blue\"]\n",
    "}\n",
    "print(thisdict[\"colors\"][2])"
   ]
  },
  {
   "cell_type": "markdown",
   "id": "e739d79c",
   "metadata": {},
   "source": [
    "# The dict() Constructor"
   ]
  },
  {
   "cell_type": "code",
   "execution_count": 141,
   "id": "e9d0c877",
   "metadata": {},
   "outputs": [
    {
     "name": "stdout",
     "output_type": "stream",
     "text": [
      "{'name': 'John', 'age': 36, 'country': 'Norway'}\n"
     ]
    }
   ],
   "source": [
    "thisdict = dict(name = \"John\", age = 36, country = \"Norway\")\n",
    "print(thisdict)"
   ]
  },
  {
   "cell_type": "code",
   "execution_count": 143,
   "id": "9409eabd",
   "metadata": {},
   "outputs": [
    {
     "name": "stdout",
     "output_type": "stream",
     "text": [
      "Mustang\n",
      "Mustang\n",
      "dict_keys(['brand', 'model', 'year'])\n"
     ]
    },
    {
     "data": {
      "text/plain": [
       "dict_values(['Ford', 'Mustang', 1964])"
      ]
     },
     "execution_count": 143,
     "metadata": {},
     "output_type": "execute_result"
    }
   ],
   "source": [
    "thisdict = {\n",
    "  \"brand\": \"Ford\",\n",
    "  \"model\": \"Mustang\",\n",
    "  \"year\": 1964\n",
    "}\n",
    "x = thisdict[\"model\"]\n",
    "print(x)\n",
    "y = thisdict.get(\"model\")\n",
    "print(y)\n",
    "keys = thisdict.keys()\n",
    "print(keys)\n",
    "values = thisdict.values()\n",
    "values"
   ]
  },
  {
   "cell_type": "code",
   "execution_count": 132,
   "id": "5f37188d",
   "metadata": {},
   "outputs": [
    {
     "name": "stdout",
     "output_type": "stream",
     "text": [
      "dict_keys(['brand', 'model', 'year'])\n",
      "dict_keys(['brand', 'model', 'year', 'color'])\n"
     ]
    }
   ],
   "source": [
    "car = {\n",
    "\"brand\": \"Ford\",\n",
    "\"model\": \"Mustang\",\n",
    "\"year\": 1964\n",
    "}\n",
    "\n",
    "x = car.keys()\n",
    "\n",
    "print(x) #before the change\n",
    "\n",
    "car[\"color\"] = \"white\"\n",
    "\n",
    "print(x) #after the change"
   ]
  },
  {
   "cell_type": "markdown",
   "id": "f769c2e8",
   "metadata": {},
   "source": [
    "# Nested Dictionaries"
   ]
  },
  {
   "cell_type": "code",
   "execution_count": 154,
   "id": "a9ed151a",
   "metadata": {},
   "outputs": [
    {
     "name": "stdout",
     "output_type": "stream",
     "text": [
      "{'child1': {'name': 'Emil', 'year': 2004, 'age': 23}, 'child2': {'name': 'Tobias', 'year': 2007}, 'child3': {'name': 'Linus', 'year': 2011}}\n"
     ]
    }
   ],
   "source": [
    "myfamily = {\n",
    "  \"child1\" : {\n",
    "    \"name\" : \"Emil\",\n",
    "    \"year\" : 2004\n",
    "  },\n",
    "  \"child2\" : {\n",
    "    \"name\" : \"Tobias\",\n",
    "    \"year\" : 2007\n",
    "  },\n",
    "  \"child3\" : {\n",
    "    \"name\" : \"Linus\",\n",
    "    \"year\" : 2011\n",
    "  }\n",
    "}\n",
    "myfamily[\"child1\"][\"age\"]=23\n",
    "print(myfamily)"
   ]
  },
  {
   "cell_type": "code",
   "execution_count": 148,
   "id": "e1000fbe",
   "metadata": {},
   "outputs": [
    {
     "name": "stdout",
     "output_type": "stream",
     "text": [
      "Emil\n"
     ]
    }
   ],
   "source": [
    "child1 = {\n",
    "  \"name\" : \"Emil\",\n",
    "  \"year\" : 2004\n",
    "}\n",
    "child2 = {\n",
    "  \"name\" : \"Tobias\",\n",
    "  \"year\" : 2007\n",
    "}\n",
    "child3 = {\n",
    "  \"name\" : \"Linus\",\n",
    "  \"year\" : 2011\n",
    "}\n",
    "\n",
    "myfamily = {\n",
    "  \"child1\" : child1,\n",
    "  \"child2\" : child2,\n",
    "  \"child3\" : child3\n",
    "}\n",
    "print(myfamily[\"child1\"][\"name\"])"
   ]
  },
  {
   "cell_type": "markdown",
   "id": "84485da1",
   "metadata": {},
   "source": [
    "# Python Tuples"
   ]
  },
  {
   "cell_type": "markdown",
   "id": "33e77b5a",
   "metadata": {},
   "source": [
    "Tuples are used to store multiple items in a single variable.\n",
    "A tuple is a collection which is ordered and unchangeable.\n",
    "Tuples are written with round brackets."
   ]
  },
  {
   "cell_type": "code",
   "execution_count": 149,
   "id": "2f42639c",
   "metadata": {},
   "outputs": [
    {
     "name": "stdout",
     "output_type": "stream",
     "text": [
      "('apple', 'banana', 'cherry')\n"
     ]
    }
   ],
   "source": [
    "thistuple = (\"apple\", \"banana\", \"cherry\")\n",
    "print(thistuple)"
   ]
  },
  {
   "cell_type": "markdown",
   "id": "f5c52fb4",
   "metadata": {},
   "source": [
    "Tuple items are ordered, unchangeable, and allow duplicate values.\n",
    "\n",
    "Tuple items are indexed, the first item has index [0], the second item has index [1] etc.\n",
    "Ordered\n",
    "When we say that tuples are ordered, it means that the items have a defined order, and that order will not change.\n",
    "\n",
    "Unchangeable\n",
    "Tuples are unchangeable, meaning that we cannot change, add or remove items after the tuple has been created.\n",
    "\n",
    "Allow Duplicates\n",
    "Since tuples are indexed, they can have items with the same value:"
   ]
  },
  {
   "cell_type": "code",
   "execution_count": 155,
   "id": "e4edd2cc",
   "metadata": {},
   "outputs": [
    {
     "name": "stdout",
     "output_type": "stream",
     "text": [
      "('apple', 'banana', 'cherry', 'apple', 'cherry')\n"
     ]
    }
   ],
   "source": [
    "thistuple = (\"apple\", \"banana\", \"cherry\", \"apple\", \"cherry\")\n",
    "print(thistuple)"
   ]
  },
  {
   "cell_type": "code",
   "execution_count": 156,
   "id": "f7b5e4ad",
   "metadata": {},
   "outputs": [
    {
     "name": "stdout",
     "output_type": "stream",
     "text": [
      "3\n"
     ]
    }
   ],
   "source": [
    "thistuple = (\"apple\", \"banana\", \"cherry\")\n",
    "print(len(thistuple))"
   ]
  },
  {
   "cell_type": "code",
   "execution_count": 158,
   "id": "5390ea11",
   "metadata": {},
   "outputs": [
    {
     "name": "stdout",
     "output_type": "stream",
     "text": [
      "<class 'tuple'>\n",
      "<class 'str'>\n"
     ]
    }
   ],
   "source": [
    "thistuple = (\"apple\",)\n",
    "print(type(thistuple))\n",
    "\n",
    "#NOT a tuple\n",
    "thistuple = (\"apple\")\n",
    "print(type(thistuple))"
   ]
  },
  {
   "cell_type": "code",
   "execution_count": 152,
   "id": "a7315582",
   "metadata": {},
   "outputs": [
    {
     "name": "stdout",
     "output_type": "stream",
     "text": [
      "('apple', 'banana', 'cherry')\n"
     ]
    }
   ],
   "source": [
    "thistuple = tuple((\"apple\", \"banana\", \"cherry\")) # note the double round-brackets\n",
    "print(thistuple)"
   ]
  },
  {
   "cell_type": "code",
   "execution_count": null,
   "id": "b38ec808",
   "metadata": {},
   "outputs": [],
   "source": [
    "thistuple = (\"apple\", \"banana\", \"cherry\")\n",
    "print(thistuple[1])"
   ]
  },
  {
   "cell_type": "code",
   "execution_count": 159,
   "id": "7691de72",
   "metadata": {},
   "outputs": [
    {
     "name": "stdout",
     "output_type": "stream",
     "text": [
      "cherry\n"
     ]
    }
   ],
   "source": [
    "thistuple = (\"apple\", \"banana\", \"cherry\")\n",
    "print(thistuple[-1])"
   ]
  },
  {
   "cell_type": "code",
   "execution_count": 160,
   "id": "74e8ec7c",
   "metadata": {},
   "outputs": [
    {
     "name": "stdout",
     "output_type": "stream",
     "text": [
      "('cherry', 'orange', 'kiwi')\n"
     ]
    }
   ],
   "source": [
    "thistuple = (\"apple\", \"banana\", \"cherry\", \"orange\", \"kiwi\", \"melon\", \"mango\")\n",
    "print(thistuple[2:5])"
   ]
  },
  {
   "cell_type": "code",
   "execution_count": 161,
   "id": "5b9927b5",
   "metadata": {},
   "outputs": [
    {
     "name": "stdout",
     "output_type": "stream",
     "text": [
      "('apple', 'banana', 'cherry', 'orange')\n"
     ]
    }
   ],
   "source": [
    "thistuple = (\"apple\", \"banana\", \"cherry\", \"orange\", \"kiwi\", \"melon\", \"mango\")\n",
    "print(thistuple[:4])"
   ]
  },
  {
   "cell_type": "code",
   "execution_count": 162,
   "id": "683e4888",
   "metadata": {},
   "outputs": [
    {
     "name": "stdout",
     "output_type": "stream",
     "text": [
      "('cherry', 'orange', 'kiwi', 'melon', 'mango')\n"
     ]
    }
   ],
   "source": [
    "thistuple = (\"apple\", \"banana\", \"cherry\", \"orange\", \"kiwi\", \"melon\", \"mango\")\n",
    "print(thistuple[2:])"
   ]
  },
  {
   "cell_type": "code",
   "execution_count": 163,
   "id": "4b4746ad",
   "metadata": {},
   "outputs": [
    {
     "name": "stdout",
     "output_type": "stream",
     "text": [
      "('orange', 'kiwi', 'melon')\n"
     ]
    }
   ],
   "source": [
    "thistuple = (\"apple\", \"banana\", \"cherry\", \"orange\", \"kiwi\", \"melon\", \"mango\")\n",
    "print(thistuple[-4:-1])"
   ]
  },
  {
   "cell_type": "markdown",
   "id": "07c9fec5",
   "metadata": {},
   "source": [
    "#  Lambda Expression"
   ]
  },
  {
   "cell_type": "markdown",
   "id": "c0568797",
   "metadata": {},
   "source": [
    "A lambda function is a small anonymous function.\n",
    "\n",
    "A lambda function can take any number of arguments, but can only have one expression."
   ]
  },
  {
   "cell_type": "markdown",
   "id": "15352a85",
   "metadata": {},
   "source": [
    "Syntax-->\n",
    "lambda arguments : expression"
   ]
  },
  {
   "cell_type": "code",
   "execution_count": 164,
   "id": "bd92cfbc",
   "metadata": {},
   "outputs": [
    {
     "name": "stdout",
     "output_type": "stream",
     "text": [
      "15\n"
     ]
    }
   ],
   "source": [
    "x = lambda a : a + 10\n",
    "print(x(5))"
   ]
  },
  {
   "cell_type": "code",
   "execution_count": 165,
   "id": "ec184947",
   "metadata": {},
   "outputs": [
    {
     "name": "stdout",
     "output_type": "stream",
     "text": [
      "30\n"
     ]
    }
   ],
   "source": [
    "x = lambda a, b : a * b\n",
    "print(x(5, 6))"
   ]
  },
  {
   "cell_type": "code",
   "execution_count": 166,
   "id": "b2b20ba8",
   "metadata": {},
   "outputs": [
    {
     "name": "stdout",
     "output_type": "stream",
     "text": [
      "13\n"
     ]
    }
   ],
   "source": [
    "x = lambda a, b, c : a + b + c\n",
    "print(x(5, 6, 2))"
   ]
  },
  {
   "cell_type": "markdown",
   "id": "a1656db7",
   "metadata": {},
   "source": [
    "# Why Use Lambda Functions?"
   ]
  },
  {
   "cell_type": "markdown",
   "id": "88229c6a",
   "metadata": {},
   "source": [
    "The power of lambda is better shown when you use them as an anonymous function inside another function.\n",
    "\n",
    "Say you have a function definition that takes one argument, and that argument will be multiplied with an unknown number:"
   ]
  },
  {
   "cell_type": "code",
   "execution_count": 169,
   "id": "1f288955",
   "metadata": {},
   "outputs": [
    {
     "name": "stdout",
     "output_type": "stream",
     "text": [
      "22\n"
     ]
    }
   ],
   "source": [
    "def myfunc(n):\n",
    "  return lambda a : a * n\n",
    "\n",
    "mydoubler = myfunc(2)\n",
    "\n",
    "print(mydoubler(11))"
   ]
  },
  {
   "cell_type": "code",
   "execution_count": 170,
   "id": "075d43a7",
   "metadata": {},
   "outputs": [
    {
     "name": "stdout",
     "output_type": "stream",
     "text": [
      "22\n",
      "33\n"
     ]
    }
   ],
   "source": [
    "def myfunc(n):\n",
    "  return lambda a : a * n\n",
    "\n",
    "mydoubler = myfunc(2)\n",
    "mytripler = myfunc(3)\n",
    "\n",
    "print(mydoubler(11))\n",
    "print(mytripler(11))"
   ]
  },
  {
   "cell_type": "markdown",
   "id": "4d1763d1",
   "metadata": {},
   "source": [
    "# Map() and Filter()"
   ]
  },
  {
   "cell_type": "markdown",
   "id": "bc692498",
   "metadata": {},
   "source": [
    "The map() function or map and filter in Python (also called as map filter in Python) is a higher-order function. This function accepts another function and a sequence of ‘iterables’ as parameters and provides output after applying the function to each iterable in the sequence. It has the following syntax:\n",
    "\n",
    "SYNTAX: map(function, iterables)"
   ]
  },
  {
   "cell_type": "code",
   "execution_count": 177,
   "id": "2b6d8492",
   "metadata": {},
   "outputs": [
    {
     "name": "stdout",
     "output_type": "stream",
     "text": [
      "[2, 4, 6, 8, 10]\n",
      "[2, 4]\n"
     ]
    }
   ],
   "source": [
    "# Example of using map, filter, and reduce in Python  \n",
    "data = [1, 2, 3, 4, 5]  \n",
    "  \n",
    "# Using the map to apply a function to each element  \n",
    "# Lambda function returns the square of x  \n",
    "result1 = list(map(lambda x: x * 2, data))  # Result: [2, 4, 6, 8, 10]  \n",
    "print(result1)\n",
    "# Using the filter to filter elements based on a condition  \n",
    "# Lambda function returns True for an even number  \n",
    "result2 = list(filter(lambda x: x % 2 == 0, data))  # Result: [2, 4]  \n",
    "print(result2)   "
   ]
  },
  {
   "cell_type": "code",
   "execution_count": 181,
   "id": "ba967a41",
   "metadata": {},
   "outputs": [
    {
     "name": "stdout",
     "output_type": "stream",
     "text": [
      "{16, 1, 4, 9}\n"
     ]
    }
   ],
   "source": [
    "def function(a):\n",
    "    return a*a\n",
    "x = map(function, (1,2,3,4))  #x is the map object\n",
    "print(set(x))"
   ]
  },
  {
   "cell_type": "markdown",
   "id": "2f6b7bf3",
   "metadata": {},
   "source": [
    "# The filter() function:"
   ]
  },
  {
   "cell_type": "markdown",
   "id": "442ac940",
   "metadata": {},
   "source": [
    "The filter() function is used to generate an output list of values that return true when the function is called. It has the following syntax:\n",
    "\n",
    "SYNTAX: filter (function, iterable)"
   ]
  },
  {
   "cell_type": "code",
   "execution_count": 182,
   "id": "4c107f9d",
   "metadata": {},
   "outputs": [
    {
     "name": "stdout",
     "output_type": "stream",
     "text": [
      "<filter object at 0x0000020FE70B5280>\n",
      "[3, 4]\n"
     ]
    }
   ],
   "source": [
    "def func(x):\n",
    "    if x>=3:\n",
    "        return x\n",
    "y = filter(func, (1,2,3,4))  \n",
    "print(y)\n",
    "print(list(y))"
   ]
  },
  {
   "cell_type": "code",
   "execution_count": 183,
   "id": "5b0cff8f",
   "metadata": {},
   "outputs": [
    {
     "name": "stdout",
     "output_type": "stream",
     "text": [
      "[3, 4]\n"
     ]
    }
   ],
   "source": [
    "y = filter(lambda x: (x>=3), (1,2,3,4))\n",
    "print(list(y))"
   ]
  },
  {
   "cell_type": "markdown",
   "id": "e36174c4",
   "metadata": {},
   "source": [
    "# File Handling"
   ]
  },
  {
   "cell_type": "markdown",
   "id": "e523446f",
   "metadata": {},
   "source": [
    "The key function for working with files in Python is the open() function.\n",
    "\n",
    "The open() function takes two parameters; filename, and mode.\n",
    "\n",
    "There are four different methods (modes) for opening a file:\n",
    "\n",
    "\"r\" - Read - Default value. Opens a file for reading, error if the file does not exist\n",
    "\n",
    "\"a\" - Append - Opens a file for appending, creates the file if it does not exist\n",
    "\n",
    "\"w\" - Write - Opens a file for writing, creates the file if it does not exist\n",
    "\n",
    "\"x\" - Create - Creates the specified file, returns an error if the file exists\n",
    "\n",
    "\n",
    "In addition you can specify if the file should be handled as binary or text mode\n",
    "\n",
    "\"t\" - Text - Default value. Text mode\n",
    "\n",
    "\"b\" - Binary - Binary mode (e.g. images)"
   ]
  },
  {
   "cell_type": "code",
   "execution_count": 184,
   "id": "46843292",
   "metadata": {},
   "outputs": [
    {
     "ename": "FileNotFoundError",
     "evalue": "[Errno 2] No such file or directory: 'demofile.txt'",
     "output_type": "error",
     "traceback": [
      "\u001b[1;31m---------------------------------------------------------------------------\u001b[0m",
      "\u001b[1;31mFileNotFoundError\u001b[0m                         Traceback (most recent call last)",
      "Input \u001b[1;32mIn [184]\u001b[0m, in \u001b[0;36m<cell line: 1>\u001b[1;34m()\u001b[0m\n\u001b[1;32m----> 1\u001b[0m f \u001b[38;5;241m=\u001b[39m \u001b[38;5;28;43mopen\u001b[39;49m\u001b[43m(\u001b[49m\u001b[38;5;124;43m\"\u001b[39;49m\u001b[38;5;124;43mdemofile.txt\u001b[39;49m\u001b[38;5;124;43m\"\u001b[39;49m\u001b[43m)\u001b[49m\n",
      "\u001b[1;31mFileNotFoundError\u001b[0m: [Errno 2] No such file or directory: 'demofile.txt'"
     ]
    }
   ],
   "source": [
    "f = open(\"demofile.txt\")"
   ]
  },
  {
   "cell_type": "code",
   "execution_count": 185,
   "id": "b3d14732",
   "metadata": {},
   "outputs": [
    {
     "ename": "FileNotFoundError",
     "evalue": "[Errno 2] No such file or directory: 'demofile.txt'",
     "output_type": "error",
     "traceback": [
      "\u001b[1;31m---------------------------------------------------------------------------\u001b[0m",
      "\u001b[1;31mFileNotFoundError\u001b[0m                         Traceback (most recent call last)",
      "Input \u001b[1;32mIn [185]\u001b[0m, in \u001b[0;36m<cell line: 1>\u001b[1;34m()\u001b[0m\n\u001b[1;32m----> 1\u001b[0m f \u001b[38;5;241m=\u001b[39m \u001b[38;5;28;43mopen\u001b[39;49m\u001b[43m(\u001b[49m\u001b[38;5;124;43m\"\u001b[39;49m\u001b[38;5;124;43mdemofile.txt\u001b[39;49m\u001b[38;5;124;43m\"\u001b[39;49m\u001b[43m,\u001b[49m\u001b[43m \u001b[49m\u001b[38;5;124;43m\"\u001b[39;49m\u001b[38;5;124;43mrt\u001b[39;49m\u001b[38;5;124;43m\"\u001b[39;49m\u001b[43m)\u001b[49m\n",
      "\u001b[1;31mFileNotFoundError\u001b[0m: [Errno 2] No such file or directory: 'demofile.txt'"
     ]
    }
   ],
   "source": [
    "f = open(\"demofile.txt\", \"rt\")"
   ]
  },
  {
   "cell_type": "code",
   "execution_count": null,
   "id": "0986333f",
   "metadata": {},
   "outputs": [],
   "source": [
    "f = open(\"D:\\\\myfiles\\welcome.txt\", \"r\")\n",
    "\n",
    "print(f.read())\n",
    "\n",
    "# Welcome to this text file!\n",
    "# This file is located in a folder named \"myfiles\", on the D drive.\n",
    "# Good Luck!"
   ]
  },
  {
   "cell_type": "markdown",
   "id": "4d32a875",
   "metadata": {},
   "source": [
    "Hello! Welcome to demofile.txt\n",
    "\n",
    "This file is for testing purposes.\n",
    "\n",
    "Good Luck!"
   ]
  },
  {
   "cell_type": "code",
   "execution_count": null,
   "id": "d03ee4d7",
   "metadata": {},
   "outputs": [],
   "source": [
    "f = open(\"demofile.txt\", \"r\")\n",
    "\n",
    "print(f.read(5))"
   ]
  },
  {
   "cell_type": "code",
   "execution_count": null,
   "id": "43cc88ab",
   "metadata": {},
   "outputs": [],
   "source": [
    "f = open(\"demofile.txt\", \"r\")\n",
    "\n",
    "print(f.readline())\n",
    "\n",
    "# Hello! Welcome to demofile.txt"
   ]
  },
  {
   "cell_type": "code",
   "execution_count": null,
   "id": "39a934a0",
   "metadata": {},
   "outputs": [],
   "source": [
    "f = open(\"demofile.txt\", \"r\")\n",
    "for x in f:\n",
    "  print(x)\n",
    "\n",
    "# Hello! Welcome to demofile.txt\n",
    "# This file is for testing purposes.\n",
    "# Good Luck!"
   ]
  },
  {
   "cell_type": "code",
   "execution_count": null,
   "id": "a1b170dd",
   "metadata": {},
   "outputs": [],
   "source": [
    "f = open(\"demofile.txt\", \"r\")\n",
    "print(f.readline())\n",
    "f.close()"
   ]
  },
  {
   "cell_type": "markdown",
   "id": "ca862d47",
   "metadata": {},
   "source": [
    "# Write to an Existing File"
   ]
  },
  {
   "cell_type": "markdown",
   "id": "b3c38808",
   "metadata": {},
   "source": [
    "To write to an existing file, you must add a parameter to the open() function:\n",
    "\n",
    "\"a\" - Append - will append to the end of the file\n",
    "\n",
    "\"w\" - Write - will overwrite any existing content"
   ]
  },
  {
   "cell_type": "code",
   "execution_count": null,
   "id": "eab6bacd",
   "metadata": {},
   "outputs": [],
   "source": [
    "f = open(\"demofile2.txt\", \"a\")\n",
    "f.write(\"Now the file has more content!\")\n",
    "f.close()\n",
    "\n",
    "#open and read the file after the appending:\n",
    "f = open(\"demofile2.txt\", \"r\")\n",
    "print(f.read())\n"
   ]
  },
  {
   "cell_type": "markdown",
   "id": "a635d33e",
   "metadata": {},
   "source": [
    "Hello! Welcome to demofile2.txt\n",
    "\n",
    "This file is for testing purposes.\n",
    "\n",
    "Good Luck!Now the file has more content!"
   ]
  },
  {
   "cell_type": "code",
   "execution_count": null,
   "id": "b6c406fb",
   "metadata": {},
   "outputs": [],
   "source": [
    "f = open(\"demofile3.txt\", \"w\")\n",
    "f.write(\"Woops! I have deleted the content!\")\n",
    "f.close()\n",
    "\n",
    "#open and read the file after the overwriting:\n",
    "f = open(\"demofile3.txt\", \"r\")\n",
    "print(f.read())"
   ]
  },
  {
   "cell_type": "markdown",
   "id": "3c9fbd54",
   "metadata": {},
   "source": [
    "Woops! I have deleted the content!"
   ]
  },
  {
   "cell_type": "markdown",
   "id": "cb49d93a",
   "metadata": {},
   "source": [
    "# Create a New File"
   ]
  },
  {
   "cell_type": "markdown",
   "id": "7293d393",
   "metadata": {},
   "source": [
    "To create a new file in Python, use the open() method, with one of the following parameters:\n",
    "\n",
    "\"x\" - Create - will create a file, returns an error if the file exist\n",
    "\n",
    "\"a\" - Append - will create a file if the specified file does not exist\n",
    "\n",
    "\"w\" - Write - will create a file if the specified file does not exist"
   ]
  },
  {
   "cell_type": "code",
   "execution_count": null,
   "id": "102b8f33",
   "metadata": {},
   "outputs": [],
   "source": [
    "f = open(\"myfile.txt\", \"x\")"
   ]
  },
  {
   "cell_type": "markdown",
   "id": "16c3a3d8",
   "metadata": {},
   "source": [
    "Result: a new empty file is created!"
   ]
  },
  {
   "cell_type": "markdown",
   "id": "d99b28c9",
   "metadata": {},
   "source": [
    "# Delete a File"
   ]
  },
  {
   "cell_type": "markdown",
   "id": "ec00577d",
   "metadata": {},
   "source": [
    "To delete a file, you must import the OS module, and run its os.remove() function:"
   ]
  },
  {
   "cell_type": "code",
   "execution_count": null,
   "id": "8e7cd440",
   "metadata": {},
   "outputs": [],
   "source": [
    "import os\n",
    "os.remove(\"demofile.txt\")"
   ]
  },
  {
   "cell_type": "markdown",
   "id": "083896a3",
   "metadata": {},
   "source": [
    "# Check if File exist:"
   ]
  },
  {
   "cell_type": "markdown",
   "id": "efb60855",
   "metadata": {},
   "source": [
    "To avoid getting an error, you might want to check if the file exists before you try to delete it:"
   ]
  },
  {
   "cell_type": "code",
   "execution_count": null,
   "id": "80ffa04f",
   "metadata": {},
   "outputs": [],
   "source": [
    "import os\n",
    "if os.path.exists(\"demofile.txt\"):\n",
    "  os.remove(\"demofile.txt\")\n",
    "else:\n",
    "  print(\"The file does not exist\")"
   ]
  },
  {
   "cell_type": "markdown",
   "id": "675319a6",
   "metadata": {},
   "source": [
    "# Delete Folder"
   ]
  },
  {
   "cell_type": "markdown",
   "id": "d945d3a7",
   "metadata": {},
   "source": [
    "To delete an entire folder, use the os.rmdir() method:"
   ]
  },
  {
   "cell_type": "code",
   "execution_count": null,
   "id": "d37885a5",
   "metadata": {},
   "outputs": [],
   "source": [
    "import os\n",
    "os.rmdir(\"myfolder\")"
   ]
  },
  {
   "cell_type": "markdown",
   "id": "47951d07",
   "metadata": {},
   "source": [
    "### Note: You can only remove empty folders."
   ]
  },
  {
   "cell_type": "markdown",
   "id": "5d389dc2",
   "metadata": {},
   "source": [
    "## Object Oriented Programming"
   ]
  },
  {
   "cell_type": "markdown",
   "id": "050b2bf9",
   "metadata": {},
   "source": [
    "# Python Classes and Objects "
   ]
  },
  {
   "cell_type": "markdown",
   "id": "f755b45c",
   "metadata": {},
   "source": [
    "Python Classes/Objects\n",
    "Python is an object oriented programming language.\n",
    "\n",
    "Almost everything in Python is an object, with its properties and methods.\n",
    "\n",
    "A Class is like an object constructor, or a \"blueprint\" for creating objects."
   ]
  },
  {
   "cell_type": "markdown",
   "id": "e691d1ff",
   "metadata": {},
   "source": [
    "Create a Class\n",
    "To create a class, use the keyword class:"
   ]
  },
  {
   "cell_type": "code",
   "execution_count": 4,
   "id": "3aeaac0c",
   "metadata": {},
   "outputs": [
    {
     "name": "stdout",
     "output_type": "stream",
     "text": [
      "<class '__main__.MyClass'>\n"
     ]
    }
   ],
   "source": [
    "class MyClass:\n",
    "  x = 5\n",
    "\n",
    "print(MyClass)\n"
   ]
  },
  {
   "cell_type": "markdown",
   "id": "ba08ca37",
   "metadata": {},
   "source": [
    "# The __init__() Function"
   ]
  },
  {
   "cell_type": "markdown",
   "id": "6b9c210d",
   "metadata": {},
   "source": [
    "The examples above are classes and objects in their simplest form, and are not really useful in real life applications.\n",
    "\n",
    "To understand the meaning of classes we have to understand the built-in __init__() function.\n",
    "\n",
    "All classes have a function called __init__(), which is always executed when the class is being initiated.\n",
    "\n",
    "Use the __init__() function to assign values to object properties, or other operations that are necessary to do when the object is being created:"
   ]
  },
  {
   "cell_type": "code",
   "execution_count": null,
   "id": "95c17ecf",
   "metadata": {},
   "outputs": [],
   "source": [
    "class Person:\n",
    "  def __init__(self, name, age):\n",
    "    self.name = name\n",
    "    self.age = age\n",
    "\n",
    "p1 = Person(\"John\", 36)\n",
    "\n",
    "print(p1.name)\n",
    "print(p1.age)\n"
   ]
  },
  {
   "cell_type": "markdown",
   "id": "23ba4801",
   "metadata": {},
   "source": [
    "##### Note: The __init__() function is called automatically every time the class is being used to create a new object."
   ]
  },
  {
   "cell_type": "markdown",
   "id": "e8b3e114",
   "metadata": {},
   "source": [
    "# The __str__() Function "
   ]
  },
  {
   "cell_type": "markdown",
   "id": "1e9f6d64",
   "metadata": {},
   "source": [
    "The __str__() function controls what should be returned when the class object is represented as a string.\n",
    "\n",
    "If the __str__() function is not set, the string representation of the object is returned:"
   ]
  },
  {
   "cell_type": "code",
   "execution_count": null,
   "id": "47f8966c",
   "metadata": {},
   "outputs": [],
   "source": [
    "class Person:\n",
    "  def __init__(self, name, age):\n",
    "    self.name = name\n",
    "    self.age = age\n",
    "\n",
    "p1 = Person(\"John\", 36)\n",
    "\n",
    "print(p1)"
   ]
  },
  {
   "cell_type": "code",
   "execution_count": null,
   "id": "d25fa64c",
   "metadata": {},
   "outputs": [],
   "source": [
    "class Person:\n",
    "  def __init__(self, name, age):\n",
    "    self.name = name\n",
    "    self.age = age\n",
    "\n",
    "  def __str__(self):\n",
    "    return f\"{self.name}({self.age})\"\n",
    "\n",
    "p1 = Person(\"John\", 36)\n",
    "\n",
    "print(p1)"
   ]
  },
  {
   "cell_type": "markdown",
   "id": "7056d4b4",
   "metadata": {},
   "source": [
    "# Object Methods"
   ]
  },
  {
   "cell_type": "markdown",
   "id": "64e6fb01",
   "metadata": {},
   "source": [
    "Objects can also contain methods. Methods in objects are functions that belong to the object.\n",
    "\n",
    "Let us create a method in the Person class:"
   ]
  },
  {
   "cell_type": "code",
   "execution_count": 1,
   "id": "3dc2544e",
   "metadata": {},
   "outputs": [
    {
     "name": "stdout",
     "output_type": "stream",
     "text": [
      "Hello my name is John\n"
     ]
    }
   ],
   "source": [
    "class Person:\n",
    "  def __init__(self, name, age):\n",
    "    self.name = name\n",
    "    self.age = age\n",
    "\n",
    "  def myfunc(self):\n",
    "    print(\"Hello my name is \" + self.name)\n",
    "\n",
    "p1 = Person(\"John\", 36)\n",
    "p1.myfunc()"
   ]
  },
  {
   "cell_type": "markdown",
   "id": "5836b08c",
   "metadata": {},
   "source": [
    "### Note: The self parameter is a reference to the current instance of the class, and is used to access variables that belong to the class."
   ]
  },
  {
   "cell_type": "markdown",
   "id": "f5665661",
   "metadata": {},
   "source": [
    "# The self Parameter"
   ]
  },
  {
   "cell_type": "markdown",
   "id": "28735e3b",
   "metadata": {},
   "source": [
    "The self parameter is a reference to the current instance of the class, and is used to access variables that belongs to the class.\n",
    "\n",
    "It does not have to be named self , you can call it whatever you like, but it has to be the first parameter of any function in the class:"
   ]
  },
  {
   "cell_type": "code",
   "execution_count": 9,
   "id": "187b1e6d",
   "metadata": {},
   "outputs": [
    {
     "name": "stdout",
     "output_type": "stream",
     "text": [
      "Hello my name is JohnAnd my age is 40\n"
     ]
    }
   ],
   "source": [
    "class Person:\n",
    "  def __init__(mysillyobject, name, age):\n",
    "    mysillyobject.name = name\n",
    "    mysillyobject.age = age\n",
    "\n",
    "  def myfunc(abc):\n",
    "    print(\"Hello my name is \" + abc.name+\"And my age is\", abc.age)\n",
    "\n",
    "p1 = Person(\"John\", 36)\n",
    "p1.myfunc()\n",
    "# p1.age = 40\n",
    "# print(p1.age)"
   ]
  },
  {
   "cell_type": "markdown",
   "id": "1013a9b3",
   "metadata": {},
   "source": [
    "# Modify Object Properties"
   ]
  },
  {
   "cell_type": "code",
   "execution_count": 3,
   "id": "3d270a3a",
   "metadata": {},
   "outputs": [],
   "source": [
    "p1.age = 40"
   ]
  },
  {
   "cell_type": "markdown",
   "id": "26bac0b8",
   "metadata": {},
   "source": [
    "# Delete Object Properties"
   ]
  },
  {
   "cell_type": "code",
   "execution_count": null,
   "id": "33ef5372",
   "metadata": {},
   "outputs": [],
   "source": [
    "del p1.age"
   ]
  },
  {
   "cell_type": "markdown",
   "id": "a25f4db0",
   "metadata": {},
   "source": [
    "# The pass Statement\n"
   ]
  },
  {
   "cell_type": "markdown",
   "id": "0305dd5a",
   "metadata": {},
   "source": [
    "class definitions cannot be empty, but if you for some reason have a class definition with no content, put in the pass statement to avoid getting an error."
   ]
  },
  {
   "cell_type": "code",
   "execution_count": 11,
   "id": "db807135",
   "metadata": {},
   "outputs": [],
   "source": [
    "class Person:\n",
    "  pass\n",
    "# having an empty class definition like this, would raise an error without the pass statement"
   ]
  },
  {
   "cell_type": "code",
   "execution_count": null,
   "id": "b58cece4",
   "metadata": {},
   "outputs": [],
   "source": []
  }
 ],
 "metadata": {
  "kernelspec": {
   "display_name": "Python 3 (ipykernel)",
   "language": "python",
   "name": "python3"
  },
  "language_info": {
   "codemirror_mode": {
    "name": "ipython",
    "version": 3
   },
   "file_extension": ".py",
   "mimetype": "text/x-python",
   "name": "python",
   "nbconvert_exporter": "python",
   "pygments_lexer": "ipython3",
   "version": "3.9.12"
  }
 },
 "nbformat": 4,
 "nbformat_minor": 5
}
