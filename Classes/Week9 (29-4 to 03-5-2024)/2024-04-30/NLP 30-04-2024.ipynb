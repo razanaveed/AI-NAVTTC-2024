{
  "nbformat": 4,
  "nbformat_minor": 0,
  "metadata": {
    "colab": {
      "provenance": []
    },
    "kernelspec": {
      "name": "python3",
      "display_name": "Python 3"
    },
    "language_info": {
      "name": "python"
    }
  },
  "cells": [
    {
      "cell_type": "markdown",
      "source": [
        "### Introduction to Natural Language Processing (NLP) with Python\n",
        "\n",
        "Natural Language Processing (NLP) is a branch of artificial intelligence that deals with the interaction between computers and humans using natural language. NLP techniques allow computers to understand, interpret, and generate human language in a valuable way.\n",
        "\n",
        "In this introduction, we'll cover basic NLP tasks like text preprocessing, tokenization, and sentiment analysis using Python and popular libraries such as `nltk` (Natural Language Toolkit) and `textblob`.\n",
        "\n",
        "#### 1. Text Preprocessing\n",
        "\n",
        "Text preprocessing involves cleaning and formatting raw text data before applying NLP techniques.\n",
        "\n",
        "```python\n",
        "import re\n",
        "import string\n",
        "\n",
        "def preprocess_text(text):\n",
        "    # Convert text to lowercase\n",
        "    text = text.lower()\n",
        "    \n",
        "    # Remove numbers\n",
        "    text = re.sub(r'\\d+', '', text)\n",
        "    \n",
        "    # Remove punctuation\n",
        "    text = text.translate(str.maketrans('', '', string.punctuation))\n",
        "    \n",
        "    # Remove extra white spaces\n",
        "    text = \" \".join(text.split())\n",
        "    \n",
        "    return text\n",
        "\n",
        "# Example usage\n",
        "raw_text = \"Hello! This is a sample text with 123 numbers and punctuation!!!\"\n",
        "clean_text = preprocess_text(raw_text)\n",
        "print(clean_text)\n",
        "```\n",
        "\n",
        "#### 2. Tokenization\n",
        "\n",
        "Tokenization is the process of breaking down text into smaller units such as words or sentences.\n",
        "\n",
        "```python\n",
        "from nltk.tokenize import word_tokenize, sent_tokenize\n",
        "\n",
        "# Tokenize into words\n",
        "words = word_tokenize(clean_text)\n",
        "print(\"Tokenized Words:\", words)\n",
        "\n",
        "# Tokenize into sentences\n",
        "sentences = sent_tokenize(clean_text)\n",
        "print(\"Tokenized Sentences:\", sentences)\n",
        "```\n",
        "\n",
        "#### 3. Sentiment Analysis\n",
        "\n",
        "Sentiment analysis aims to determine the sentiment expressed in a piece of text (e.g., positive, negative, neutral).\n",
        "\n",
        "```python\n",
        "from textblob import TextBlob\n",
        "\n",
        "def analyze_sentiment(text):\n",
        "    analysis = TextBlob(text)\n",
        "    \n",
        "    if analysis.sentiment.polarity > 0:\n",
        "        return \"Positive\"\n",
        "    elif analysis.sentiment.polarity == 0:\n",
        "        return \"Neutral\"\n",
        "    else:\n",
        "        return \"Negative\"\n",
        "\n",
        "# Example usage\n",
        "sample_sentence = \"This is a very good example!\"\n",
        "sentiment = analyze_sentiment(sample_sentence)\n",
        "print(\"Sentiment:\", sentiment)\n",
        "```\n",
        "\n",
        "#### Conclusion\n",
        "\n",
        "This introduction provides a basic overview of NLP concepts and how they can be implemented using Python. NLP is a vast field with many advanced techniques for tasks such as machine translation, named entity recognition, and text summarization. Explore further using libraries like `spaCy`, `gensim`, and `transformers` for more advanced NLP tasks and models."
      ],
      "metadata": {
        "id": "KdxKozv8axgy"
      }
    },
    {
      "cell_type": "code",
      "execution_count": 3,
      "metadata": {
        "colab": {
          "base_uri": "https://localhost:8080/"
        },
        "id": "oGoZX4p3DwVt",
        "outputId": "1e8bff99-2b75-4b4d-e6d9-7b23709f2ebb"
      },
      "outputs": [
        {
          "output_type": "stream",
          "name": "stdout",
          "text": [
            "hello this is a sample text with numbers and punctuation\n"
          ]
        }
      ],
      "source": [
        "import re\n",
        "import string\n",
        "\n",
        "def preprocess_text(text):\n",
        "    # Convert text to lowercase\n",
        "    text = text.lower()\n",
        "\n",
        "    # Remove numbers\n",
        "    text = re.sub(r'\\d+', '', text)\n",
        "\n",
        "    # Remove punctuation\n",
        "    text = text.translate(str.maketrans('', '', string.punctuation))\n",
        "\n",
        "    # Remove extra white spaces\n",
        "    text = \" \".join(text.split())\n",
        "\n",
        "    return text\n",
        "\n",
        "# Example usage\n",
        "raw_text = \"Hello!   ???><>    This is a sample text with 123 numbers and punctuation!!!\"\n",
        "clean_text = preprocess_text(raw_text)\n",
        "print(clean_text)\n"
      ]
    },
    {
      "cell_type": "code",
      "source": [
        "import nltk\n",
        "from nltk.tokenize import word_tokenize\n",
        "from nltk import pos_tag\n",
        "nltk.download('punkt')\n",
        "nltk.download('averaged_perceptron_tagger')\n",
        "# Sample text\n",
        "sample_text = \"John likes to play soccer.\"\n",
        "\n",
        "# Tokenize the text into words\n",
        "words = word_tokenize(sample_text)\n",
        "\n",
        "# Perform POS tagging\n",
        "pos_tags = pos_tag(words)\n",
        "print(\"POS Tags:\", pos_tags)\n"
      ],
      "metadata": {
        "colab": {
          "base_uri": "https://localhost:8080/"
        },
        "id": "VkMn2lFREaua",
        "outputId": "16fc465e-5237-47d0-c405-861bc6a4cecb"
      },
      "execution_count": 5,
      "outputs": [
        {
          "output_type": "stream",
          "name": "stderr",
          "text": [
            "[nltk_data] Downloading package punkt to /root/nltk_data...\n",
            "[nltk_data]   Unzipping tokenizers/punkt.zip.\n",
            "[nltk_data] Downloading package averaged_perceptron_tagger to\n",
            "[nltk_data]     /root/nltk_data...\n",
            "[nltk_data]   Package averaged_perceptron_tagger is already up-to-\n",
            "[nltk_data]       date!\n"
          ]
        },
        {
          "output_type": "stream",
          "name": "stdout",
          "text": [
            "POS Tags: [('John', 'NNP'), ('likes', 'VBZ'), ('to', 'TO'), ('play', 'VB'), ('soccer', 'NN'), ('.', '.')]\n"
          ]
        }
      ]
    },
    {
      "cell_type": "code",
      "source": [
        "import nltk\n",
        "import matplotlib.pyplot as plt\n",
        "from nltk.tokenize import word_tokenize\n",
        "from nltk import pos_tag\n",
        "from collections import Counter\n",
        "\n",
        "# Sample text\n",
        "sample_text = \"John likes to play soccer and watch movies.\"\n",
        "\n",
        "# Tokenize the text into words\n",
        "words = word_tokenize(sample_text)\n",
        "\n",
        "# Perform POS tagging\n",
        "pos_tags = pos_tag(words)\n",
        "\n",
        "# Extract POS tags\n",
        "pos_categories = [tag[1] for tag in pos_tags]\n",
        "\n",
        "# Count POS categories\n",
        "pos_counts = Counter(pos_categories)\n",
        "\n",
        "# Plotting the POS distribution\n",
        "plt.figure(figsize=(8, 6))\n",
        "plt.bar(pos_counts.keys(), pos_counts.values())\n",
        "plt.title(\"POS Tag Distribution\")\n",
        "plt.xlabel(\"POS Tags\")\n",
        "plt.ylabel(\"Count\")\n",
        "plt.show()\n"
      ],
      "metadata": {
        "colab": {
          "base_uri": "https://localhost:8080/",
          "height": 564
        },
        "id": "4RemfckdEwnL",
        "outputId": "1b0092ee-2e07-4955-9039-5b4ea709f84c"
      },
      "execution_count": null,
      "outputs": [
        {
          "output_type": "display_data",
          "data": {
            "text/plain": [
              "<Figure size 800x600 with 1 Axes>"
            ],
            "image/png": "[encoded data removed]"
          },
          "metadata": {}
        }
      ]
    },
    {
      "cell_type": "code",
      "source": [
        "import nltk\n",
        "from nltk.tokenize import word_tokenize, sent_tokenize"
      ],
      "metadata": {
        "id": "MoIavfrHJbaT"
      },
      "execution_count": 29,
      "outputs": []
    },
    {
      "cell_type": "code",
      "source": [
        "text =  \"I am a student of Artificial Intelligence. Studying at SSUET.\""
      ],
      "metadata": {
        "id": "4uTkNvq5JlmC"
      },
      "execution_count": 30,
      "outputs": []
    },
    {
      "cell_type": "code",
      "source": [
        "sentences_1 =  sent_tokenize(text)"
      ],
      "metadata": {
        "id": "tME2_hmnJ7fi"
      },
      "execution_count": 31,
      "outputs": []
    },
    {
      "cell_type": "code",
      "source": [
        "words = word_tokenize(text)"
      ],
      "metadata": {
        "id": "5uBAdvzoJr1C"
      },
      "execution_count": 32,
      "outputs": []
    },
    {
      "cell_type": "code",
      "source": [
        "sentences_1"
      ],
      "metadata": {
        "colab": {
          "base_uri": "https://localhost:8080/"
        },
        "id": "XB4HD4CpKDYy",
        "outputId": "25b0bd90-2728-4a51-c994-923d095c9ed5"
      },
      "execution_count": 33,
      "outputs": [
        {
          "output_type": "execute_result",
          "data": {
            "text/plain": [
              "['I am a student of Artificial Intelligence.', 'Studying at SSUET.']"
            ]
          },
          "metadata": {},
          "execution_count": 33
        }
      ]
    },
    {
      "cell_type": "code",
      "source": [
        "words"
      ],
      "metadata": {
        "colab": {
          "base_uri": "https://localhost:8080/"
        },
        "id": "R_eBVGn3JxUa",
        "outputId": "5d7a3c50-00d1-4346-dfc4-901dd9ec677c"
      },
      "execution_count": 9,
      "outputs": [
        {
          "output_type": "execute_result",
          "data": {
            "text/plain": [
              "['I', 'am', 'a', 'student', 'of', 'Artificial', 'Intelligence']"
            ]
          },
          "metadata": {},
          "execution_count": 9
        }
      ]
    },
    {
      "cell_type": "code",
      "source": [
        "!pip install spacy"
      ],
      "metadata": {
        "colab": {
          "base_uri": "https://localhost:8080/"
        },
        "id": "r057ssM2E0lr",
        "outputId": "df86f605-b7fe-4469-fe88-d6bb6d84bdc7"
      },
      "execution_count": 12,
      "outputs": [
        {
          "output_type": "stream",
          "name": "stdout",
          "text": [
            "Requirement already satisfied: spacy in /usr/local/lib/python3.10/dist-packages (3.7.4)\n",
            "Requirement already satisfied: spacy-legacy<3.1.0,>=3.0.11 in /usr/local/lib/python3.10/dist-packages (from spacy) (3.0.12)\n",
            "Requirement already satisfied: spacy-loggers<2.0.0,>=1.0.0 in /usr/local/lib/python3.10/dist-packages (from spacy) (1.0.5)\n",
            "Requirement already satisfied: murmurhash<1.1.0,>=0.28.0 in /usr/local/lib/python3.10/dist-packages (from spacy) (1.0.10)\n",
            "Requirement already satisfied: cymem<2.1.0,>=2.0.2 in /usr/local/lib/python3.10/dist-packages (from spacy) (2.0.8)\n",
            "Requirement already satisfied: preshed<3.1.0,>=3.0.2 in /usr/local/lib/python3.10/dist-packages (from spacy) (3.0.9)\n",
            "Requirement already satisfied: thinc<8.3.0,>=8.2.2 in /usr/local/lib/python3.10/dist-packages (from spacy) (8.2.3)\n",
            "Requirement already satisfied: wasabi<1.2.0,>=0.9.1 in /usr/local/lib/python3.10/dist-packages (from spacy) (1.1.2)\n",
            "Requirement already satisfied: srsly<3.0.0,>=2.4.3 in /usr/local/lib/python3.10/dist-packages (from spacy) (2.4.8)\n",
            "Requirement already satisfied: catalogue<2.1.0,>=2.0.6 in /usr/local/lib/python3.10/dist-packages (from spacy) (2.0.10)\n",
            "Requirement already satisfied: weasel<0.4.0,>=0.1.0 in /usr/local/lib/python3.10/dist-packages (from spacy) (0.3.4)\n",
            "Requirement already satisfied: typer<0.10.0,>=0.3.0 in /usr/local/lib/python3.10/dist-packages (from spacy) (0.9.4)\n",
            "Requirement already satisfied: smart-open<7.0.0,>=5.2.1 in /usr/local/lib/python3.10/dist-packages (from spacy) (6.4.0)\n",
            "Requirement already satisfied: tqdm<5.0.0,>=4.38.0 in /usr/local/lib/python3.10/dist-packages (from spacy) (4.66.2)\n",
            "Requirement already satisfied: requests<3.0.0,>=2.13.0 in /usr/local/lib/python3.10/dist-packages (from spacy) (2.31.0)\n",
            "Requirement already satisfied: pydantic!=1.8,!=1.8.1,<3.0.0,>=1.7.4 in /usr/local/lib/python3.10/dist-packages (from spacy) (2.7.0)\n",
            "Requirement already satisfied: jinja2 in /usr/local/lib/python3.10/dist-packages (from spacy) (3.1.3)\n",
            "Requirement already satisfied: setuptools in /usr/local/lib/python3.10/dist-packages (from spacy) (67.7.2)\n",
            "Requirement already satisfied: packaging>=20.0 in /usr/local/lib/python3.10/dist-packages (from spacy) (24.0)\n",
            "Requirement already satisfied: langcodes<4.0.0,>=3.2.0 in /usr/local/lib/python3.10/dist-packages (from spacy) (3.3.0)\n",
            "Requirement already satisfied: numpy>=1.19.0 in /usr/local/lib/python3.10/dist-packages (from spacy) (1.25.2)\n",
            "Requirement already satisfied: annotated-types>=0.4.0 in /usr/local/lib/python3.10/dist-packages (from pydantic!=1.8,!=1.8.1,<3.0.0,>=1.7.4->spacy) (0.6.0)\n",
            "Requirement already satisfied: pydantic-core==2.18.1 in /usr/local/lib/python3.10/dist-packages (from pydantic!=1.8,!=1.8.1,<3.0.0,>=1.7.4->spacy) (2.18.1)\n",
            "Requirement already satisfied: typing-extensions>=4.6.1 in /usr/local/lib/python3.10/dist-packages (from pydantic!=1.8,!=1.8.1,<3.0.0,>=1.7.4->spacy) (4.11.0)\n",
            "Requirement already satisfied: charset-normalizer<4,>=2 in /usr/local/lib/python3.10/dist-packages (from requests<3.0.0,>=2.13.0->spacy) (3.3.2)\n",
            "Requirement already satisfied: idna<4,>=2.5 in /usr/local/lib/python3.10/dist-packages (from requests<3.0.0,>=2.13.0->spacy) (3.7)\n",
            "Requirement already satisfied: urllib3<3,>=1.21.1 in /usr/local/lib/python3.10/dist-packages (from requests<3.0.0,>=2.13.0->spacy) (2.0.7)\n",
            "Requirement already satisfied: certifi>=2017.4.17 in /usr/local/lib/python3.10/dist-packages (from requests<3.0.0,>=2.13.0->spacy) (2024.2.2)\n",
            "Requirement already satisfied: blis<0.8.0,>=0.7.8 in /usr/local/lib/python3.10/dist-packages (from thinc<8.3.0,>=8.2.2->spacy) (0.7.11)\n",
            "Requirement already satisfied: confection<1.0.0,>=0.0.1 in /usr/local/lib/python3.10/dist-packages (from thinc<8.3.0,>=8.2.2->spacy) (0.1.4)\n",
            "Requirement already satisfied: click<9.0.0,>=7.1.1 in /usr/local/lib/python3.10/dist-packages (from typer<0.10.0,>=0.3.0->spacy) (8.1.7)\n",
            "Requirement already satisfied: cloudpathlib<0.17.0,>=0.7.0 in /usr/local/lib/python3.10/dist-packages (from weasel<0.4.0,>=0.1.0->spacy) (0.16.0)\n",
            "Requirement already satisfied: MarkupSafe>=2.0 in /usr/local/lib/python3.10/dist-packages (from jinja2->spacy) (2.1.5)\n"
          ]
        }
      ]
    },
    {
      "cell_type": "markdown",
      "source": [
        "#### 4. Part-of-Speech (POS) Tagging\n",
        "\n",
        "POS tagging involves labeling each word in a sentence with its corresponding part of speech, such as noun, verb, adjective, etc.\n",
        "\n",
        "```python\n",
        "import nltk\n",
        "from nltk.tokenize import word_tokenize\n",
        "from nltk import pos_tag\n",
        "\n",
        "# Sample text\n",
        "sample_text = \"John likes to play soccer.\"\n",
        "\n",
        "# Tokenize the text into words\n",
        "words = word_tokenize(sample_text)\n",
        "\n",
        "# Perform POS tagging\n",
        "pos_tags = pos_tag(words)\n",
        "print(\"POS Tags:\", pos_tags)\n",
        "```\n",
        "\n",
        "In the output, each word is paired with its corresponding POS tag (e.g., 'John' is tagged as 'NNP' for proper noun, 'likes' as 'VBZ' for verb, 'to' as 'TO' for preposition, etc.).\n",
        "\n",
        "#### 5. Named Entity Recognition (NER)\n",
        "\n",
        "NER is the process of identifying and classifying named entities (e.g., names of persons, organizations, locations, etc.) in text.\n",
        "\n",
        "```python\n",
        "from nltk import ne_chunk\n",
        "from nltk.tokenize import word_tokenize\n",
        "import nltk\n",
        "nltk.download('maxent_ne_chunker')\n",
        "nltk.download('words')\n",
        "\n",
        "# Sample text containing named entities\n",
        "sample_text = \"Apple Inc. was founded by Steve Jobs and Steve Wozniak in California.\"\n",
        "\n",
        "# Tokenize the text into words\n",
        "words = word_tokenize(sample_text)\n",
        "\n",
        "# Perform POS tagging\n",
        "pos_tags = pos_tag(words)\n",
        "\n",
        "# Perform NER using nltk's ne_chunk\n",
        "ner_result = ne_chunk(pos_tags)\n",
        "print(\"NER Result:\")\n",
        "print(ner_result)\n",
        "```\n",
        "\n",
        "In the output, `ne_chunk` will identify named entities and classify them into categories like 'PERSON' (for names of people), 'ORGANIZATION' (for company names), 'GPE' (for geopolitical entities like countries or cities), etc.\n",
        "\n",
        "#### Conclusion\n",
        "\n",
        "These examples demonstrate how to perform Part-of-Speech tagging and Named Entity Recognition using the `nltk` library in Python. NLP tasks like these are essential for extracting structured information from unstructured text data and are foundational in many NLP applications such as information extraction, question answering, and document summarization. Further exploration and experimentation with more advanced NLP techniques and libraries will enhance your understanding and skills in natural language processing."
      ],
      "metadata": {
        "id": "stM-psjDa6vh"
      }
    },
    {
      "cell_type": "code",
      "source": [
        "import spacy\n",
        "from spacy import displacy\n",
        "\n",
        "# Load the English language model\n",
        "nlp = spacy.load(\"en_core_web_sm\")\n",
        "\n",
        "# Sample text containing named entities\n",
        "sample_text = \"Imaran Khan is the PM of Pakistan\"\n",
        "\n",
        "# Process the text using spaCy\n",
        "doc = nlp(sample_text)\n",
        "\n",
        "# Visualize named entities using displaCy\n",
        "displacy.render(doc, style=\"ent\", jupyter=True)\n"
      ],
      "metadata": {
        "colab": {
          "base_uri": "https://localhost:8080/",
          "height": 52
        },
        "id": "SMcLmUY7E94Q",
        "outputId": "5f01fc64-78a7-41fe-c2b9-77cff184bd63"
      },
      "execution_count": 13,
      "outputs": [
        {
          "output_type": "display_data",
          "data": {
            "text/plain": [
              "<IPython.core.display.HTML object>"
            ],
            "text/html": [
              "<span class=\"tex2jax_ignore\"><div class=\"entities\" style=\"line-height: 2.5; direction: ltr\">\n",
              "<mark class=\"entity\" style=\"background: #aa9cfc; padding: 0.45em 0.6em; margin: 0 0.25em; line-height: 1; border-radius: 0.35em;\">\n",
              "    Imaran Khan\n",
              "    <span style=\"font-size: 0.8em; font-weight: bold; line-height: 1; border-radius: 0.35em; vertical-align: middle; margin-left: 0.5rem\">PERSON</span>\n",
              "</mark>\n",
              " is the PM of \n",
              "<mark class=\"entity\" style=\"background: #feca74; padding: 0.45em 0.6em; margin: 0 0.25em; line-height: 1; border-radius: 0.35em;\">\n",
              "    Pakistan\n",
              "    <span style=\"font-size: 0.8em; font-weight: bold; line-height: 1; border-radius: 0.35em; vertical-align: middle; margin-left: 0.5rem\">GPE</span>\n",
              "</mark>\n",
              "</div></span>"
            ]
          },
          "metadata": {}
        }
      ]
    },
    {
      "cell_type": "code",
      "source": [
        "import spacy\n",
        "from spacy import displacy\n",
        "\n",
        "# Load the English language model\n",
        "nlp = spacy.load(\"en_core_web_sm\")\n",
        "\n",
        "# Example sentence\n",
        "sentence = \"The cat sat on the mat.\"\n",
        "\n",
        "# Process the sentence with spaCy\n",
        "doc = nlp(sentence)\n",
        "\n",
        "# Visualize the syntactic dependencies\n",
        "displacy.render(doc, style=\"dep\", jupyter=True)\n"
      ],
      "metadata": {
        "colab": {
          "base_uri": "https://localhost:8080/",
          "height": 353
        },
        "id": "qxxaGLyPi5SX",
        "outputId": "0d7153e4-7efb-4dd4-9aa4-6e537450d216"
      },
      "execution_count": 14,
      "outputs": [
        {
          "output_type": "display_data",
          "data": {
            "text/plain": [
              "<IPython.core.display.HTML object>"
            ],
            "text/html": [
              "<span class=\"tex2jax_ignore\"><svg xmlns=\"http://www.w3.org/2000/svg\" xmlns:xlink=\"http://www.w3.org/1999/xlink\" xml:lang=\"en\" id=\"29e9d348c76045cab3157b14a8dabf82-0\" class=\"displacy\" width=\"1100\" height=\"312.0\" direction=\"ltr\" style=\"max-width: none; height: 312.0px; color: #000000; background: #ffffff; font-family: Arial; direction: ltr\">\n",
              "<text class=\"displacy-token\" fill=\"currentColor\" text-anchor=\"middle\" y=\"222.0\">\n",
              "    <tspan class=\"displacy-word\" fill=\"currentColor\" x=\"50\">The</tspan>\n",
              "    <tspan class=\"displacy-tag\" dy=\"2em\" fill=\"currentColor\" x=\"50\">DET</tspan>\n",
              "</text>\n",
              "\n",
              "<text class=\"displacy-token\" fill=\"currentColor\" text-anchor=\"middle\" y=\"222.0\">\n",
              "    <tspan class=\"displacy-word\" fill=\"currentColor\" x=\"225\">cat</tspan>\n",
              "    <tspan class=\"displacy-tag\" dy=\"2em\" fill=\"currentColor\" x=\"225\">NOUN</tspan>\n",
              "</text>\n",
              "\n",
              "<text class=\"displacy-token\" fill=\"currentColor\" text-anchor=\"middle\" y=\"222.0\">\n",
              "    <tspan class=\"displacy-word\" fill=\"currentColor\" x=\"400\">sat</tspan>\n",
              "    <tspan class=\"displacy-tag\" dy=\"2em\" fill=\"currentColor\" x=\"400\">VERB</tspan>\n",
              "</text>\n",
              "\n",
              "<text class=\"displacy-token\" fill=\"currentColor\" text-anchor=\"middle\" y=\"222.0\">\n",
              "    <tspan class=\"displacy-word\" fill=\"currentColor\" x=\"575\">on</tspan>\n",
              "    <tspan class=\"displacy-tag\" dy=\"2em\" fill=\"currentColor\" x=\"575\">ADP</tspan>\n",
              "</text>\n",
              "\n",
              "<text class=\"displacy-token\" fill=\"currentColor\" text-anchor=\"middle\" y=\"222.0\">\n",
              "    <tspan class=\"displacy-word\" fill=\"currentColor\" x=\"750\">the</tspan>\n",
              "    <tspan class=\"displacy-tag\" dy=\"2em\" fill=\"currentColor\" x=\"750\">DET</tspan>\n",
              "</text>\n",
              "\n",
              "<text class=\"displacy-token\" fill=\"currentColor\" text-anchor=\"middle\" y=\"222.0\">\n",
              "    <tspan class=\"displacy-word\" fill=\"currentColor\" x=\"925\">mat.</tspan>\n",
              "    <tspan class=\"displacy-tag\" dy=\"2em\" fill=\"currentColor\" x=\"925\">NOUN</tspan>\n",
              "</text>\n",
              "\n",
              "<g class=\"displacy-arrow\">\n",
              "    <path class=\"displacy-arc\" id=\"arrow-29e9d348c76045cab3157b14a8dabf82-0-0\" stroke-width=\"2px\" d=\"M70,177.0 C70,89.5 220.0,89.5 220.0,177.0\" fill=\"none\" stroke=\"currentColor\"/>\n",
              "    <text dy=\"1.25em\" style=\"font-size: 0.8em; letter-spacing: 1px\">\n",
              "        <textPath xlink:href=\"#arrow-29e9d348c76045cab3157b14a8dabf82-0-0\" class=\"displacy-label\" startOffset=\"50%\" side=\"left\" fill=\"currentColor\" text-anchor=\"middle\">det</textPath>\n",
              "    </text>\n",
              "    <path class=\"displacy-arrowhead\" d=\"M70,179.0 L62,167.0 78,167.0\" fill=\"currentColor\"/>\n",
              "</g>\n",
              "\n",
              "<g class=\"displacy-arrow\">\n",
              "    <path class=\"displacy-arc\" id=\"arrow-29e9d348c76045cab3157b14a8dabf82-0-1\" stroke-width=\"2px\" d=\"M245,177.0 C245,89.5 395.0,89.5 395.0,177.0\" fill=\"none\" stroke=\"currentColor\"/>\n",
              "    <text dy=\"1.25em\" style=\"font-size: 0.8em; letter-spacing: 1px\">\n",
              "        <textPath xlink:href=\"#arrow-29e9d348c76045cab3157b14a8dabf82-0-1\" class=\"displacy-label\" startOffset=\"50%\" side=\"left\" fill=\"currentColor\" text-anchor=\"middle\">nsubj</textPath>\n",
              "    </text>\n",
              "    <path class=\"displacy-arrowhead\" d=\"M245,179.0 L237,167.0 253,167.0\" fill=\"currentColor\"/>\n",
              "</g>\n",
              "\n",
              "<g class=\"displacy-arrow\">\n",
              "    <path class=\"displacy-arc\" id=\"arrow-29e9d348c76045cab3157b14a8dabf82-0-2\" stroke-width=\"2px\" d=\"M420,177.0 C420,89.5 570.0,89.5 570.0,177.0\" fill=\"none\" stroke=\"currentColor\"/>\n",
              "    <text dy=\"1.25em\" style=\"font-size: 0.8em; letter-spacing: 1px\">\n",
              "        <textPath xlink:href=\"#arrow-29e9d348c76045cab3157b14a8dabf82-0-2\" class=\"displacy-label\" startOffset=\"50%\" side=\"left\" fill=\"currentColor\" text-anchor=\"middle\">prep</textPath>\n",
              "    </text>\n",
              "    <path class=\"displacy-arrowhead\" d=\"M570.0,179.0 L578.0,167.0 562.0,167.0\" fill=\"currentColor\"/>\n",
              "</g>\n",
              "\n",
              "<g class=\"displacy-arrow\">\n",
              "    <path class=\"displacy-arc\" id=\"arrow-29e9d348c76045cab3157b14a8dabf82-0-3\" stroke-width=\"2px\" d=\"M770,177.0 C770,89.5 920.0,89.5 920.0,177.0\" fill=\"none\" stroke=\"currentColor\"/>\n",
              "    <text dy=\"1.25em\" style=\"font-size: 0.8em; letter-spacing: 1px\">\n",
              "        <textPath xlink:href=\"#arrow-29e9d348c76045cab3157b14a8dabf82-0-3\" class=\"displacy-label\" startOffset=\"50%\" side=\"left\" fill=\"currentColor\" text-anchor=\"middle\">det</textPath>\n",
              "    </text>\n",
              "    <path class=\"displacy-arrowhead\" d=\"M770,179.0 L762,167.0 778,167.0\" fill=\"currentColor\"/>\n",
              "</g>\n",
              "\n",
              "<g class=\"displacy-arrow\">\n",
              "    <path class=\"displacy-arc\" id=\"arrow-29e9d348c76045cab3157b14a8dabf82-0-4\" stroke-width=\"2px\" d=\"M595,177.0 C595,2.0 925.0,2.0 925.0,177.0\" fill=\"none\" stroke=\"currentColor\"/>\n",
              "    <text dy=\"1.25em\" style=\"font-size: 0.8em; letter-spacing: 1px\">\n",
              "        <textPath xlink:href=\"#arrow-29e9d348c76045cab3157b14a8dabf82-0-4\" class=\"displacy-label\" startOffset=\"50%\" side=\"left\" fill=\"currentColor\" text-anchor=\"middle\">pobj</textPath>\n",
              "    </text>\n",
              "    <path class=\"displacy-arrowhead\" d=\"M925.0,179.0 L933.0,167.0 917.0,167.0\" fill=\"currentColor\"/>\n",
              "</g>\n",
              "</svg></span>"
            ]
          },
          "metadata": {}
        }
      ]
    },
    {
      "cell_type": "code",
      "source": [
        "# Customizing dependency visualization\n",
        "options = {\"compact\": True, \"color\": \"blue\", \"bg\": \"#ffffff\",\n",
        "           \"font\": \"Source Sans Pro\"}\n",
        "\n",
        "displacy.render(doc, style=\"dep\", jupyter=True, options=options)\n"
      ],
      "metadata": {
        "colab": {
          "base_uri": "https://localhost:8080/",
          "height": 328
        },
        "id": "HvlzkwNNi_bm",
        "outputId": "1509a9a0-a38c-427f-fbcb-b3e588d2c752"
      },
      "execution_count": 15,
      "outputs": [
        {
          "output_type": "display_data",
          "data": {
            "text/plain": [
              "<IPython.core.display.HTML object>"
            ],
            "text/html": [
              "<span class=\"tex2jax_ignore\"><svg xmlns=\"http://www.w3.org/2000/svg\" xmlns:xlink=\"http://www.w3.org/1999/xlink\" xml:lang=\"en\" id=\"b464bada7e1943be81905f55940f7d73-0\" class=\"displacy\" width=\"950\" height=\"287.0\" direction=\"ltr\" style=\"max-width: none; height: 287.0px; color: blue; background: #ffffff; font-family: Source Sans Pro; direction: ltr\">\n",
              "<text class=\"displacy-token\" fill=\"currentColor\" text-anchor=\"middle\" y=\"197.0\">\n",
              "    <tspan class=\"displacy-word\" fill=\"currentColor\" x=\"50\">The</tspan>\n",
              "    <tspan class=\"displacy-tag\" dy=\"2em\" fill=\"currentColor\" x=\"50\">DET</tspan>\n",
              "</text>\n",
              "\n",
              "<text class=\"displacy-token\" fill=\"currentColor\" text-anchor=\"middle\" y=\"197.0\">\n",
              "    <tspan class=\"displacy-word\" fill=\"currentColor\" x=\"200\">cat</tspan>\n",
              "    <tspan class=\"displacy-tag\" dy=\"2em\" fill=\"currentColor\" x=\"200\">NOUN</tspan>\n",
              "</text>\n",
              "\n",
              "<text class=\"displacy-token\" fill=\"currentColor\" text-anchor=\"middle\" y=\"197.0\">\n",
              "    <tspan class=\"displacy-word\" fill=\"currentColor\" x=\"350\">sat</tspan>\n",
              "    <tspan class=\"displacy-tag\" dy=\"2em\" fill=\"currentColor\" x=\"350\">VERB</tspan>\n",
              "</text>\n",
              "\n",
              "<text class=\"displacy-token\" fill=\"currentColor\" text-anchor=\"middle\" y=\"197.0\">\n",
              "    <tspan class=\"displacy-word\" fill=\"currentColor\" x=\"500\">on</tspan>\n",
              "    <tspan class=\"displacy-tag\" dy=\"2em\" fill=\"currentColor\" x=\"500\">ADP</tspan>\n",
              "</text>\n",
              "\n",
              "<text class=\"displacy-token\" fill=\"currentColor\" text-anchor=\"middle\" y=\"197.0\">\n",
              "    <tspan class=\"displacy-word\" fill=\"currentColor\" x=\"650\">the</tspan>\n",
              "    <tspan class=\"displacy-tag\" dy=\"2em\" fill=\"currentColor\" x=\"650\">DET</tspan>\n",
              "</text>\n",
              "\n",
              "<text class=\"displacy-token\" fill=\"currentColor\" text-anchor=\"middle\" y=\"197.0\">\n",
              "    <tspan class=\"displacy-word\" fill=\"currentColor\" x=\"800\">mat.</tspan>\n",
              "    <tspan class=\"displacy-tag\" dy=\"2em\" fill=\"currentColor\" x=\"800\">NOUN</tspan>\n",
              "</text>\n",
              "\n",
              "<g class=\"displacy-arrow\">\n",
              "    <path class=\"displacy-arc\" id=\"arrow-b464bada7e1943be81905f55940f7d73-0-0\" stroke-width=\"2px\" d=\"M62,152.0 62,127.0 197.0,127.0 197.0,152.0\" fill=\"none\" stroke=\"currentColor\"/>\n",
              "    <text dy=\"1.25em\" style=\"font-size: 0.8em; letter-spacing: 1px\">\n",
              "        <textPath xlink:href=\"#arrow-b464bada7e1943be81905f55940f7d73-0-0\" class=\"displacy-label\" startOffset=\"50%\" side=\"left\" fill=\"currentColor\" text-anchor=\"middle\">det</textPath>\n",
              "    </text>\n",
              "    <path class=\"displacy-arrowhead\" d=\"M62,154.0 L58,146.0 66,146.0\" fill=\"currentColor\"/>\n",
              "</g>\n",
              "\n",
              "<g class=\"displacy-arrow\">\n",
              "    <path class=\"displacy-arc\" id=\"arrow-b464bada7e1943be81905f55940f7d73-0-1\" stroke-width=\"2px\" d=\"M212,152.0 212,127.0 347.0,127.0 347.0,152.0\" fill=\"none\" stroke=\"currentColor\"/>\n",
              "    <text dy=\"1.25em\" style=\"font-size: 0.8em; letter-spacing: 1px\">\n",
              "        <textPath xlink:href=\"#arrow-b464bada7e1943be81905f55940f7d73-0-1\" class=\"displacy-label\" startOffset=\"50%\" side=\"left\" fill=\"currentColor\" text-anchor=\"middle\">nsubj</textPath>\n",
              "    </text>\n",
              "    <path class=\"displacy-arrowhead\" d=\"M212,154.0 L208,146.0 216,146.0\" fill=\"currentColor\"/>\n",
              "</g>\n",
              "\n",
              "<g class=\"displacy-arrow\">\n",
              "    <path class=\"displacy-arc\" id=\"arrow-b464bada7e1943be81905f55940f7d73-0-2\" stroke-width=\"2px\" d=\"M362,152.0 362,127.0 497.0,127.0 497.0,152.0\" fill=\"none\" stroke=\"currentColor\"/>\n",
              "    <text dy=\"1.25em\" style=\"font-size: 0.8em; letter-spacing: 1px\">\n",
              "        <textPath xlink:href=\"#arrow-b464bada7e1943be81905f55940f7d73-0-2\" class=\"displacy-label\" startOffset=\"50%\" side=\"left\" fill=\"currentColor\" text-anchor=\"middle\">prep</textPath>\n",
              "    </text>\n",
              "    <path class=\"displacy-arrowhead\" d=\"M497.0,154.0 L501.0,146.0 493.0,146.0\" fill=\"currentColor\"/>\n",
              "</g>\n",
              "\n",
              "<g class=\"displacy-arrow\">\n",
              "    <path class=\"displacy-arc\" id=\"arrow-b464bada7e1943be81905f55940f7d73-0-3\" stroke-width=\"2px\" d=\"M662,152.0 662,127.0 797.0,127.0 797.0,152.0\" fill=\"none\" stroke=\"currentColor\"/>\n",
              "    <text dy=\"1.25em\" style=\"font-size: 0.8em; letter-spacing: 1px\">\n",
              "        <textPath xlink:href=\"#arrow-b464bada7e1943be81905f55940f7d73-0-3\" class=\"displacy-label\" startOffset=\"50%\" side=\"left\" fill=\"currentColor\" text-anchor=\"middle\">det</textPath>\n",
              "    </text>\n",
              "    <path class=\"displacy-arrowhead\" d=\"M662,154.0 L658,146.0 666,146.0\" fill=\"currentColor\"/>\n",
              "</g>\n",
              "\n",
              "<g class=\"displacy-arrow\">\n",
              "    <path class=\"displacy-arc\" id=\"arrow-b464bada7e1943be81905f55940f7d73-0-4\" stroke-width=\"2px\" d=\"M512,152.0 512,102.0 800.0,102.0 800.0,152.0\" fill=\"none\" stroke=\"currentColor\"/>\n",
              "    <text dy=\"1.25em\" style=\"font-size: 0.8em; letter-spacing: 1px\">\n",
              "        <textPath xlink:href=\"#arrow-b464bada7e1943be81905f55940f7d73-0-4\" class=\"displacy-label\" startOffset=\"50%\" side=\"left\" fill=\"currentColor\" text-anchor=\"middle\">pobj</textPath>\n",
              "    </text>\n",
              "    <path class=\"displacy-arrowhead\" d=\"M800.0,154.0 L804.0,146.0 796.0,146.0\" fill=\"currentColor\"/>\n",
              "</g>\n",
              "</svg></span>"
            ]
          },
          "metadata": {}
        }
      ]
    },
    {
      "cell_type": "code",
      "source": [
        "import matplotlib.pyplot as plt\n",
        "\n",
        "# Dictionary mapping POS tags to their complete names and definitions\n",
        "pos_tags_info = {\n",
        "    'CC': {'name': 'Coordinating conjunction', 'definition': 'Joins words, phrases, or clauses together (e.g., \"and\", \"but\", \"or\").'},\n",
        "    'CD': {'name': 'Cardinal number', 'definition': 'Represents numerical digits (e.g., \"one\", \"two\", \"3\", \"99\").'},\n",
        "    'DT': {'name': 'Determiner', 'definition': 'Specifies or identifies a noun (e.g., \"the\", \"this\", \"each\", \"some\").'},\n",
        "    'EX': {'name': 'Existential there', 'definition': 'Indicates the existence of something (e.g., \"there is\", \"there are\").'},\n",
        "    'FW': {'name': 'Foreign word', 'definition': 'Represents words borrowed from other languages (e.g., \"rendezvous\", \"fiancé\").'},\n",
        "    'IN': {'name': 'Preposition or subordinating conjunction', 'definition': 'Links nouns, pronouns, or phrases to other words in a sentence (e.g., \"in\", \"on\", \"at\", \"since\").'},\n",
        "    'JJ': {'name': 'Adjective', 'definition': 'Describes or modifies a noun (e.g., \"big\", \"beautiful\", \"green\").'},\n",
        "    'JJR': {'name': 'Adjective, comparative', 'definition': 'Compares two things using an adjective (e.g., \"bigger\", \"stronger\", \"more beautiful\").'},\n",
        "    'JJS': {'name': 'Adjective, superlative', 'definition': 'Compares more than two things using an adjective (e.g., \"biggest\", \"strongest\", \"most beautiful\").'},\n",
        "    'LS': {'name': 'List item marker', 'definition': 'Represents a list item in numbered or bulleted format (e.g., \"1.\", \"2.\", \"•\").'},\n",
        "    'MD': {'name': 'Modal', 'definition': 'Indicates likelihood, possibility, permission, or obligation (e.g., \"can\", \"could\", \"might\", \"must\").'},\n",
        "    'NN': {'name': 'Noun, singular or mass', 'definition': 'Represents a singular or mass noun (e.g., \"dog\", \"cat\", \"table\", \"happiness\").'},\n",
        "    'NNS': {'name': 'Noun, plural', 'definition': 'Represents a plural noun (e.g., \"dogs\", \"cats\", \"tables\", \"happinesses\").'},\n",
        "    'NNP': {'name': 'Proper noun, singular', 'definition': 'Represents a singular proper noun (e.g., \"John\", \"London\", \"Facebook\").'},\n",
        "    'NNPS': {'name': 'Proper noun, plural', 'definition': 'Represents a plural proper noun (e.g., \"Smiths\", \"Mendelssohns\", \"Facebooks\").'},\n",
        "    'PDT': {'name': 'Predeterminer', 'definition': 'Modifies a noun phrase before articles (e.g., \"all\", \"both\", \"half\").'},\n",
        "    'POS': {'name': 'Possessive ending', 'definition': 'Indicates possession or ownership (e.g., \"\\'s\", \"s\\'\").'},\n",
        "    'PRP': {'name': 'Personal pronoun', 'definition': 'Represents a pronoun (e.g., \"I\", \"you\", \"he\", \"she\", \"it\", \"we\", \"they\").'},\n",
        "    'PRP$': {'name': 'Possessive pronoun', 'definition': 'Represents a possessive pronoun (e.g., \"my\", \"your\", \"his\", \"her\", \"its\", \"our\", \"their\").'},\n",
        "    'RB': {'name': 'Adverb', 'definition': 'Describes or modifies a verb, adjective, or other adverb (e.g., \"quickly\", \"very\", \"well\").'},\n",
        "    'RBR': {'name': 'Adverb, comparative', 'definition': 'Compares two things using an adverb (e.g., \"faster\", \"more quickly\").'},\n",
        "    'RBS': {'name': 'Adverb, superlative', 'definition': 'Compares more than two things using an adverb (e.g., \"fastest\", \"most quickly\").'},\n",
        "    'RP': {'name': 'Particle', 'definition': 'Represents a word that has grammatical function but does not fit into other categories (e.g., \"up\", \"out\", \"about\").'},\n",
        "    'SYM': {'name': 'Symbol', 'definition': 'Represents symbols or icons (e.g., \"$\", \"%\", \"&\", \"©\").'},\n",
        "    'TO': {'name': 'to', 'definition': 'Acts as a preposition (\"to\") or part of an infinitive verb form (e.g., \"to go\", \"to dance\").'},\n",
        "    'UH': {'name': 'Interjection', 'definition': 'Expresses emotion or exclamation (e.g., \"wow\", \"oh\", \"alas\").'},\n",
        "    'VB': {'name': 'Verb, base form', 'definition': 'Represents a base form (infinitive) of a verb (e.g., \"eat\", \"go\", \"play\").'},\n",
        "    'VBD': {'name': 'Verb, past tense', 'definition': 'Represents the past tense form of a verb (e.g., \"ate\", \"went\", \"played\").'},\n",
        "    'VBG': {'name': 'Verb, gerund or present participle', 'definition': 'Represents a verb form ending in \"-ing\" used as a gerund or present participle (e.g., \"eating\", \"going\", \"playing\").'},\n",
        "    'VBN': {'name': 'Verb, past participle', 'definition': 'Represents the past participle form of a verb (e.g., \"eaten\", \"gone\", \"played\").'},\n",
        "    'VBP': {'name': 'Verb, non-3rd person singular present', 'definition': 'Represents the base form of a verb used in non-3rd person singular present tense (e.g., \"eat\", \"go\", \"play\").'}\n",
        "}\n",
        "\n",
        "# Extracting data for visualization\n",
        "pos_tags = list(pos_tags_info.keys())\n",
        "names = [pos_tags_info[tag]['name'] for tag in pos_tags]\n",
        "definitions = [pos_tags_info[tag]['definition'] for tag in pos_tags]\n",
        "\n",
        "# Plotting POS tags with their complete names and definitions\n",
        "plt.figure(figsize=(30, 12))\n",
        "plt.barh(names, pos_tags, color='skyblue')\n",
        "plt.xlabel('Complete Name of POS Tag')\n",
        "plt.ylabel('POS Tag')\n",
        "plt.title('Parts-of-Speech Tags with Complete Names')\n",
        "plt.show()\n",
        "\n",
        "# Displaying definitions\n",
        "# for tag, definition in zip(pos_tags, definitions):\n",
        "#     print(f\"{tag} ({names[pos_tags.index(tag)]}): {definition}\\n\")\n"
      ],
      "metadata": {
        "colab": {
          "base_uri": "https://localhost:8080/",
          "height": 700
        },
        "id": "igfdGKRej7qi",
        "outputId": "3947920d-6c2b-4528-8c01-8a67ee93286c"
      },
      "execution_count": null,
      "outputs": [
        {
          "output_type": "display_data",
          "data": {
            "text/plain": [
              "<Figure size 3000x1200 with 1 Axes>"
            ],
            "image/png": "[encoded data removed]"
          },
          "metadata": {}
        }
      ]
    },
    {
      "cell_type": "code",
      "source": [
        "from nltk import ne_chunk\n",
        "from nltk.tokenize import word_tokenize\n",
        "import nltk\n",
        "nltk.download('maxent_ne_chunker')\n",
        "nltk.download('words')\n",
        "\n",
        "# Sample text containing named entities\n",
        "sample_text = \"Apple Inc. was founded by Steve Jobs and Steve Wozniak in California.\"\n",
        "\n",
        "# Tokenize the text into words\n",
        "words = word_tokenize(sample_text)\n",
        "\n",
        "# Perform POS tagging\n",
        "pos_tags = pos_tag(words)\n",
        "\n",
        "# Perform NER using nltk's ne_chunk\n",
        "ner_result = ne_chunk(pos_tags)\n",
        "print(\"NER Result:\")\n",
        "print(ner_result)\n"
      ],
      "metadata": {
        "colab": {
          "base_uri": "https://localhost:8080/"
        },
        "id": "Z92C4WGdEjXe",
        "outputId": "06e891f5-2d6c-4660-f4ee-44a1bf298082"
      },
      "execution_count": null,
      "outputs": [
        {
          "output_type": "stream",
          "name": "stderr",
          "text": [
            "[nltk_data] Downloading package maxent_ne_chunker to\n",
            "[nltk_data]     /root/nltk_data...\n",
            "[nltk_data]   Unzipping chunkers/maxent_ne_chunker.zip.\n",
            "[nltk_data] Downloading package words to /root/nltk_data...\n"
          ]
        },
        {
          "output_type": "stream",
          "name": "stdout",
          "text": [
            "NER Result:\n",
            "(S\n",
            "  (PERSON Apple/NNP)\n",
            "  (ORGANIZATION Inc./NNP)\n",
            "  was/VBD\n",
            "  founded/VBN\n",
            "  by/IN\n",
            "  (PERSON Steve/NNP Jobs/NNP)\n",
            "  and/CC\n",
            "  (PERSON Steve/NNP Wozniak/NNP)\n",
            "  in/IN\n",
            "  (GPE California/NNP)\n",
            "  ./.)\n"
          ]
        },
        {
          "output_type": "stream",
          "name": "stderr",
          "text": [
            "[nltk_data]   Unzipping corpora/words.zip.\n"
          ]
        }
      ]
    },
    {
      "cell_type": "code",
      "source": [
        "from nltk.tokenize import word_tokenize, sent_tokenize\n",
        "import nltk\n",
        "nltk.download('punkt')\n",
        "# Tokenize into words\n",
        "words = word_tokenize(clean_text)\n",
        "print(\"Tokenized Words:\", words)\n",
        "\n",
        "# Tokenize into sentences\n",
        "sentences = sent_tokenize(clean_text)\n",
        "print(\"Tokenized Sentences:\", sentences)\n"
      ],
      "metadata": {
        "colab": {
          "base_uri": "https://localhost:8080/"
        },
        "id": "W322rDjJDz-R",
        "outputId": "ae176f11-e8bf-4d30-e70d-f033767e4037"
      },
      "execution_count": null,
      "outputs": [
        {
          "output_type": "stream",
          "name": "stderr",
          "text": [
            "[nltk_data] Downloading package punkt to /root/nltk_data...\n",
            "[nltk_data]   Unzipping tokenizers/punkt.zip.\n"
          ]
        },
        {
          "output_type": "stream",
          "name": "stdout",
          "text": [
            "Tokenized Words: ['hello', 'this', 'is', 'a', 'sample', 'text', 'with', 'numbers', 'and', 'punctuation']\n",
            "Tokenized Sentences: ['hello this is a sample text with numbers and punctuation']\n"
          ]
        }
      ]
    },
    {
      "cell_type": "code",
      "source": [
        "from nltk.stem import WordNetLemmatizer\n",
        "from nltk.tokenize import word_tokenize\n",
        "nltk.download('wordnet')\n",
        "# Sample text\n",
        "sample_text = \"These guys are roaming around\"\n",
        "\n",
        "# Tokenize the text into words\n",
        "words = word_tokenize(sample_text)\n",
        "\n",
        "# Initialize WordNet lemmatizer\n",
        "lemmatizer = WordNetLemmatizer()\n",
        "\n",
        "# Lemmatize each word\n",
        "lemmatized_words = [lemmatizer.lemmatize(word) for word in words]\n",
        "\n",
        "print(\"Lemmatized Words:\", lemmatized_words)\n"
      ],
      "metadata": {
        "colab": {
          "base_uri": "https://localhost:8080/"
        },
        "id": "FMSvUFPJZ5DN",
        "outputId": "0dde7dc7-557c-48a6-d71a-8bf3f2bd92f9"
      },
      "execution_count": 19,
      "outputs": [
        {
          "output_type": "stream",
          "name": "stdout",
          "text": [
            "Lemmatized Words: ['These', 'guy', 'are', 'roaming', 'around']\n"
          ]
        },
        {
          "output_type": "stream",
          "name": "stderr",
          "text": [
            "[nltk_data] Downloading package wordnet to /root/nltk_data...\n",
            "[nltk_data]   Package wordnet is already up-to-date!\n"
          ]
        }
      ]
    },
    {
      "cell_type": "code",
      "source": [
        "import numpy as np\n",
        "\n",
        "def cosine_similarity(v1, v2):\n",
        "    # Compute dot product of v1 and v2\n",
        "    dot_product = np.dot(v1, v2)\n",
        "\n",
        "    # Compute magnitudes of v1 and v2\n",
        "    mag_v1 = np.linalg.norm(v1)\n",
        "    mag_v2 = np.linalg.norm(v2)\n",
        "\n",
        "    # Compute cosine similarity\n",
        "    cosine_sim = dot_product / (mag_v1 * mag_v2)\n",
        "\n",
        "    return cosine_sim\n",
        "\n",
        "# Example vectors (representing TF-IDF vectors or embeddings)\n",
        "v1 = np.array([0.2, 0.4, 0.6, 0.8])  # Sample vector 1\n",
        "v2 = np.array([0.1, 0.5, 0.3, 0.7])  # Sample vector 2\n",
        "\n",
        "# Calculate cosine similarity\n",
        "similarity = cosine_similarity(v1, v2)\n",
        "print(\"Cosine Similarity:\", similarity)\n"
      ],
      "metadata": {
        "colab": {
          "base_uri": "https://localhost:8080/"
        },
        "id": "qF94X4rnbMy4",
        "outputId": "f8736e81-f6ff-4d3c-9a74-aa165236b429"
      },
      "execution_count": null,
      "outputs": [
        {
          "output_type": "stream",
          "name": "stdout",
          "text": [
            "Cosine Similarity: 0.9561828874675149\n"
          ]
        }
      ]
    },
    {
      "cell_type": "code",
      "source": [
        "from sklearn.feature_extraction.text import TfidfVectorizer\n",
        "from sklearn.metrics.pairwise import cosine_similarity\n",
        "\n",
        "# Sample text documents\n",
        "doc1 = \"Natural language processing is a field of study.\"\n",
        "doc2 = \"NLP allows computers to understand human language.\"\n",
        "doc3 = \"Machine learning is used for text classification.\"\n",
        "\n",
        "# Initialize TF-IDF Vectorizer\n",
        "vectorizer = TfidfVectorizer()\n",
        "\n",
        "# Fit and transform the text documents into TF-IDF vectors\n",
        "tfidf_matrix = vectorizer.fit_transform([doc1, doc2, doc3])\n",
        "\n",
        "# Calculate cosine similarity between document vectors\n",
        "cosine_similarities = cosine_similarity(tfidf_matrix, tfidf_matrix)\n",
        "\n",
        "# Print cosine similarity matrix\n",
        "print(\"Cosine Similarity Matrix:\")\n",
        "print(cosine_similarities)\n"
      ],
      "metadata": {
        "colab": {
          "base_uri": "https://localhost:8080/"
        },
        "id": "uorQUC4wbbFn",
        "outputId": "a481f6df-cd1c-4886-8a30-dce836264e2a"
      },
      "execution_count": null,
      "outputs": [
        {
          "output_type": "stream",
          "name": "stdout",
          "text": [
            "Cosine Similarity Matrix:\n",
            "[[1.         0.09088459 0.09088459]\n",
            " [0.09088459 1.         0.        ]\n",
            " [0.09088459 0.         1.        ]]\n"
          ]
        }
      ]
    },
    {
      "cell_type": "code",
      "source": [
        "import nltk\n",
        "from nltk.tokenize import sent_tokenize\n",
        "\n",
        "# Sample text with multiple sentences\n",
        "text = \"Natural Language Processing (NLP) is a subfield of artificial intelligence. It focuses on the interaction between computers and humans through natural language. NLP enables computers to understand, interpret, and generate human language.\"\n",
        "\n",
        "# Tokenize the text into sentences\n",
        "sentences = sent_tokenize(text)\n",
        "sentences\n",
        "# # Print each tokenized sentence\n",
        "# for sentence in sentences:\n",
        "#     print(sentence)\n"
      ],
      "metadata": {
        "colab": {
          "base_uri": "https://localhost:8080/"
        },
        "id": "CprmHwQcha9X",
        "outputId": "d6de9f90-b1ad-4313-d00c-bc671b59b1fb"
      },
      "execution_count": 22,
      "outputs": [
        {
          "output_type": "execute_result",
          "data": {
            "text/plain": [
              "['Natural Language Processing (NLP) is a subfield of artificial intelligence.',\n",
              " 'It focuses on the interaction between computers and humans through natural language.',\n",
              " 'NLP enables computers to understand, interpret, and generate human language.']"
            ]
          },
          "metadata": {},
          "execution_count": 22
        }
      ]
    },
    {
      "cell_type": "markdown",
      "source": [
        "To calculate the cosine similarity of text documents mathematically, we first need to represent each text document as a vector in a high-dimensional space using a suitable representation technique such as TF-IDF (Term Frequency-Inverse Document Frequency). Once we have the vector representations, we can compute the cosine similarity between these vectors. Let's break down the process step-by-step:\n",
        "\n",
        "### Step 1: Represent Text Documents as Vectors\n",
        "\n",
        "1. **Tokenization and Term Frequency (TF)**:\n",
        "   - Tokenize each document into words (or terms).\n",
        "   - Calculate the term frequency (TF) for each word in the document, which represents how often each word appears in the document.\n",
        "\n",
        "2. **Inverse Document Frequency (IDF)**:\n",
        "   - Compute the IDF for each word across all documents in the corpus. IDF quantifies the importance of a word in distinguishing different documents in the corpus.\n",
        "\n",
        "3. **TF-IDF Vectorization**:\n",
        "   - Combine TF and IDF to represent each document as a TF-IDF vector, where each dimension in the vector corresponds to a unique word in the corpus.\n",
        "\n",
        "### Step 2: Calculate Cosine Similarity\n",
        "\n",
        "After representing text documents as TF-IDF vectors, we can calculate the cosine similarity between two vectors \\( \\mathbf{v}_1 \\) and \\( \\mathbf{v}_2 \\) using the following formula:\n",
        "\n",
        "\\[ \\text{Cosine Similarity}(\\mathbf{v}_1, \\mathbf{v}_2) = \\frac{\\mathbf{v}_1 \\cdot \\mathbf{v}_2}{\\|\\mathbf{v}_1\\| \\|\\mathbf{v}_2\\|} \\]\n",
        "\n",
        "- \\( \\mathbf{v}_1 \\cdot \\mathbf{v}_2 \\) is the dot product of vectors \\( \\mathbf{v}_1 \\) and \\( \\mathbf{v}_2 \\).\n",
        "- \\( \\|\\mathbf{v}_1\\| \\) and \\( \\|\\mathbf{v}_2\\| \\) are the Euclidean norms (or magnitudes) of vectors \\( \\mathbf{v}_1 \\) and \\( \\mathbf{v}_2 \\), respectively.\n",
        "\n",
        "### Manual Calculation Example\n",
        "\n",
        "Let's demonstrate the manual calculation of cosine similarity for two simple text documents using TF-IDF vectors:\n",
        "\n",
        "**Text Documents:**\n",
        "- Document 1 (doc1): \"Natural language processing is a field of study.\"\n",
        "- Document 2 (doc2): \"NLP allows computers to understand human language.\"\n",
        "\n",
        "**TF-IDF Vectorization (Sample Calculation):**\n",
        "Assume the following TF-IDF values (for illustrative purposes):\n",
        "\n",
        "- **Term Frequencies (TF)**:\n",
        "  - `TF(doc1, \"natural\") = 1`\n",
        "  - `TF(doc1, \"language\") = 1`\n",
        "  - `TF(doc1, \"processing\") = 1`\n",
        "  - `TF(doc2, \"nlp\") = 1`\n",
        "  - `TF(doc2, \"computers\") = 1`\n",
        "  - `TF(doc2, \"understand\") = 1`\n",
        "  - `TF(doc2, \"human\") = 1`\n",
        "  - `TF(doc2, \"language\") = 1`\n",
        "\n",
        "- **Inverse Document Frequencies (IDF)**:\n",
        "  - Assume IDF values for each term (e.g., `IDF(\"natural\")`, `IDF(\"language\")`, etc.)\n",
        "\n",
        "- **TF-IDF Vector Representation**:\n",
        "  - Construct TF-IDF vectors \\( \\mathbf{v}_1 \\) and \\( \\mathbf{v}_2 \\) based on TF-IDF values for each term.\n",
        "\n",
        "**Cosine Similarity Calculation**:\n",
        "- Compute dot product \\( \\mathbf{v}_1 \\cdot \\mathbf{v}_2 \\)\n",
        "- Compute Euclidean norms \\( \\|\\mathbf{v}_1\\| \\) and \\( \\|\\mathbf{v}_2\\| \\)\n",
        "- Calculate cosine similarity using the formula:\n",
        "\n",
        "\\[ \\text{Cosine Similarity}(\\mathbf{v}_1, \\mathbf{v}_2) = \\frac{\\mathbf{v}_1 \\cdot \\mathbf{v}_2}{\\|\\mathbf{v}_1\\| \\|\\mathbf{v}_2\\|} \\]\n",
        "\n",
        "### Conclusion\n",
        "\n",
        "To perform the manual calculation of cosine similarity, you would need to compute TF-IDF values for each term in the text documents, construct TF-IDF vectors for the documents, compute the dot product of the vectors, and then calculate the cosine similarity using the formula. In practice, this calculation is often performed using libraries like `sklearn` or `numpy` in Python for efficiency and accuracy."
      ],
      "metadata": {
        "id": "plfA_7Rrb2I2"
      }
    },
    {
      "cell_type": "code",
      "source": [
        "from textblob import TextBlob\n",
        "\n",
        "# Define the sentence\n",
        "sentence = \"I hate Mondays\"\n",
        "\n",
        "# Create a TextBlob object\n",
        "blob = TextBlob(sentence)\n",
        "\n",
        "# Calculate the polarity score\n",
        "polarity_score = blob.sentiment.polarity\n",
        "\n",
        "# Display the polarity score\n",
        "print(\"Polarity Score:\", polarity_score)\n"
      ],
      "metadata": {
        "colab": {
          "base_uri": "https://localhost:8080/"
        },
        "id": "hnak3iSclB46",
        "outputId": "9444098f-1af7-4259-db3b-2cbae0527f7b"
      },
      "execution_count": null,
      "outputs": [
        {
          "output_type": "stream",
          "name": "stdout",
          "text": [
            "Polarity Score: -0.8\n"
          ]
        }
      ]
    },
    {
      "cell_type": "code",
      "source": [
        "from textblob import TextBlob\n",
        "\n",
        "def analyze_sentiment(text):\n",
        "    analysis = TextBlob(text)\n",
        "\n",
        "    if analysis.sentiment.polarity > 0:\n",
        "        return \"Positive\"\n",
        "    elif analysis.sentiment.polarity == 0:\n",
        "        return \"Neutral\"\n",
        "    else:\n",
        "        return \"Negative\"\n",
        "\n",
        "# Example usage\n",
        "sample_sentence = \"I love tea\"\n",
        "sentiment = analyze_sentiment(sample_sentence)\n",
        "print(\"Sentiment:\", sentiment)\n"
      ],
      "metadata": {
        "colab": {
          "base_uri": "https://localhost:8080/"
        },
        "id": "yKlS_swED9zv",
        "outputId": "fc27561e-962c-4194-dd29-05f90e48396d"
      },
      "execution_count": 35,
      "outputs": [
        {
          "output_type": "stream",
          "name": "stdout",
          "text": [
            "Sentiment: Positive\n"
          ]
        }
      ]
    },
    {
      "cell_type": "code",
      "source": [
        "!pip install streamlit textblob"
      ],
      "metadata": {
        "colab": {
          "base_uri": "https://localhost:8080/"
        },
        "id": "Z4-LRSXbl0Ia",
        "outputId": "d99c51be-a9c8-46c3-ffd0-7d223fde1c05"
      },
      "execution_count": null,
      "outputs": [
        {
          "output_type": "stream",
          "name": "stdout",
          "text": [
            "Collecting streamlit\n",
            "  Downloading streamlit-1.33.0-py2.py3-none-any.whl (8.1 MB)\n",
            "\u001b[2K     \u001b[90m━━━━━━━━━━━━━━━━━━━━━━━━━━━━━━━━━━━━━━━━\u001b[0m \u001b[32m8.1/8.1 MB\u001b[0m \u001b[31m12.8 MB/s\u001b[0m eta \u001b[36m0:00:00\u001b[0m\n",
            "\u001b[?25hRequirement already satisfied: textblob in /usr/local/lib/python3.10/dist-packages (0.17.1)\n",
            "Requirement already satisfied: altair<6,>=4.0 in /usr/local/lib/python3.10/dist-packages (from streamlit) (4.2.2)\n",
            "Requirement already satisfied: blinker<2,>=1.0.0 in /usr/lib/python3/dist-packages (from streamlit) (1.4)\n",
            "Requirement already satisfied: cachetools<6,>=4.0 in /usr/local/lib/python3.10/dist-packages (from streamlit) (5.3.3)\n",
            "Requirement already satisfied: click<9,>=7.0 in /usr/local/lib/python3.10/dist-packages (from streamlit) (8.1.7)\n",
            "Requirement already satisfied: numpy<2,>=1.19.3 in /usr/local/lib/python3.10/dist-packages (from streamlit) (1.25.2)\n",
            "Requirement already satisfied: packaging<25,>=16.8 in /usr/local/lib/python3.10/dist-packages (from streamlit) (24.0)\n",
            "Requirement already satisfied: pandas<3,>=1.3.0 in /usr/local/lib/python3.10/dist-packages (from streamlit) (2.0.3)\n",
            "Requirement already satisfied: pillow<11,>=7.1.0 in /usr/local/lib/python3.10/dist-packages (from streamlit) (9.4.0)\n",
            "Requirement already satisfied: protobuf<5,>=3.20 in /usr/local/lib/python3.10/dist-packages (from streamlit) (3.20.3)\n",
            "Requirement already satisfied: pyarrow>=7.0 in /usr/local/lib/python3.10/dist-packages (from streamlit) (14.0.2)\n",
            "Requirement already satisfied: requests<3,>=2.27 in /usr/local/lib/python3.10/dist-packages (from streamlit) (2.31.0)\n",
            "Requirement already satisfied: rich<14,>=10.14.0 in /usr/local/lib/python3.10/dist-packages (from streamlit) (13.7.1)\n",
            "Requirement already satisfied: tenacity<9,>=8.1.0 in /usr/local/lib/python3.10/dist-packages (from streamlit) (8.2.3)\n",
            "Requirement already satisfied: toml<2,>=0.10.1 in /usr/local/lib/python3.10/dist-packages (from streamlit) (0.10.2)\n",
            "Requirement already satisfied: typing-extensions<5,>=4.3.0 in /usr/local/lib/python3.10/dist-packages (from streamlit) (4.11.0)\n",
            "Collecting gitpython!=3.1.19,<4,>=3.0.7 (from streamlit)\n",
            "  Downloading GitPython-3.1.43-py3-none-any.whl (207 kB)\n",
            "\u001b[2K     \u001b[90m━━━━━━━━━━━━━━━━━━━━━━━━━━━━━━━━━━━━━━━━\u001b[0m \u001b[32m207.3/207.3 kB\u001b[0m \u001b[31m20.3 MB/s\u001b[0m eta \u001b[36m0:00:00\u001b[0m\n",
            "\u001b[?25hCollecting pydeck<1,>=0.8.0b4 (from streamlit)\n",
            "  Downloading pydeck-0.9.0-py2.py3-none-any.whl (6.9 MB)\n",
            "\u001b[2K     \u001b[90m━━━━━━━━━━━━━━━━━━━━━━━━━━━━━━━━━━━━━━━━\u001b[0m \u001b[32m6.9/6.9 MB\u001b[0m \u001b[31m29.7 MB/s\u001b[0m eta \u001b[36m0:00:00\u001b[0m\n",
            "\u001b[?25hRequirement already satisfied: tornado<7,>=6.0.3 in /usr/local/lib/python3.10/dist-packages (from streamlit) (6.3.3)\n",
            "Collecting watchdog>=2.1.5 (from streamlit)\n",
            "  Downloading watchdog-4.0.0-py3-none-manylinux2014_x86_64.whl (82 kB)\n",
            "\u001b[2K     \u001b[90m━━━━━━━━━━━━━━━━━━━━━━━━━━━━━━━━━━━━━━━━\u001b[0m \u001b[32m83.0/83.0 kB\u001b[0m \u001b[31m9.6 MB/s\u001b[0m eta \u001b[36m0:00:00\u001b[0m\n",
            "\u001b[?25hRequirement already satisfied: nltk>=3.1 in /usr/local/lib/python3.10/dist-packages (from textblob) (3.8.1)\n",
            "Requirement already satisfied: entrypoints in /usr/local/lib/python3.10/dist-packages (from altair<6,>=4.0->streamlit) (0.4)\n",
            "Requirement already satisfied: jinja2 in /usr/local/lib/python3.10/dist-packages (from altair<6,>=4.0->streamlit) (3.1.3)\n",
            "Requirement already satisfied: jsonschema>=3.0 in /usr/local/lib/python3.10/dist-packages (from altair<6,>=4.0->streamlit) (4.19.2)\n",
            "Requirement already satisfied: toolz in /usr/local/lib/python3.10/dist-packages (from altair<6,>=4.0->streamlit) (0.12.1)\n",
            "Collecting gitdb<5,>=4.0.1 (from gitpython!=3.1.19,<4,>=3.0.7->streamlit)\n",
            "  Downloading gitdb-4.0.11-py3-none-any.whl (62 kB)\n",
            "\u001b[2K     \u001b[90m━━━━━━━━━━━━━━━━━━━━━━━━━━━━━━━━━━━━━━━━\u001b[0m \u001b[32m62.7/62.7 kB\u001b[0m \u001b[31m7.3 MB/s\u001b[0m eta \u001b[36m0:00:00\u001b[0m\n",
            "\u001b[?25hRequirement already satisfied: joblib in /usr/local/lib/python3.10/dist-packages (from nltk>=3.1->textblob) (1.4.0)\n",
            "Requirement already satisfied: regex>=2021.8.3 in /usr/local/lib/python3.10/dist-packages (from nltk>=3.1->textblob) (2023.12.25)\n",
            "Requirement already satisfied: tqdm in /usr/local/lib/python3.10/dist-packages (from nltk>=3.1->textblob) (4.66.2)\n",
            "Requirement already satisfied: python-dateutil>=2.8.2 in /usr/local/lib/python3.10/dist-packages (from pandas<3,>=1.3.0->streamlit) (2.8.2)\n",
            "Requirement already satisfied: pytz>=2020.1 in /usr/local/lib/python3.10/dist-packages (from pandas<3,>=1.3.0->streamlit) (2023.4)\n",
            "Requirement already satisfied: tzdata>=2022.1 in /usr/local/lib/python3.10/dist-packages (from pandas<3,>=1.3.0->streamlit) (2024.1)\n",
            "Requirement already satisfied: charset-normalizer<4,>=2 in /usr/local/lib/python3.10/dist-packages (from requests<3,>=2.27->streamlit) (3.3.2)\n",
            "Requirement already satisfied: idna<4,>=2.5 in /usr/local/lib/python3.10/dist-packages (from requests<3,>=2.27->streamlit) (3.7)\n",
            "Requirement already satisfied: urllib3<3,>=1.21.1 in /usr/local/lib/python3.10/dist-packages (from requests<3,>=2.27->streamlit) (2.0.7)\n",
            "Requirement already satisfied: certifi>=2017.4.17 in /usr/local/lib/python3.10/dist-packages (from requests<3,>=2.27->streamlit) (2024.2.2)\n",
            "Requirement already satisfied: markdown-it-py>=2.2.0 in /usr/local/lib/python3.10/dist-packages (from rich<14,>=10.14.0->streamlit) (3.0.0)\n",
            "Requirement already satisfied: pygments<3.0.0,>=2.13.0 in /usr/local/lib/python3.10/dist-packages (from rich<14,>=10.14.0->streamlit) (2.16.1)\n",
            "Collecting smmap<6,>=3.0.1 (from gitdb<5,>=4.0.1->gitpython!=3.1.19,<4,>=3.0.7->streamlit)\n",
            "  Downloading smmap-5.0.1-py3-none-any.whl (24 kB)\n",
            "Requirement already satisfied: MarkupSafe>=2.0 in /usr/local/lib/python3.10/dist-packages (from jinja2->altair<6,>=4.0->streamlit) (2.1.5)\n",
            "Requirement already satisfied: attrs>=22.2.0 in /usr/local/lib/python3.10/dist-packages (from jsonschema>=3.0->altair<6,>=4.0->streamlit) (23.2.0)\n",
            "Requirement already satisfied: jsonschema-specifications>=2023.03.6 in /usr/local/lib/python3.10/dist-packages (from jsonschema>=3.0->altair<6,>=4.0->streamlit) (2023.12.1)\n",
            "Requirement already satisfied: referencing>=0.28.4 in /usr/local/lib/python3.10/dist-packages (from jsonschema>=3.0->altair<6,>=4.0->streamlit) (0.34.0)\n",
            "Requirement already satisfied: rpds-py>=0.7.1 in /usr/local/lib/python3.10/dist-packages (from jsonschema>=3.0->altair<6,>=4.0->streamlit) (0.18.0)\n",
            "Requirement already satisfied: mdurl~=0.1 in /usr/local/lib/python3.10/dist-packages (from markdown-it-py>=2.2.0->rich<14,>=10.14.0->streamlit) (0.1.2)\n",
            "Requirement already satisfied: six>=1.5 in /usr/local/lib/python3.10/dist-packages (from python-dateutil>=2.8.2->pandas<3,>=1.3.0->streamlit) (1.16.0)\n",
            "Installing collected packages: watchdog, smmap, pydeck, gitdb, gitpython, streamlit\n",
            "Successfully installed gitdb-4.0.11 gitpython-3.1.43 pydeck-0.9.0 smmap-5.0.1 streamlit-1.33.0 watchdog-4.0.0\n"
          ]
        }
      ]
    },
    {
      "cell_type": "code",
      "source": [
        "import streamlit as st\n",
        "from textblob import TextBlob\n",
        "\n",
        "def analyze_sentiment(text):\n",
        "    # Create a TextBlob object\n",
        "    blob = TextBlob(text)\n",
        "\n",
        "    # Calculate the polarity score\n",
        "    polarity_score = blob.sentiment.polarity\n",
        "\n",
        "    # Determine sentiment based on polarity score\n",
        "    if polarity_score > 0:\n",
        "        return \"Positive\"\n",
        "    elif polarity_score == 0:\n",
        "        return \"Neutral\"\n",
        "    else:\n",
        "        return \"Negative\"\n",
        "\n",
        "def main():\n",
        "    st.title(\"Sentiment Analysis App\")\n",
        "\n",
        "    # Text input for user to enter text\n",
        "    user_input = st.text_input(\"Enter your text:\")\n",
        "\n",
        "    if st.button(\"Analyze\"):\n",
        "        # Perform sentiment analysis on user input\n",
        "        if user_input.strip():  # Check if input is not empty\n",
        "            sentiment = analyze_sentiment(user_input)\n",
        "            st.write(f\"Sentiment: {sentiment}\")\n",
        "        else:\n",
        "            st.warning(\"Please enter some text.\")\n",
        "\n",
        "if __name__ == \"__main__\":\n",
        "    main()\n"
      ],
      "metadata": {
        "colab": {
          "base_uri": "https://localhost:8080/"
        },
        "id": "NCQCYO5Sl3ii",
        "outputId": "954e775c-2db2-47b2-fef4-632ec8508a67"
      },
      "execution_count": null,
      "outputs": [
        {
          "output_type": "stream",
          "name": "stderr",
          "text": [
            "2024-04-30 10:42:30.174 \n",
            "  \u001b[33m\u001b[1mWarning:\u001b[0m to view this Streamlit app on a browser, run it with the following\n",
            "  command:\n",
            "\n",
            "    streamlit run /usr/local/lib/python3.10/dist-packages/colab_kernel_launcher.py [ARGUMENTS]\n"
          ]
        }
      ]
    },
    {
      "cell_type": "code",
      "source": [
        "from sklearn.feature_extraction.text import TfidfVectorizer\n",
        "from sklearn.metrics.pairwise import cosine_similarity\n",
        "\n",
        "# Sample documents\n",
        "doc1 = \"Natural language processing is a subfield of artificial intelligence.\"\n",
        "doc2 = \"NLP analyzes and interprets human language using machine learning techniques.\"\n",
        "\n",
        "# Initialize TfidfVectorizer with English stop words\n",
        "vectorizer = TfidfVectorizer(stop_words='english')\n",
        "\n",
        "# Calculate TF-IDF vectors for the documents\n",
        "tfidf_matrix = vectorizer.fit_transform([doc1, doc2])\n",
        "\n",
        "# Calculate cosine similarity between the documents\n",
        "cosine_sim = cosine_similarity(tfidf_matrix[0], tfidf_matrix[1])\n",
        "\n",
        "print(\"Cosine Similarity:\", cosine_sim[0][0])\n"
      ],
      "metadata": {
        "colab": {
          "base_uri": "https://localhost:8080/"
        },
        "id": "GoJkseCuaE86",
        "outputId": "ca5955b2-d7d6-4356-a34b-1c8a1f3fcce4"
      },
      "execution_count": null,
      "outputs": [
        {
          "output_type": "stream",
          "name": "stdout",
          "text": [
            "Cosine Similarity: 0.07397129483465995\n"
          ]
        }
      ]
    },
    {
      "cell_type": "code",
      "source": [
        "from nltk.corpus import stopwords\n",
        "from nltk.tokenize import sent_tokenize, word_tokenize\n",
        "from nltk.probability import FreqDist\n",
        "\n",
        "# Sample text\n",
        "sample_text = \"Natural language processing (NLP) is a field \" \\\n",
        "              \"of artificial intelligence that focuses on \" \\\n",
        "              \"the interaction between computers and humans.\"\\\n",
        "              \"It deals with the language preprocessing\"\n",
        "\n",
        "# Tokenize the text into sentences and words\n",
        "sentences = sent_tokenize(sample_text)\n",
        "words = word_tokenize(sample_text)\n",
        "\n",
        "# Remove stopwords\n",
        "stop_words = set(stopwords.words('english'))\n",
        "filtered_words = [word for word in words if word.lower() not in stop_words]\n",
        "\n",
        "# Calculate word frequencies\n",
        "word_freq = FreqDist(filtered_words)\n",
        "\n",
        "# Extract the most frequent words as the summary\n",
        "summary_words = [word for word, _ in word_freq.most_common(len(sample_text))]\n",
        "summary = ' '.join(summary_words)\n",
        "\n",
        "print(\"Summary:\", summary)\n"
      ],
      "metadata": {
        "colab": {
          "base_uri": "https://localhost:8080/"
        },
        "id": "7jXnceJ_aUyK",
        "outputId": "b7c84df5-affc-4829-8ed2-deba625825b8"
      },
      "execution_count": null,
      "outputs": [
        {
          "output_type": "stream",
          "name": "stdout",
          "text": [
            "Summary: language Natural processing ( NLP ) field artificial intelligence focuses interaction computers humans.It deals preprocessing\n"
          ]
        }
      ]
    },
    {
      "cell_type": "code",
      "source": [],
      "metadata": {
        "id": "ljadv-TLENIn"
      },
      "execution_count": null,
      "outputs": []
    }
  ]
}