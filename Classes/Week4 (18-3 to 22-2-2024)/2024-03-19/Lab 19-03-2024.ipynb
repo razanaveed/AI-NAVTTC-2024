{
 "cells": [
  {
   "cell_type": "code",
   "execution_count": 18,
   "metadata": {},
   "outputs": [
    {
     "name": "stdout",
     "output_type": "stream",
     "text": [
      "I am Alice\n",
      "My Brother name is Luke\n",
      "My Father name is Simson\n"
     ]
    }
   ],
   "source": [
    "class MyInfo:\n",
    "    #public method\n",
    "    def name(self,name):\n",
    "        self.name=name\n",
    "        print(f\"I am {self.name}\")\n",
    "    \n",
    "    #protected method\n",
    "    def _brother_name(self,brother):\n",
    "        self._brother=brother\n",
    "        print(f\"My Brother name is {self._brother}\")\n",
    "    \n",
    "    #private method\n",
    "    def __father_name(self,father):\n",
    "        self.__father=father\n",
    "        print(f\"My Father name is {self.__father}\")\n",
    "\n",
    "    #protected method, using private attribute\n",
    "    def _father_name(self,father):\n",
    "        self.__father=father\n",
    "        print(f\"My Father name is {self.__father}\")\n",
    "        \n",
    "obj=MyInfo()\n",
    "obj.name(\"Alice\") #Name\n",
    "obj._brother_name(\"Luke\") #Brother\n",
    "obj._father_name(\"Simson\") #Father Protected method calling private attribute\n",
    "obj._MyInfo__father_name(\"Simson\") #Father  # Name Mangling                          \n",
    "#obj.__father_name(\"Simson\") #Father # AttributeError\n",
    "\n",
    "\n"
   ]
  },
  {
   "cell_type": "code",
   "execution_count": 21,
   "metadata": {},
   "outputs": [
    {
     "name": "stdout",
     "output_type": "stream",
     "text": [
      "Inner method\n"
     ]
    }
   ],
   "source": [
    "class Outer:\n",
    "    def __init__(self):\n",
    "        self.outer_attr = \"Outer attribute\"\n",
    "\n",
    "    def outer_method(self):\n",
    "        return \"Outer method\"\n",
    "    \n",
    "    def get_inner(self):\n",
    "        ob=self.__Inner()\n",
    "        return ob.inner_method()\n",
    "    \n",
    "    class __Inner:\n",
    "        def __init__(self):\n",
    "            self.inner_attr = \"Inner attribute\"\n",
    "\n",
    "        def inner_method(self):\n",
    "            return \"Inner method\"\n",
    "\n",
    "outer_obj = Outer()\n",
    "print(outer_obj.get_inner())\n",
    "#inner_obj = outer_obj.__Inner() #AttributeError "
   ]
  },
  {
   "cell_type": "code",
   "execution_count": 22,
   "metadata": {},
   "outputs": [
    {
     "name": "stdout",
     "output_type": "stream",
     "text": [
      "Outer attribute\n",
      "Outer method\n",
      "Inner attribute\n",
      "Inner method\n"
     ]
    }
   ],
   "source": [
    "class Outer:\n",
    "    def __init__(self):\n",
    "        self.outer_attr = \"Outer attribute\"\n",
    "\n",
    "    def outer_method(self):\n",
    "        return \"Outer method\"\n",
    "\n",
    "    class Inner:\n",
    "        def __init__(self):\n",
    "            self.inner_attr = \"Inner attribute\"\n",
    "\n",
    "        def inner_method(self):\n",
    "            return \"Inner method\"\n",
    "\n",
    "\n",
    "# Creating an instance of the outer class\n",
    "outer_obj = Outer()\n",
    "\n",
    "# Accessing outer class attributes and methods\n",
    "print(outer_obj.outer_attr)  # Output: Outer attribute\n",
    "print(outer_obj.outer_method())  # Output: Outer method\n",
    "\n",
    "# Creating an instance of the inner class\n",
    "inner_obj = outer_obj.Inner()\n",
    "\n",
    "# Accessing inner class attributes and methods\n",
    "print(inner_obj.inner_attr)  # Output: Inner attribute\n",
    "print(inner_obj.inner_method())  # Output: Inner method"
   ]
  }
 ],
 "metadata": {
  "kernelspec": {
   "display_name": "Python 3",
   "language": "python",
   "name": "python3"
  },
  "language_info": {
   "codemirror_mode": {
    "name": "ipython",
    "version": 3
   },
   "file_extension": ".py",
   "mimetype": "text/x-python",
   "name": "python",
   "nbconvert_exporter": "python",
   "pygments_lexer": "ipython3",
   "version": "3.8.5"
  }
 },
 "nbformat": 4,
 "nbformat_minor": 4
}
