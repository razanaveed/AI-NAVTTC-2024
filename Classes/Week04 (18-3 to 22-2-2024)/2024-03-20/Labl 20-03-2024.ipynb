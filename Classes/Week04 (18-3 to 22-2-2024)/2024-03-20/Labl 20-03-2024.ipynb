{
 "cells": [
  {
   "cell_type": "code",
   "execution_count": 42,
   "id": "2ebecbd9-bdcf-47d7-9b4f-81921bde06cb",
   "metadata": {},
   "outputs": [
    {
     "name": "stdout",
     "output_type": "stream",
     "text": [
      "1D Array is: \t\t\t[69 40 49 94 46 33 38 95 77 96]\n",
      "Addition with 3 is: \t\t[72 43 52 97 49 36 41 98 80 99]\n",
      "Subtraction with 2 is: \t\t[67 38 47 92 44 31 36 93 75 94]\n",
      "Multiplication with 5 is: \t[345 200 245 470 230 165 190 475 385 480]\n",
      "Division by 2 is: \t\t[34.5 20.  24.5 47.  23.  16.5 19.  47.5 38.5 48. ]\n",
      "Slicing 5 numbers are: \t\t[49 94 46 33 38]\n",
      "Last 3 numbers are: \t\t[95 77 96]\n"
     ]
    }
   ],
   "source": [
    "#Task\n",
    "import numpy as np\n",
    "arr1d=np.random.randint(1,100,size=10)\n",
    "print(f\"1D Array is: \\t\\t\\t{arr1d}\")\n",
    "add=arr1d+3\n",
    "print(f\"Addition with 3 is: \\t\\t{add}\")\n",
    "sub=arr1d-2\n",
    "print(f\"Subtraction with 2 is: \\t\\t{sub}\")\n",
    "mul=arr1d*5\n",
    "print(f\"Multiplication with 5 is: \\t{mul}\")\n",
    "div=np.array(arr1d/2,dtype=float)\n",
    "print(f\"Division by 2 is: \\t\\t{div}\")\n",
    "slice1=arr1d[2:7] # slice 5 numbers\n",
    "print(f\"Slicing 5 numbers are: \\t\\t{slice1}\")\n",
    "print(f\"Last 3 numbers are: \\t\\t{arr1d[-3:]}\")\n"
   ]
  },
  {
   "cell_type": "code",
   "execution_count": 45,
   "id": "aeb06a75-9a1e-4101-b541-58ad413ad8d9",
   "metadata": {},
   "outputs": [
    {
     "name": "stdout",
     "output_type": "stream",
     "text": [
      "Array of ones:\n",
      "[[1. 1. 1.]\n",
      " [1. 1. 1.]]\n",
      "(2, 3)\n"
     ]
    }
   ],
   "source": [
    "arr_ones = np.ones((2, 3))  # Creates a 2x3 array of ones\n",
    "print(\"Array of ones:\")\n",
    "print(arr_ones)\n",
    "print(arr_ones.shape)\n"
   ]
  },
  {
   "cell_type": "code",
   "execution_count": 57,
   "id": "0a73fdc4-b7c5-491a-a137-70c42dbd2e4a",
   "metadata": {},
   "outputs": [
    {
     "name": "stdout",
     "output_type": "stream",
     "text": [
      "['Bob' 'Alice' 'Simson' 'Charlie']\n",
      "['Bob' 'Alice' 'Simson' 'Charlie' 'Kane']\n",
      "['Bob' 'Alice' 'Braylon' 'Simson' 'Charlie' 'Kane']\n",
      "['Sierra' 'Dean' 'Amelie' 'Martin' 'Yousef']\n",
      "['Bob' 'Alice' 'Braylon' 'Simson' 'Charlie' 'Kane' 'Sierra' 'Dean'\n",
      " 'Amelie' 'Martin' 'Yousef']\n"
     ]
    }
   ],
   "source": [
    "#Task\n",
    "arr1=np.array([\"Bob\",\"Alice\",\"Simson\",\"Charlie\"])\n",
    "print(arr1)\n",
    "arr1=np.append(arr1,\"Kane\") #Append a name in last\n",
    "print(arr1)\n",
    "arr1=np.insert(arr1,2,\"Braylon\") # insert a name at index 2\n",
    "print(arr1)\n",
    "arr2=np.array([\"Sierra\",\"Dean\",\"Amelie\",\"Martin\",\"Yousef\"])\n",
    "print(arr2)\n",
    "arr3=np.concatenate((arr1,arr2)) # combine both arrays\n",
    "print(arr3)"
   ]
  },
  {
   "cell_type": "code",
   "execution_count": 73,
   "id": "0729816a-40db-47d3-b19d-d70ceeb92d83",
   "metadata": {},
   "outputs": [
    {
     "name": "stdout",
     "output_type": "stream",
     "text": [
      "[1 2 3 4]\n",
      "[ 1  2  3  4 10]\n",
      "[ 1  2  3 10  4 10]\n",
      "Maximum is 10 at index 3\n",
      "Minimum is 1 at index 0\n",
      "[11 12 13 14 15 16]\n",
      "Addition of two arrays are: [12 14 16 24 19 26]\n",
      "[ 1  2  3 10  4 10 11 12 13 14 15 16]\n"
     ]
    }
   ],
   "source": [
    "#Task\n",
    "arr1=np.arange(1,5)\n",
    "print(arr1)\n",
    "arr1=np.append(arr1,10) # append a number in last\n",
    "print(arr1)\n",
    "arr1=np.insert(arr1,3,10) #insert number at index 3\n",
    "print(arr1)\n",
    "print(f\"Maximum is {arr1.max()} at index {arr1.argmax()}\")\n",
    "print(f\"Minimum is {arr1.min()} at index {arr1.argmin()}\")\n",
    "arr2=np.arange(11,17)\n",
    "print(arr2)\n",
    "print(f\"Addition of two arrays are: {arr1+arr2}\")\n",
    "arr3=np.concatenate((arr1,arr2)) # combine both arrays\n",
    "print(arr3)"
   ]
  }
 ],
 "metadata": {
  "kernelspec": {
   "display_name": "Python 3 (ipykernel)",
   "language": "python",
   "name": "python3"
  },
  "language_info": {
   "codemirror_mode": {
    "name": "ipython",
    "version": 3
   },
   "file_extension": ".py",
   "mimetype": "text/x-python",
   "name": "python",
   "nbconvert_exporter": "python",
   "pygments_lexer": "ipython3",
   "version": "3.11.7"
  }
 },
 "nbformat": 4,
 "nbformat_minor": 5
}
