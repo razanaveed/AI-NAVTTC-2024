{
 "cells": [
  {
   "cell_type": "markdown",
   "id": "7a4453ed",
   "metadata": {},
   "source": [
    "# Python Polymorphism"
   ]
  },
  {
   "cell_type": "markdown",
   "id": "cb4a2620",
   "metadata": {},
   "source": [
    "The word \"polymorphism\" means \"many forms\", and in programming it refers to methods/functions/operators with the same name that can be executed on many objects or classes."
   ]
  },
  {
   "cell_type": "markdown",
   "id": "7f8a55ad",
   "metadata": {},
   "source": [
    "Polymorphism is often used in Class methods, where we can have multiple classes with the same method name.\n",
    "\n",
    "For example, say we have three classes: Car, Boat, and Plane, and they all have a method called move():"
   ]
  },
  {
   "cell_type": "code",
   "execution_count": 1,
   "id": "78b84604",
   "metadata": {},
   "outputs": [
    {
     "name": "stdout",
     "output_type": "stream",
     "text": [
      "Drive!\n",
      "Sail!\n",
      "Fly!\n"
     ]
    }
   ],
   "source": [
    "class Car:\n",
    "  def __init__(self, brand, model):\n",
    "    self.brand = brand\n",
    "    self.model = model\n",
    "\n",
    "  def move(self):\n",
    "    print(\"Drive!\")\n",
    "\n",
    "class Boat:\n",
    "  def __init__(self, brand, model):\n",
    "    self.brand = brand\n",
    "    self.model = model\n",
    "\n",
    "  def move(self):\n",
    "    print(\"Sail!\")\n",
    "\n",
    "class Plane:\n",
    "  def __init__(self, brand, model):\n",
    "    self.brand = brand\n",
    "    self.model = model\n",
    "\n",
    "  def move(self):\n",
    "    print(\"Fly!\")\n",
    "\n",
    "car1 = Car(\"Ford\", \"Mustang\")       #Create a Car class\n",
    "boat1 = Boat(\"Ibiza\", \"Touring 20\") #Create a Boat class\n",
    "plane1 = Plane(\"Boeing\", \"747\")     #Create a Plane class\n",
    "\n",
    "for x in (car1, boat1, plane1):\n",
    "  x.move()"
   ]
  },
  {
   "cell_type": "markdown",
   "id": "e1c40d32",
   "metadata": {},
   "source": [
    "# Inheritance Class Polymorphism"
   ]
  },
  {
   "cell_type": "markdown",
   "id": "f90b302f",
   "metadata": {},
   "source": [
    "What about classes with child classes with the same name? Can we use polymorphism there?\n",
    "\n",
    "Yes. If we use the example above and make a parent class called Vehicle, and make Car, Boat, Plane child classes of Vehicle, the child classes inherits the Vehicle methods, but can override them:"
   ]
  },
  {
   "cell_type": "code",
   "execution_count": 2,
   "id": "57843031",
   "metadata": {},
   "outputs": [
    {
     "name": "stdout",
     "output_type": "stream",
     "text": [
      "Ford\n",
      "Mustang\n",
      "Move!\n",
      "Ibiza\n",
      "Touring 20\n",
      "Sail!\n",
      "Boeing\n",
      "747\n",
      "Fly!\n"
     ]
    }
   ],
   "source": [
    "class Vehicle:\n",
    "  def __init__(self, brand, model):\n",
    "    self.brand = brand\n",
    "    self.model = model\n",
    "\n",
    "  def move(self):\n",
    "    print(\"Move!\")\n",
    "\n",
    "class Car(Vehicle):\n",
    "  pass\n",
    "\n",
    "class Boat(Vehicle):\n",
    "  def move(self):\n",
    "    print(\"Sail!\")\n",
    "\n",
    "class Plane(Vehicle):\n",
    "  def move(self):\n",
    "    print(\"Fly!\")\n",
    "\n",
    "car1 = Car(\"Ford\", \"Mustang\") #Create a Car object\n",
    "boat1 = Boat(\"Ibiza\", \"Touring 20\") #Create a Boat object\n",
    "plane1 = Plane(\"Boeing\", \"747\") #Create a Plane object\n",
    "\n",
    "for x in (car1, boat1, plane1):\n",
    "  print(x.brand)\n",
    "  print(x.model)\n",
    "  x.move()"
   ]
  },
  {
   "cell_type": "code",
   "execution_count": 5,
   "id": "b5423f1b",
   "metadata": {},
   "outputs": [
    {
     "name": "stdout",
     "output_type": "stream",
     "text": [
      "Mammal\n",
      "Four\n",
      "Mammal\n",
      "Four\n"
     ]
    }
   ],
   "source": [
    "class Dog(): \n",
    "     def animal_kingdom(self): \n",
    "       print(\"Mammal\")\n",
    "    \n",
    "     def legs(self):\n",
    "       print(\"Four\")\n",
    "    \n",
    "class Lizard(): \n",
    "     def animal_kingdom(self): \n",
    "       print(\"Mammal\") \n",
    "     def legs(self): \n",
    "       print(\"Four\")\n",
    "    \n",
    "def function1(obj): \n",
    "       obj.animal_kingdom() \n",
    "       obj.legs()\n",
    "obj_dog = Dog() \n",
    "obj_lizard = Lizard() \n",
    "function1(obj_dog) \n",
    "function1(obj_lizard)"
   ]
  },
  {
   "cell_type": "markdown",
   "id": "43a836dd",
   "metadata": {},
   "source": [
    "# Operator Overloading in Python"
   ]
  },
  {
   "cell_type": "markdown",
   "id": "cb085829",
   "metadata": {},
   "source": [
    "Operator Overloading means giving extended meaning beyond their predefined operational meaning. For example operator + is used to add two integers as well as join two strings and merge two lists. It is achievable because ‘+’ operator is overloaded by int class and str class. You might have noticed that the same built-in operator or function shows different behavior for objects of different classes, this is called Operator Overloading. "
   ]
  },
  {
   "cell_type": "code",
   "execution_count": 6,
   "id": "395f2851",
   "metadata": {},
   "outputs": [
    {
     "name": "stdout",
     "output_type": "stream",
     "text": [
      "3\n",
      "GeeksFor\n",
      "12\n",
      "GeeksGeeksGeeksGeeks\n"
     ]
    }
   ],
   "source": [
    "\n",
    "\n",
    "# Python program to show use of\n",
    "# + operator for different purposes.\n",
    " \n",
    "print(1 + 2)\n",
    " \n",
    "# concatenate two strings\n",
    "print(\"Geeks\"+\"For\") \n",
    " \n",
    "# Product two numbers\n",
    "print(3 * 4)\n",
    " \n",
    "# Repeat the String\n",
    "print(\"Geeks\"*4)"
   ]
  },
  {
   "cell_type": "markdown",
   "id": "670dae58",
   "metadata": {},
   "source": [
    "### How to overload the operators in Python? "
   ]
  },
  {
   "cell_type": "markdown",
   "id": "28e300a4",
   "metadata": {},
   "source": [
    "Consider that we have two objects which are a physical representation of a class (user-defined data type) and we have to add two objects with binary ‘+’ operator it throws an error, because compiler don’t know how to add two objects. So we define a method for an operator and that process is called operator overloading. We can overload all existing operators but we can’t create a new operator. To perform operator overloading, Python provides some special function or magic function that is automatically invoked when it is associated with that particular operator. For example, when we use + operator, the magic method __add__ is automatically invoked in which the operation for + operator is defined."
   ]
  },
  {
   "cell_type": "markdown",
   "id": "9f0585b7",
   "metadata": {},
   "source": [
    "### Overloading binary + operator in Python: "
   ]
  },
  {
   "cell_type": "markdown",
   "id": "34525c67",
   "metadata": {},
   "source": [
    "When we use an operator on user-defined data types then automatically a special function or magic function associated with that operator is invoked. Changing the behavior of operator is as simple as changing the behavior of a method or function. You define methods in your class and operators work according to that behavior defined in methods. When we use + operator, the magic method __add__ is automatically invoked in which the operation for + operator is defined. Thereby changing this magic method’s code, we can give extra meaning to the + operator. "
   ]
  },
  {
   "cell_type": "markdown",
   "id": "1239a51e",
   "metadata": {},
   "source": [
    "### How Does the Operator Overloading Actually work?"
   ]
  },
  {
   "cell_type": "markdown",
   "id": "9c8597a0",
   "metadata": {},
   "source": [
    "Whenever you change the behavior of the existing operator through operator overloading, you have to redefine the special function that is invoked automatically when the operator is used with the objects. "
   ]
  },
  {
   "cell_type": "code",
   "execution_count": 7,
   "id": "7eb0c085",
   "metadata": {},
   "outputs": [
    {
     "name": "stdout",
     "output_type": "stream",
     "text": [
      "3\n",
      "GeeksFor\n",
      "3\n",
      "GeeksFor\n",
      "3\n",
      "GeeksFor\n"
     ]
    }
   ],
   "source": [
    "# Python Program illustrate how \n",
    "# to overload an binary + operator\n",
    "# And how it actually works\n",
    " \n",
    "class A:\n",
    "    def __init__(self, a):\n",
    "        self.a = a\n",
    " \n",
    "    # adding two objects \n",
    "    def __add__(self, o):\n",
    "        return self.a + o.a \n",
    "ob1 = A(1)\n",
    "ob2 = A(2)\n",
    "ob3 = A(\"Geeks\")\n",
    "ob4 = A(\"For\")\n",
    " \n",
    "print(ob1 + ob2)\n",
    "print(ob3 + ob4)\n",
    "# Actual working when Binary Operator is used.\n",
    "print(A.__add__(ob1 , ob2)) \n",
    "print(A.__add__(ob3,ob4)) \n",
    "#And can also be Understand as :\n",
    "print(ob1.__add__(ob2))\n",
    "print(ob3.__add__(ob4))"
   ]
  },
  {
   "cell_type": "markdown",
   "id": "9acd94ee",
   "metadata": {},
   "source": [
    "Here, We defined the special function “__add__( )”  and when the objects ob1 and ob2 are coded as “ob1 + ob2“, the special function is automatically called as ob1.__add__(ob2) which simply means that ob1 calls the __add__( ) function with ob2 as an Argument and It actually means A .__add__(ob1, ob2). Hence, when the Binary operator is overloaded, the object before the operator calls the respective function with object after operator as parameter."
   ]
  },
  {
   "cell_type": "code",
   "execution_count": 8,
   "id": "b2cd970a",
   "metadata": {},
   "outputs": [
    {
     "name": "stdout",
     "output_type": "stream",
     "text": [
      "(3, 5)\n"
     ]
    }
   ],
   "source": [
    "# Python Program to perform addition \n",
    "# of two complex numbers using binary \n",
    "# + operator overloading.\n",
    " \n",
    "class complex:\n",
    "    def __init__(self, a, b):\n",
    "        self.a = a\n",
    "        self.b = b\n",
    " \n",
    "     # adding two objects \n",
    "    def __add__(self, other):\n",
    "        return self.a + other.a, self.b + other.b\n",
    " \n",
    "Ob1 = complex(1, 2)\n",
    "Ob2 = complex(2, 3)\n",
    "Ob3 = Ob1 + Ob2\n",
    "print(Ob3)"
   ]
  },
  {
   "cell_type": "markdown",
   "id": "17e3f45a",
   "metadata": {},
   "source": [
    "## Overloading comparison operators in Python :  "
   ]
  },
  {
   "cell_type": "code",
   "execution_count": null,
   "id": "93043f33",
   "metadata": {},
   "outputs": [],
   "source": [
    "# Python program to overload\n",
    "# a comparison operators \n",
    " \n",
    "class A:\n",
    "    def __init__(self, a):\n",
    "        self.a = a\n",
    "    def __gt__(self, other):\n",
    "        if(self.a>other.a):\n",
    "            return True\n",
    "        else:\n",
    "            return False\n",
    "ob1 = A(2)\n",
    "ob2 = A(3)\n",
    "if(ob1>ob2):\n",
    "    print(\"ob1 is greater than ob2\")\n",
    "else:\n",
    "    print(\"ob2 is greater than ob1\")"
   ]
  },
  {
   "cell_type": "markdown",
   "id": "831bfced",
   "metadata": {},
   "source": [
    "# Tasks"
   ]
  },
  {
   "cell_type": "markdown",
   "id": "6bf6ad44",
   "metadata": {},
   "source": [
    "1. Create a base class `Shape` with a method `area()`. Create two subclasses `Circle` and `Rectangle` which override the `area()` method. Demonstrate polymorphism by calling the `area()` method on instances of both subclasses.\n",
    "\n",
    "2. Create a class `Point` that represents a point in 2D space. Implement the `__add__` method to allow adding two points together.\n",
    "\n",
    "3. Extend the `Point` class to support multiplication by a scalar value. Implement the `__mul__` method to allow multiplying a point by a scalar.\n",
    "\n",
    "4. **Operator Overloading - Comparison**: Create a class `Student` with attributes `name` and `grade`. Implement the `__lt__` method to allow comparing two students based on their grades.\n",
    "\n",
    "5. Define naclass `Animal` with a method `speak()`. Implement two classes `Dog` and `Cat` that implement the `speak()` method differently. Demonstrate polymorphism by creating instances of both classes and calling the `speak()` method.\n",
    "\n",
    "6. Create a function `calculate_area()` that can accept either a `Circle` object or a `Rectangle` object and returns the area accordingly.\n",
    "\n",
    "7. Extend the `Point` class to support subtraction. Implement the `__sub__` method to allow subtracting one point from another.\n",
    "\n",
    "\n"
   ]
  },
  {
   "cell_type": "code",
   "execution_count": null,
   "id": "eadde64f",
   "metadata": {},
   "outputs": [],
   "source": []
  }
 ],
 "metadata": {
  "kernelspec": {
   "display_name": "Python 3 (ipykernel)",
   "language": "python",
   "name": "python3"
  },
  "language_info": {
   "codemirror_mode": {
    "name": "ipython",
    "version": 3
   },
   "file_extension": ".py",
   "mimetype": "text/x-python",
   "name": "python",
   "nbconvert_exporter": "python",
   "pygments_lexer": "ipython3",
   "version": "3.11.8"
  }
 },
 "nbformat": 4,
 "nbformat_minor": 5
}
