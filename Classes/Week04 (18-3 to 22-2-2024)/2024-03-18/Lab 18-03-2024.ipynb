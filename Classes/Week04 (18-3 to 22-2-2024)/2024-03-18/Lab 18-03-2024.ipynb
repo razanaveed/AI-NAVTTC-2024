{
 "cells": [
  {
   "cell_type": "code",
   "execution_count": 11,
   "id": "142c7f84-4a1d-4dad-bd46-b95ead6d4132",
   "metadata": {},
   "outputs": [
    {
     "name": "stdout",
     "output_type": "stream",
     "text": [
      "Area of Circle is 95.03\n",
      "Area of Rectangle is 70\n"
     ]
    }
   ],
   "source": [
    "#Task 1. Create a base class Shape with a method area(). Create two subclasses Circle and Rectangle which override the area() method. Demonstrate polymorphism by calling the area() method on instances of both subclasses.\n",
    "import math as mp\n",
    "class Shape:\n",
    "    Name=\"Shape\"\n",
    "    def Area(self):\n",
    "        pass\n",
    "        \n",
    "class Circle(Shape):\n",
    "    Name=\"Circle\"\n",
    "    def __init__(self,radius):\n",
    "        self.radius=radius \n",
    "    def Area(self):\n",
    "        return round(mp.pi*(self.radius**2),2)\n",
    "        \n",
    "class Rectangle(Shape):\n",
    "    Name=\"Rectangle\"\n",
    "    def __init__(self,length,width):\n",
    "        self.length =length \n",
    "        self.width=width\n",
    "    def Area(self):\n",
    "        return self.length*self.width\n",
    "\n",
    "obj1=Circle(5.5)\n",
    "obj2=Rectangle(14,5)\n",
    "for ob in (obj1,obj2):\n",
    "    print(f\"Area of {ob.Name} is {ob.Area()}\")\n",
    "    "
   ]
  },
  {
   "cell_type": "code",
   "execution_count": 34,
   "id": "f060e7ac-e832-4d75-b718-8fe047de2b2a",
   "metadata": {},
   "outputs": [
    {
     "name": "stdout",
     "output_type": "stream",
     "text": [
      "Addition of three points are: 19,28\n"
     ]
    }
   ],
   "source": [
    "# Task 2. Create a class Point that represents a point in 2D space. Implement the __add__ method to allow adding two points together.\n",
    "class Point:\n",
    "    def __init__(self,x,y):\n",
    "        self.x=x\n",
    "        self.y=y\n",
    "        \n",
    "    # + Operator Overload\n",
    "    def __add__(self,other):\n",
    "        self.x+= other.x\n",
    "        self.y+= other.y\n",
    "        return self\n",
    "\n",
    "p1=Point(3,7)\n",
    "p2=Point(5,9)\n",
    "p3=Point(11,12)\n",
    "p4=p1+p2+p3\n",
    "print(f\"Addition of three points are: {p4.x},{p4.y}\")\n"
   ]
  },
  {
   "cell_type": "code",
   "execution_count": null,
   "id": "e18858c8-5bea-41a3-9973-1784b2742032",
   "metadata": {},
   "outputs": [],
   "source": []
  },
  {
   "cell_type": "code",
   "execution_count": 33,
   "id": "4556f968-0afb-4e18-a15b-4b0f9f18924b",
   "metadata": {},
   "outputs": [
    {
     "name": "stdout",
     "output_type": "stream",
     "text": [
      "Multiplication of the point with scalar is: 18,2\n"
     ]
    }
   ],
   "source": [
    "# Task 3. Extend the Point class to support multiplication by a scalar value. Implement the __mul__ method to allow multiplying a point by a scalar.\n",
    "class Point:\n",
    "    def __init__(self,x,y):\n",
    "        self.x=x\n",
    "        self.y=y\n",
    "        \n",
    "    # + Operator Overload\n",
    "    def __add__(self,other):\n",
    "        self.x+= other.x        \n",
    "        self.y+= other.y\n",
    "        return self\n",
    "        \n",
    "    # * Operator Overload\n",
    "    def __mul__(self,k):\n",
    "        self.x*= k\n",
    "        self.y*= k\n",
    "        return self\n",
    "\n",
    "p1=Point(9,1)\n",
    "p4=p1*2\n",
    "print(f\"Multiplication of the point with scalar is: {p4.x},{p4.y}\")\n"
   ]
  },
  {
   "cell_type": "code",
   "execution_count": 50,
   "id": "0eb4bc5c-5562-4017-86cd-7dbfdbd4c34d",
   "metadata": {},
   "outputs": [
    {
     "name": "stdout",
     "output_type": "stream",
     "text": [
      "Student Asad have 3.75 GPA\n",
      "Student Kamran have 3.5 GPA\n",
      "Student Zubair have 3.25 GPA\n",
      "Asad GPA is greater than Kamran GPA\n",
      "Zubair GPA is less than Kamran GPA\n"
     ]
    }
   ],
   "source": [
    "#Task 4. Operator Overloading - Comparison: Create a class Student with attributes name and grade. Implement the __lt__ method to allow comparing two students based on their grades.\n",
    "class Student:\n",
    "    def __str__(self):\n",
    "        return self.name\n",
    "    def __init__(self,name,grade):\n",
    "        self.name=name\n",
    "        self.grade=grade\n",
    "        \n",
    "    #Greater Than Operator > Overload\n",
    "    def __gt__(self,other):\n",
    "        return True if self.grade > other.grade else False\n",
    "        \n",
    "    #Less Than Operator < Overload\n",
    "    def __lt__(self,other):\n",
    "        return True if self.grade < other.grade else False\n",
    "        \n",
    "\n",
    "#s1=Student(\"ABC\",3.5)\n",
    "#s2=Student(\"XYZ\",3.75)\n",
    "\n",
    "stdList = [Student(name,grade) for name,grade in [(\"Asad\",3.75),(\"Kamran\",3.50),(\"Zubair\",3.25)]]\n",
    "for st in stdList:\n",
    "    print(f\"Student {st.name} have {st.grade} GPA\")\n",
    "\n",
    "#operator overloading\n",
    "if stdList[0] > stdList[1]:\n",
    "        print(f\"{stdList[0]} GPA is greater than {stdList[1]} GPA\")\n",
    "\n",
    "#operator overloading\n",
    "if stdList[2] < stdList[1]:\n",
    "        print(f\"{stdList[2]} GPA is less than {stdList[1]} GPA\")"
   ]
  },
  {
   "cell_type": "code",
   "execution_count": 65,
   "id": "2a11d695-8175-4c71-a1a8-0ba005362a39",
   "metadata": {},
   "outputs": [
    {
     "name": "stdout",
     "output_type": "stream",
     "text": [
      "Dog say Woof!\n",
      "Cat say Meow!\n"
     ]
    }
   ],
   "source": [
    "# Task 5. Define a class Animal with a method speak(). Implement two classes Dog and Cat that implement the speak() method differently. Demonstrate polymorphism by creating instances of both classes and calling the speak() method.\n",
    "class Animal:\n",
    "    def speak(self):\n",
    "        pass\n",
    "    def intro(self):\n",
    "        return f\"{self.__class__.__name__} say {self.speak()}\"\n",
    "        \n",
    "class Dog(Animal):\n",
    "    def speak(self):\n",
    "        return \"Woof!\"\n",
    "\n",
    "class Cat(Animal):\n",
    "    def speak(self):\n",
    "        return \"Meow!\"\n",
    "\n",
    "for x in [Dog(),Cat()]:\n",
    "    print(x.intro())\n",
    "\n",
    "        "
   ]
  },
  {
   "cell_type": "code",
   "execution_count": 78,
   "id": "bf0e7892-3aee-4d16-aac9-2f38579891d6",
   "metadata": {},
   "outputs": [
    {
     "name": "stdout",
     "output_type": "stream",
     "text": [
      "Area of Rectangle is 90\n",
      "Area of Circle is 490.87\n",
      "Area of Rectangle is 72\n",
      "Area of Circle is 176.71\n"
     ]
    }
   ],
   "source": [
    "#Task 6. Create a function calculate_area() that can accept either a Circle object or a Rectangle object and returns the area accordingly.\n",
    "class Circle(Shape):\n",
    "    Name=\"Circle\"\n",
    "    def __init__(self,radius):\n",
    "        self.radius=radius \n",
    "    def Area(self):\n",
    "        return round(mp.pi*(self.radius**2),2)\n",
    "        \n",
    "class Rectangle(Shape):\n",
    "    Name=\"Rectangle\"\n",
    "    def __init__(self,length,width):\n",
    "        self.length =length \n",
    "        self.width=width\n",
    "    def Area(self):\n",
    "        return self.length*self.width\n",
    "\n",
    "def calculate_area(shape):\n",
    "    print(f\"Area of {shape.Name} is {shape.Area()}\")\n",
    "\n",
    "sh1=Rectangle(15,6)\n",
    "sh2=Circle(12.5)\n",
    "\n",
    "calculate_area(sh1)\n",
    "calculate_area(sh2)\n",
    "\n",
    "for sh in (Rectangle(6,12),Circle(7.5)):\n",
    "    calculate_area(sh)\n",
    "\n",
    "\n"
   ]
  },
  {
   "cell_type": "code",
   "execution_count": 85,
   "id": "670e476f-c998-41d7-b15a-ab0d0177b4aa",
   "metadata": {},
   "outputs": [
    {
     "name": "stdout",
     "output_type": "stream",
     "text": [
      "Subtracting of two points are: 6,-5\n"
     ]
    }
   ],
   "source": [
    "# Task 7. Extend the Point class to support subtraction. Implement the __sub__ method to allow subtracting one point from another.\n",
    "class Point:\n",
    "    def __init__(self,x,y):\n",
    "        self.x=x\n",
    "        self.y=y\n",
    "        \n",
    "    # - Operator Overload\n",
    "    def __sub__(self,other):\n",
    "        self.x-= other.x\n",
    "        self.y-= other.y\n",
    "        return self\n",
    "\n",
    "p1=Point(9,4)\n",
    "p2=Point(3,9)\n",
    "\n",
    "p3=p1-p2\n",
    "print(f\"Subtracting of two points are: {p3.x},{p3.y}\")\n"
   ]
  }
 ],
 "metadata": {
  "kernelspec": {
   "display_name": "Python 3 (ipykernel)",
   "language": "python",
   "name": "python3"
  },
  "language_info": {
   "codemirror_mode": {
    "name": "ipython",
    "version": 3
   },
   "file_extension": ".py",
   "mimetype": "text/x-python",
   "name": "python",
   "nbconvert_exporter": "python",
   "pygments_lexer": "ipython3",
   "version": "3.11.8"
  }
 },
 "nbformat": 4,
 "nbformat_minor": 5
}
