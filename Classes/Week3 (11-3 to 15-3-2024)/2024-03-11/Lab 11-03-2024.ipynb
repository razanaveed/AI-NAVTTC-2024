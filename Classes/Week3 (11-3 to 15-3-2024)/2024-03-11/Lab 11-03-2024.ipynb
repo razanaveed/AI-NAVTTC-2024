{
 "cells": [
  {
   "cell_type": "code",
   "execution_count": 37,
   "metadata": {
    "collapsed": false
   },
   "outputs": [
    {
     "name": "stdout",
     "output_type": "stream",
     "text": [
      "Toyota Corolla with 4 wheels  |  Tesla Model S with 4 wheels\n"
     ]
    }
   ],
   "source": [
    "class car:\n",
    "    \n",
    "    wheels=4\n",
    "    \n",
    "    def __init__(k,made,model):\n",
    "        k.make=made\n",
    "        k.model=model\n",
    "        \n",
    "    def info(z):\n",
    "        return f\"{z.make} {z.model} with {z.wheels} wheels\"\n",
    "\n",
    "    \n",
    "car1 = car(\"Toyota\",\"Corolla\")\n",
    "car2 = car(\"Tesla\",\"Model S\")\n",
    "print(car1.info(),\" | \", car2.info())\n"
   ]
  }
 ],
 "metadata": {
  "kernelspec": {
   "display_name": "Python [akhtarai]",
   "language": "python",
   "name": "Python [akhtarai]"
  },
  "language_info": {
   "codemirror_mode": {
    "name": "ipython",
    "version": 3
   },
   "file_extension": ".py",
   "mimetype": "text/x-python",
   "name": "python",
   "nbconvert_exporter": "python",
   "pygments_lexer": "ipython3",
   "version": "3.11.7"
  }
 },
 "nbformat": 4,
 "nbformat_minor": 0
}
