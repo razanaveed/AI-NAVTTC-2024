{
 "cells": [
  {
   "cell_type": "code",
   "execution_count": 15,
   "metadata": {
    "collapsed": false
   },
   "outputs": [
    {
     "name": "stdout",
     "output_type": "stream",
     "text": [
      "Something is happening before the function is called. - World\n",
      "Hello World!\n",
      "Something is happening after the function is called.\n"
     ]
    }
   ],
   "source": [
    "def my_decorator1(fn):\n",
    "    def wrapper(txt):\n",
    "        print(f\"Something is happening before the function is called. - {txt}\")\n",
    "        fn(txt)\n",
    "        print(\"Something is happening after the function is called.\")\n",
    "    return wrapper\n",
    "\n",
    "@my_decorator1\n",
    "def say_hello(txt):\n",
    "    print(f\"Hello {txt}!\")\n",
    "\n",
    "say_hello(\"World\")"
   ]
  },
  {
   "cell_type": "code",
   "execution_count": 14,
   "metadata": {
    "collapsed": true
   },
   "outputs": [],
   "source": [
    "class MyClass:\n",
    "    def __init__(self, param1, param2):\n",
    "        self.param1 = param1\n",
    "\n",
    "        self.param2 = param2\n",
    "\n",
    "# Creating an instance of MyClass\n",
    "obj = MyClass(10, 20)"
   ]
  },
  {
   "cell_type": "code",
   "execution_count": 92,
   "metadata": {
    "collapsed": false
   },
   "outputs": [
    {
     "name": "stdout",
     "output_type": "stream",
     "text": [
      "Start your Bike engine!\n",
      "\n",
      "Increasing Speed: 71\n",
      "You're moving Bike at 71/mph\n",
      "\n",
      "Decreasing Speed: 62\n",
      "You're moving Bike at 62/mph\n",
      "\n",
      "Decreasing Speed: 20\n",
      "You're moving Bike slowly, speed up!\n",
      "\n",
      "Increasing Speed: 99\n",
      "You're moving Bike very fast, apply brake immediately!\n",
      "\n",
      "Decreasing Speed: 9\n",
      "You're moving Bike slowly, speed up!\n",
      "\n",
      "Decreasing Speed: 5\n",
      "You're moving Bike slowly, speed up!\n",
      "\n",
      "Increasing Speed: 17\n",
      "You're moving Bike slowly, speed up!\n",
      "\n",
      "Increasing Speed: 65\n",
      "You're moving Bike at 65/mph\n",
      "\n",
      "Increasing Speed: 99\n",
      "You're moving Bike very fast, apply brake immediately!\n",
      "\n",
      "Decreasing Speed: 7\n",
      "You're moving Bike slowly, speed up!\n",
      "\n"
     ]
    }
   ],
   "source": [
    "import random\n",
    "class Car:\n",
    "    name=\"Car\"\n",
    "    def start_engine(self):        \n",
    "        print(f\"Start your {self.name} engine!\")\n",
    "    def accelerate(self):\n",
    "        print(f\"You're moving {self.name} slowly, speed up!\")\n",
    "    def brake(self):\n",
    "        print(f\"You're moving {self.name} very fast, apply brake immediately!\")\n",
    "    def Work(self,speed):\n",
    "        if (speed==0):\n",
    "            return self.start_engine()\n",
    "        elif (speed<50):\n",
    "            return self.accelerate()\n",
    "        elif (speed>80):\n",
    "            return self.brake()\n",
    "        else:\n",
    "            return print(f\"You're moving {self.name} at {speed}/mph\")\n",
    "\n",
    "        \n",
    "class Bike(Car):\n",
    "    name=\"Bike\"\n",
    "    \n",
    "#car1= Car()\n",
    "bike1=Bike()\n",
    "bike1.Work(0)\n",
    "print(\"\")\n",
    "temp=0\n",
    "for i in range(1,11):\n",
    "    speed=random.randint(0, 100)\n",
    "    print(f\"{'Increasing' if speed>=temp else 'Decreasing'} Speed: {speed}\")\n",
    "    #car1.Work(speed)\n",
    "    bike1.Work(speed)\n",
    "    print(\"\")\n",
    "    temp=speed"
   ]
  },
  {
   "cell_type": "code",
   "execution_count": 62,
   "metadata": {
    "collapsed": false
   },
   "outputs": [
    {
     "name": "stdout",
     "output_type": "stream",
     "text": [
      "Mike Olsen\n"
     ]
    }
   ],
   "source": [
    "class Person:\n",
    "    def __init__(self, fname, lname):\n",
    "        self.firstname = fname\n",
    "        self.lastname = lname\n",
    "\n",
    "    def printname(self):\n",
    "        print(self.firstname, self.lastname)\n",
    "\n",
    "class Student(Person):\n",
    "    def __init__(self, fname, lname, year):\n",
    "        super().__init__(fname, lname)\n",
    "        self.graduationyear = year\n",
    "        #print(\"Welcome\", self.firstname, self.lastname, \"to the class of\", self.graduationyear)\n",
    "\n",
    "x = Student(\"Mike\", \"Olsen\", 2019)\n",
    "x.printname()"
   ]
  }
 ],
 "metadata": {
  "anaconda-cloud": {},
  "kernelspec": {
   "display_name": "Python [akhtarai]",
   "language": "python",
   "name": "Python [akhtarai]"
  },
  "language_info": {
   "codemirror_mode": {
    "name": "ipython",
    "version": 3
   },
   "file_extension": ".py",
   "mimetype": "text/x-python",
   "name": "python",
   "nbconvert_exporter": "python",
   "pygments_lexer": "ipython3",
   "version": "3.11.7"
  }
 },
 "nbformat": 4,
 "nbformat_minor": 0
}
