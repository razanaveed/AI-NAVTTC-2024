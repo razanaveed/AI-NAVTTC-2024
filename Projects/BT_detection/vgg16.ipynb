{
 "cells": [
  {
   "cell_type": "code",
   "execution_count": 1,
   "metadata": {},
   "outputs": [],
   "source": [
    "from keras.preprocessing.image import ImageDataGenerator\n",
    "from keras.models import Sequential\n",
    "from keras.layers import Dense,Dropout,Flatten\n",
    "from keras.layers import Conv2D,MaxPooling2D\n",
    "import os\n"
   ]
  },
  {
   "cell_type": "code",
   "execution_count": 2,
   "metadata": {},
   "outputs": [],
   "source": [
    "train_data_dir='data/train/'\n",
    "validation_data_dir='data/test/'"
   ]
  },
  {
   "cell_type": "code",
   "execution_count": 3,
   "metadata": {},
   "outputs": [],
   "source": [
    "\n",
    "train_datagen = ImageDataGenerator(\n",
    "\t\t\t\t\trescale=1./255,\n",
    "\t\t\t\t\trotation_range=30,\n",
    "\t\t\t\t\tshear_range=0.3,\n",
    "\t\t\t\t\tzoom_range=0.3,\n",
    "\t\t\t\t\thorizontal_flip=True,\n",
    "\t\t\t\t\tfill_mode='nearest')"
   ]
  },
  {
   "cell_type": "code",
   "execution_count": 4,
   "metadata": {},
   "outputs": [
    {
     "name": "stdout",
     "output_type": "stream",
     "text": [
      "Found 2870 images belonging to 4 classes.\n"
     ]
    }
   ],
   "source": [
    "validation_datagen = ImageDataGenerator(rescale=1./255)\n",
    "\n",
    "train_generator = train_datagen.flow_from_directory(\n",
    "\t\t\t\t\ttrain_data_dir,\n",
    "\t\t\t\t\tcolor_mode='grayscale',\n",
    "\t\t\t\t\ttarget_size=(48, 48),\n",
    "\t\t\t\t\tbatch_size=32,\n",
    "\t\t\t\t\tclass_mode='categorical',\n",
    "\t\t\t\t\tshuffle=True)"
   ]
  },
  {
   "cell_type": "code",
   "execution_count": 5,
   "metadata": {},
   "outputs": [
    {
     "name": "stdout",
     "output_type": "stream",
     "text": [
      "Found 394 images belonging to 4 classes.\n"
     ]
    }
   ],
   "source": [
    "validation_generator = validation_datagen.flow_from_directory(\n",
    "\t\t\t\t\t\t\tvalidation_data_dir,\n",
    "\t\t\t\t\t\t\tcolor_mode='grayscale',\n",
    "\t\t\t\t\t\t\ttarget_size=(48, 48),\n",
    "\t\t\t\t\t\t\tbatch_size=32,\n",
    "\t\t\t\t\t\t\tclass_mode='categorical',\n",
    "\t\t\t\t\t\t\tshuffle=True)"
   ]
  },
  {
   "cell_type": "code",
   "execution_count": 6,
   "metadata": {},
   "outputs": [],
   "source": [
    "class_labels=['glioma_tumor','meningioma_tumor','no_tumor','pituitary_tumor']"
   ]
  },
  {
   "cell_type": "code",
   "execution_count": 7,
   "metadata": {},
   "outputs": [],
   "source": [
    "img, label = train_generator.__next__()"
   ]
  },
  {
   "cell_type": "code",
   "execution_count": 8,
   "metadata": {},
   "outputs": [],
   "source": [
    "from time import time\n",
    "from keras.callbacks import TensorBoard"
   ]
  },
  {
   "cell_type": "code",
   "execution_count": 9,
   "metadata": {},
   "outputs": [
    {
     "name": "stdout",
     "output_type": "stream",
     "text": [
      "Model: \"sequential\"\n",
      "_________________________________________________________________\n",
      "Layer (type)                 Output Shape              Param #   \n",
      "=================================================================\n",
      "conv2d (Conv2D)              (None, 46, 46, 32)        320       \n",
      "_________________________________________________________________\n",
      "conv2d_1 (Conv2D)            (None, 44, 44, 64)        18496     \n",
      "_________________________________________________________________\n",
      "max_pooling2d (MaxPooling2D) (None, 22, 22, 64)        0         \n",
      "_________________________________________________________________\n",
      "dropout (Dropout)            (None, 22, 22, 64)        0         \n",
      "_________________________________________________________________\n",
      "conv2d_2 (Conv2D)            (None, 20, 20, 128)       73856     \n",
      "_________________________________________________________________\n",
      "max_pooling2d_1 (MaxPooling2 (None, 10, 10, 128)       0         \n",
      "_________________________________________________________________\n",
      "dropout_1 (Dropout)          (None, 10, 10, 128)       0         \n",
      "_________________________________________________________________\n",
      "conv2d_3 (Conv2D)            (None, 8, 8, 256)         295168    \n",
      "_________________________________________________________________\n",
      "max_pooling2d_2 (MaxPooling2 (None, 4, 4, 256)         0         \n",
      "_________________________________________________________________\n",
      "dropout_2 (Dropout)          (None, 4, 4, 256)         0         \n",
      "_________________________________________________________________\n",
      "flatten (Flatten)            (None, 4096)              0         \n",
      "_________________________________________________________________\n",
      "dense (Dense)                (None, 512)               2097664   \n",
      "_________________________________________________________________\n",
      "dropout_3 (Dropout)          (None, 512)               0         \n",
      "_________________________________________________________________\n",
      "dense_1 (Dense)              (None, 4)                 2052      \n",
      "=================================================================\n",
      "Total params: 2,487,556\n",
      "Trainable params: 2,487,556\n",
      "Non-trainable params: 0\n",
      "_________________________________________________________________\n",
      "None\n"
     ]
    }
   ],
   "source": [
    "model = Sequential()\n",
    "\n",
    "model.add(Conv2D(32, kernel_size=(3, 3), activation='relu', input_shape=(48,48,1)))\n",
    "\n",
    "model.add(Conv2D(64, kernel_size=(3, 3), activation='relu'))\n",
    "model.add(MaxPooling2D(pool_size=(2, 2)))\n",
    "model.add(Dropout(0.1))\n",
    "\n",
    "model.add(Conv2D(128, kernel_size=(3, 3), activation='relu'))\n",
    "model.add(MaxPooling2D(pool_size=(2, 2)))\n",
    "model.add(Dropout(0.1))\n",
    "\n",
    "model.add(Conv2D(256, kernel_size=(3, 3), activation='relu'))\n",
    "model.add(MaxPooling2D(pool_size=(2, 2)))\n",
    "model.add(Dropout(0.1))\n",
    "\n",
    "model.add(Flatten())\n",
    "model.add(Dense(512, activation='relu'))\n",
    "model.add(Dropout(0.2))\n",
    "\n",
    "model.add(Dense(4, activation='softmax'))\n",
    "\n",
    "\n",
    "model.compile(optimizer = 'adam', loss='categorical_crossentropy', metrics=['accuracy'])\n",
    "print(model.summary())"
   ]
  },
  {
   "cell_type": "code",
   "execution_count": 10,
   "metadata": {},
   "outputs": [],
   "source": [
    "train_path = \"data/train/\"\n",
    "test_path = \"data/test\""
   ]
  },
  {
   "cell_type": "code",
   "execution_count": 11,
   "metadata": {},
   "outputs": [
    {
     "name": "stdout",
     "output_type": "stream",
     "text": [
      "2870\n",
      "394\n"
     ]
    }
   ],
   "source": [
    "num_train_imgs = 0\n",
    "for root, dirs, files in os.walk(train_path):\n",
    "    num_train_imgs += len(files)\n",
    "    \n",
    "num_test_imgs = 0\n",
    "for root, dirs, files in os.walk(test_path):\n",
    "    num_test_imgs += len(files)\n",
    "\n",
    "print(num_train_imgs)\n",
    "print(num_test_imgs)\n",
    "epochs=30"
   ]
  },
  {
   "cell_type": "code",
   "execution_count": 12,
   "metadata": {},
   "outputs": [
    {
     "name": "stdout",
     "output_type": "stream",
     "text": [
      "Epoch 1/30\n",
      "89/89 [==============================] - 31s 307ms/step - loss: 1.2825 - accuracy: 0.3890 - val_loss: 1.8503 - val_accuracy: 0.2344\n",
      "Epoch 2/30\n",
      "89/89 [==============================] - 8s 90ms/step - loss: 1.0348 - accuracy: 0.5567 - val_loss: 2.1667 - val_accuracy: 0.2292\n",
      "Epoch 3/30\n",
      "89/89 [==============================] - 8s 90ms/step - loss: 0.9163 - accuracy: 0.6089 - val_loss: 2.1827 - val_accuracy: 0.2760\n",
      "Epoch 4/30\n",
      "89/89 [==============================] - 8s 89ms/step - loss: 0.8130 - accuracy: 0.6596 - val_loss: 1.7626 - val_accuracy: 0.4479\n",
      "Epoch 5/30\n",
      "89/89 [==============================] - 8s 91ms/step - loss: 0.7355 - accuracy: 0.6970 - val_loss: 2.1149 - val_accuracy: 0.5156\n",
      "Epoch 6/30\n",
      "89/89 [==============================] - 8s 92ms/step - loss: 0.6996 - accuracy: 0.7132 - val_loss: 2.1882 - val_accuracy: 0.5026\n",
      "Epoch 7/30\n",
      "89/89 [==============================] - 8s 90ms/step - loss: 0.6349 - accuracy: 0.7505 - val_loss: 1.8027 - val_accuracy: 0.5260\n",
      "Epoch 8/30\n",
      "89/89 [==============================] - 8s 90ms/step - loss: 0.5615 - accuracy: 0.7798 - val_loss: 1.8058 - val_accuracy: 0.5182\n",
      "Epoch 9/30\n",
      "89/89 [==============================] - 8s 95ms/step - loss: 0.5186 - accuracy: 0.7896 - val_loss: 1.6830 - val_accuracy: 0.5286\n",
      "Epoch 10/30\n",
      "89/89 [==============================] - 9s 96ms/step - loss: 0.4613 - accuracy: 0.8238 - val_loss: 2.2007 - val_accuracy: 0.5547\n",
      "Epoch 11/30\n",
      "89/89 [==============================] - 9s 97ms/step - loss: 0.4659 - accuracy: 0.8104 - val_loss: 1.9430 - val_accuracy: 0.6042\n",
      "Epoch 12/30\n",
      "89/89 [==============================] - 11s 126ms/step - loss: 0.4121 - accuracy: 0.8421 - val_loss: 1.9194 - val_accuracy: 0.6016\n",
      "Epoch 13/30\n",
      "89/89 [==============================] - 13s 144ms/step - loss: 0.4104 - accuracy: 0.8383 - val_loss: 1.8677 - val_accuracy: 0.5964\n",
      "Epoch 14/30\n",
      "89/89 [==============================] - 10s 106ms/step - loss: 0.3887 - accuracy: 0.8450 - val_loss: 1.8558 - val_accuracy: 0.5859\n",
      "Epoch 15/30\n",
      "89/89 [==============================] - 8s 91ms/step - loss: 0.3513 - accuracy: 0.8608 - val_loss: 2.1286 - val_accuracy: 0.6224\n",
      "Epoch 16/30\n",
      "89/89 [==============================] - 8s 94ms/step - loss: 0.3300 - accuracy: 0.8661 - val_loss: 2.3452 - val_accuracy: 0.5885\n",
      "Epoch 17/30\n",
      "89/89 [==============================] - 9s 97ms/step - loss: 0.2996 - accuracy: 0.8872 - val_loss: 1.9235 - val_accuracy: 0.6719\n",
      "Epoch 18/30\n",
      "89/89 [==============================] - 9s 97ms/step - loss: 0.3158 - accuracy: 0.8798 - val_loss: 2.4268 - val_accuracy: 0.5755\n",
      "Epoch 19/30\n",
      "89/89 [==============================] - 9s 96ms/step - loss: 0.2951 - accuracy: 0.8820 - val_loss: 2.2849 - val_accuracy: 0.6641\n",
      "Epoch 20/30\n",
      "89/89 [==============================] - 9s 97ms/step - loss: 0.2841 - accuracy: 0.8929 - val_loss: 2.0331 - val_accuracy: 0.6510\n",
      "Epoch 21/30\n",
      "89/89 [==============================] - 9s 97ms/step - loss: 0.2645 - accuracy: 0.8996 - val_loss: 1.9905 - val_accuracy: 0.6771\n",
      "Epoch 22/30\n",
      "89/89 [==============================] - 9s 99ms/step - loss: 0.2745 - accuracy: 0.8964 - val_loss: 2.8997 - val_accuracy: 0.5703\n",
      "Epoch 23/30\n",
      "89/89 [==============================] - 9s 101ms/step - loss: 0.2668 - accuracy: 0.8975 - val_loss: 2.3132 - val_accuracy: 0.6198\n",
      "Epoch 24/30\n",
      "89/89 [==============================] - 8s 94ms/step - loss: 0.2460 - accuracy: 0.9042 - val_loss: 1.8500 - val_accuracy: 0.6823\n",
      "Epoch 25/30\n",
      "89/89 [==============================] - 8s 95ms/step - loss: 0.2331 - accuracy: 0.9172 - val_loss: 2.5522 - val_accuracy: 0.6953\n",
      "Epoch 26/30\n",
      "89/89 [==============================] - 9s 96ms/step - loss: 0.2350 - accuracy: 0.9098 - val_loss: 2.1408 - val_accuracy: 0.6615\n",
      "Epoch 27/30\n",
      "89/89 [==============================] - 8s 94ms/step - loss: 0.2214 - accuracy: 0.9147 - val_loss: 2.3288 - val_accuracy: 0.6745\n",
      "Epoch 28/30\n",
      "89/89 [==============================] - 8s 94ms/step - loss: 0.2068 - accuracy: 0.9200 - val_loss: 2.6745 - val_accuracy: 0.6797\n",
      "Epoch 29/30\n",
      "89/89 [==============================] - 9s 95ms/step - loss: 0.2050 - accuracy: 0.9260 - val_loss: 2.7293 - val_accuracy: 0.7057\n",
      "Epoch 30/30\n",
      "89/89 [==============================] - 8s 95ms/step - loss: 0.1932 - accuracy: 0.9295 - val_loss: 3.0333 - val_accuracy: 0.6771\n"
     ]
    }
   ],
   "source": [
    "history=model.fit(train_generator,\n",
    "                steps_per_epoch=num_train_imgs//32,\n",
    "                epochs=epochs,\n",
    "                validation_data=validation_generator,\n",
    "                validation_steps=num_test_imgs//32,\n",
    "                )"
   ]
  },
  {
   "cell_type": "code",
   "execution_count": 14,
   "metadata": {},
   "outputs": [
    {
     "name": "stdout",
     "output_type": "stream",
     "text": [
      "dict_keys(['loss', 'accuracy', 'val_loss', 'val_accuracy'])\n"
     ]
    },
    {
     "data": {
      "image/png": "[encoded data removed]",
      "text/plain": [
       "<Figure size 432x288 with 1 Axes>"
      ]
     },
     "metadata": {
      "needs_background": "light"
     },
     "output_type": "display_data"
    },
    {
     "data": {
      "image/png": "[encoded data removed]",
      "text/plain": [
       "<Figure size 432x288 with 1 Axes>"
      ]
     },
     "metadata": {
      "needs_background": "light"
     },
     "output_type": "display_data"
    }
   ],
   "source": [
    "# Visualize training history\n",
    "from tensorflow.keras.models import Sequential\n",
    "from tensorflow.keras.layers import Dense\n",
    "import matplotlib.pyplot as plt\n",
    "import numpy as np\n",
    "\n",
    "print(history.history.keys())\n",
    "\n",
    "plt.plot(history.history['accuracy'])\n",
    "plt.plot(history.history['val_accuracy'])\n",
    "plt.title('model accuracy')\n",
    "plt.ylabel('accuracy')\n",
    "plt.xlabel('epoch')\n",
    "plt.legend(['train', 'test'], loc='upper left')\n",
    "plt.show()\n",
    "# summarize history for loss\n",
    "plt.plot(history.history['loss'])\n",
    "plt.plot(history.history['val_loss'])\n",
    "plt.title('model loss')\n",
    "plt.ylabel('loss')\n",
    "plt.xlabel('epoch')\n",
    "plt.legend(['train', 'test'], loc='upper left')\n",
    "plt.show()"
   ]
  },
  {
   "cell_type": "code",
   "execution_count": 12,
   "metadata": {},
   "outputs": [],
   "source": [
    "model.save('model_file.h5')"
   ]
  },
  {
   "cell_type": "code",
   "execution_count": null,
   "metadata": {},
   "outputs": [],
   "source": []
  }
 ],
 "metadata": {
  "kernelspec": {
   "display_name": "keras",
   "language": "python",
   "name": "python3"
  },
  "language_info": {
   "codemirror_mode": {
    "name": "ipython",
    "version": 3
   },
   "file_extension": ".py",
   "mimetype": "text/x-python",
   "name": "python",
   "nbconvert_exporter": "python",
   "pygments_lexer": "ipython3",
   "version": "3.9.13"
  },
  "orig_nbformat": 4,
  "vscode": {
   "interpreter": {
    "hash": "95dd8ee0deed8cc372e9a4438de79f9189642dba5350a2fd5bed24c5f2e163ca"
   }
  }
 },
 "nbformat": 4,
 "nbformat_minor": 2
}
